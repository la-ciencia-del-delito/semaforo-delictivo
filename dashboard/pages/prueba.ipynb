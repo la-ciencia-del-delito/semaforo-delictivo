{
 "cells": [
  {
   "cell_type": "code",
   "execution_count": 2,
   "metadata": {},
   "outputs": [],
   "source": [
    "import pandas as pd\n",
    "import plotly.express as px\n",
    "from ipywidgets import widgets\n",
    "from IPython.display import display"
   ]
  },
  {
   "cell_type": "code",
   "execution_count": 2,
   "metadata": {},
   "outputs": [],
   "source": [
    "series_delitos_filtrables = pd.DataFrame({\n",
    "    'delito_semaforo': ['A', 'A', 'B', 'B', 'C', 'C'],\n",
    "    'entidad': ['X', 'Y', 'X', 'Y', 'X', 'Y'],\n",
    "    'incidentes': [10, 15, 8, 12, 20, 25]\n",
    "})"
   ]
  },
  {
   "cell_type": "code",
   "execution_count": 60,
   "metadata": {},
   "outputs": [],
   "source": [
    "def graficar(delito):\n",
    "    # ff.create_streamline\n",
    "    vista = series_delitos_filtrables[series_delitos_filtrables['delito_semaforo'] == delito]\n",
    "    print(vista)\n",
    "    # st.write(\"Vista\")\n",
    "    # st.write(vista)\n",
    "    # st.write(vista.index)\n",
    "    # st.write(vista.incidentes)\n",
    "    # st.write(vista.entidad)\n",
    "    fig = px.bar(vista, x=\"entidad\", y='incidentes', color=\"entidad\",\n",
    "                #  colors = [palette[0], palette[1]],\n",
    "    color_discrete_sequence=palette)\n",
    "    # fig.update_traces(visible='legendonly')\n",
    "    # st.plotly_chart(fig)\n",
    "    fig.show()"
   ]
  },
  {
   "cell_type": "code",
   "execution_count": 61,
   "metadata": {},
   "outputs": [],
   "source": [
    "palette = [\n",
    "    \"rgb(246, 246, 246)\",\n",
    "    \"rgb(252, 210, 186)\",\n",
    "    \"rgb(239, 147, 109)\",\n",
    "    \"rgb(203, 75, 61)\",\n",
    "    \"rgb(161, 0, 36)\",\n",
    "    \"rgb(87, 1, 25)\"\n",
    "\n",
    "    # \"rgb(179, 19, 18)\",\n",
    "    # \"rgb(234, 144, 108)\",\n",
    "    # \"rgb(238, 226, 222)\",\n",
    "]"
   ]
  },
  {
   "cell_type": "code",
   "execution_count": 7,
   "metadata": {},
   "outputs": [
    {
     "data": {
      "text/plain": [
       "['rgb(102,37,6)',\n",
       " 'rgb(153,52,4)',\n",
       " 'rgb(204,76,2)',\n",
       " 'rgb(236,112,20)',\n",
       " 'rgb(254,153,41)',\n",
       " 'rgb(254,196,79)',\n",
       " 'rgb(254,227,145)',\n",
       " 'rgb(255,247,188)',\n",
       " 'rgb(255,255,229)']"
      ]
     },
     "execution_count": 7,
     "metadata": {},
     "output_type": "execute_result"
    }
   ],
   "source": [
    "px.colors.sequential.YlOrBr_r"
   ]
  },
  {
   "cell_type": "code",
   "execution_count": 62,
   "metadata": {},
   "outputs": [
    {
     "data": {
      "text/plain": [
       "['rgb(133, 92, 117)',\n",
       " 'rgb(217, 175, 107)',\n",
       " 'rgb(175, 100, 88)',\n",
       " 'rgb(115, 111, 76)',\n",
       " 'rgb(82, 106, 131)',\n",
       " 'rgb(98, 83, 119)',\n",
       " 'rgb(104, 133, 92)',\n",
       " 'rgb(156, 156, 94)',\n",
       " 'rgb(160, 97, 119)',\n",
       " 'rgb(140, 120, 93)',\n",
       " 'rgb(124, 124, 124)']"
      ]
     },
     "execution_count": 62,
     "metadata": {},
     "output_type": "execute_result"
    }
   ],
   "source": [
    "px.colors.qualitative.Antique"
   ]
  },
  {
   "cell_type": "code",
   "execution_count": 63,
   "metadata": {},
   "outputs": [
    {
     "name": "stdout",
     "output_type": "stream",
     "text": [
      "  delito_semaforo entidad  incidentes\n",
      "0               A       X          10\n",
      "1               A       Y          15\n"
     ]
    },
    {
     "data": {
      "application/vnd.plotly.v1+json": {
       "config": {
        "plotlyServerURL": "https://plot.ly"
       },
       "data": [
        {
         "alignmentgroup": "True",
         "hovertemplate": "entidad=%{x}<br>incidentes=%{y}<extra></extra>",
         "legendgroup": "X",
         "marker": {
          "color": "rgb(179, 19, 18)",
          "pattern": {
           "shape": ""
          }
         },
         "name": "X",
         "offsetgroup": "X",
         "orientation": "v",
         "showlegend": true,
         "textposition": "auto",
         "type": "bar",
         "x": [
          "X"
         ],
         "xaxis": "x",
         "y": [
          10
         ],
         "yaxis": "y"
        },
        {
         "alignmentgroup": "True",
         "hovertemplate": "entidad=%{x}<br>incidentes=%{y}<extra></extra>",
         "legendgroup": "Y",
         "marker": {
          "color": "rgb(234, 144, 108)",
          "pattern": {
           "shape": ""
          }
         },
         "name": "Y",
         "offsetgroup": "Y",
         "orientation": "v",
         "showlegend": true,
         "textposition": "auto",
         "type": "bar",
         "x": [
          "Y"
         ],
         "xaxis": "x",
         "y": [
          15
         ],
         "yaxis": "y"
        }
       ],
       "layout": {
        "barmode": "relative",
        "legend": {
         "title": {
          "text": "entidad"
         },
         "tracegroupgap": 0
        },
        "margin": {
         "t": 60
        },
        "template": {
         "data": {
          "bar": [
           {
            "error_x": {
             "color": "#2a3f5f"
            },
            "error_y": {
             "color": "#2a3f5f"
            },
            "marker": {
             "line": {
              "color": "#E5ECF6",
              "width": 0.5
             },
             "pattern": {
              "fillmode": "overlay",
              "size": 10,
              "solidity": 0.2
             }
            },
            "type": "bar"
           }
          ],
          "barpolar": [
           {
            "marker": {
             "line": {
              "color": "#E5ECF6",
              "width": 0.5
             },
             "pattern": {
              "fillmode": "overlay",
              "size": 10,
              "solidity": 0.2
             }
            },
            "type": "barpolar"
           }
          ],
          "carpet": [
           {
            "aaxis": {
             "endlinecolor": "#2a3f5f",
             "gridcolor": "white",
             "linecolor": "white",
             "minorgridcolor": "white",
             "startlinecolor": "#2a3f5f"
            },
            "baxis": {
             "endlinecolor": "#2a3f5f",
             "gridcolor": "white",
             "linecolor": "white",
             "minorgridcolor": "white",
             "startlinecolor": "#2a3f5f"
            },
            "type": "carpet"
           }
          ],
          "choropleth": [
           {
            "colorbar": {
             "outlinewidth": 0,
             "ticks": ""
            },
            "type": "choropleth"
           }
          ],
          "contour": [
           {
            "colorbar": {
             "outlinewidth": 0,
             "ticks": ""
            },
            "colorscale": [
             [
              0,
              "#0d0887"
             ],
             [
              0.1111111111111111,
              "#46039f"
             ],
             [
              0.2222222222222222,
              "#7201a8"
             ],
             [
              0.3333333333333333,
              "#9c179e"
             ],
             [
              0.4444444444444444,
              "#bd3786"
             ],
             [
              0.5555555555555556,
              "#d8576b"
             ],
             [
              0.6666666666666666,
              "#ed7953"
             ],
             [
              0.7777777777777778,
              "#fb9f3a"
             ],
             [
              0.8888888888888888,
              "#fdca26"
             ],
             [
              1,
              "#f0f921"
             ]
            ],
            "type": "contour"
           }
          ],
          "contourcarpet": [
           {
            "colorbar": {
             "outlinewidth": 0,
             "ticks": ""
            },
            "type": "contourcarpet"
           }
          ],
          "heatmap": [
           {
            "colorbar": {
             "outlinewidth": 0,
             "ticks": ""
            },
            "colorscale": [
             [
              0,
              "#0d0887"
             ],
             [
              0.1111111111111111,
              "#46039f"
             ],
             [
              0.2222222222222222,
              "#7201a8"
             ],
             [
              0.3333333333333333,
              "#9c179e"
             ],
             [
              0.4444444444444444,
              "#bd3786"
             ],
             [
              0.5555555555555556,
              "#d8576b"
             ],
             [
              0.6666666666666666,
              "#ed7953"
             ],
             [
              0.7777777777777778,
              "#fb9f3a"
             ],
             [
              0.8888888888888888,
              "#fdca26"
             ],
             [
              1,
              "#f0f921"
             ]
            ],
            "type": "heatmap"
           }
          ],
          "heatmapgl": [
           {
            "colorbar": {
             "outlinewidth": 0,
             "ticks": ""
            },
            "colorscale": [
             [
              0,
              "#0d0887"
             ],
             [
              0.1111111111111111,
              "#46039f"
             ],
             [
              0.2222222222222222,
              "#7201a8"
             ],
             [
              0.3333333333333333,
              "#9c179e"
             ],
             [
              0.4444444444444444,
              "#bd3786"
             ],
             [
              0.5555555555555556,
              "#d8576b"
             ],
             [
              0.6666666666666666,
              "#ed7953"
             ],
             [
              0.7777777777777778,
              "#fb9f3a"
             ],
             [
              0.8888888888888888,
              "#fdca26"
             ],
             [
              1,
              "#f0f921"
             ]
            ],
            "type": "heatmapgl"
           }
          ],
          "histogram": [
           {
            "marker": {
             "pattern": {
              "fillmode": "overlay",
              "size": 10,
              "solidity": 0.2
             }
            },
            "type": "histogram"
           }
          ],
          "histogram2d": [
           {
            "colorbar": {
             "outlinewidth": 0,
             "ticks": ""
            },
            "colorscale": [
             [
              0,
              "#0d0887"
             ],
             [
              0.1111111111111111,
              "#46039f"
             ],
             [
              0.2222222222222222,
              "#7201a8"
             ],
             [
              0.3333333333333333,
              "#9c179e"
             ],
             [
              0.4444444444444444,
              "#bd3786"
             ],
             [
              0.5555555555555556,
              "#d8576b"
             ],
             [
              0.6666666666666666,
              "#ed7953"
             ],
             [
              0.7777777777777778,
              "#fb9f3a"
             ],
             [
              0.8888888888888888,
              "#fdca26"
             ],
             [
              1,
              "#f0f921"
             ]
            ],
            "type": "histogram2d"
           }
          ],
          "histogram2dcontour": [
           {
            "colorbar": {
             "outlinewidth": 0,
             "ticks": ""
            },
            "colorscale": [
             [
              0,
              "#0d0887"
             ],
             [
              0.1111111111111111,
              "#46039f"
             ],
             [
              0.2222222222222222,
              "#7201a8"
             ],
             [
              0.3333333333333333,
              "#9c179e"
             ],
             [
              0.4444444444444444,
              "#bd3786"
             ],
             [
              0.5555555555555556,
              "#d8576b"
             ],
             [
              0.6666666666666666,
              "#ed7953"
             ],
             [
              0.7777777777777778,
              "#fb9f3a"
             ],
             [
              0.8888888888888888,
              "#fdca26"
             ],
             [
              1,
              "#f0f921"
             ]
            ],
            "type": "histogram2dcontour"
           }
          ],
          "mesh3d": [
           {
            "colorbar": {
             "outlinewidth": 0,
             "ticks": ""
            },
            "type": "mesh3d"
           }
          ],
          "parcoords": [
           {
            "line": {
             "colorbar": {
              "outlinewidth": 0,
              "ticks": ""
             }
            },
            "type": "parcoords"
           }
          ],
          "pie": [
           {
            "automargin": true,
            "type": "pie"
           }
          ],
          "scatter": [
           {
            "fillpattern": {
             "fillmode": "overlay",
             "size": 10,
             "solidity": 0.2
            },
            "type": "scatter"
           }
          ],
          "scatter3d": [
           {
            "line": {
             "colorbar": {
              "outlinewidth": 0,
              "ticks": ""
             }
            },
            "marker": {
             "colorbar": {
              "outlinewidth": 0,
              "ticks": ""
             }
            },
            "type": "scatter3d"
           }
          ],
          "scattercarpet": [
           {
            "marker": {
             "colorbar": {
              "outlinewidth": 0,
              "ticks": ""
             }
            },
            "type": "scattercarpet"
           }
          ],
          "scattergeo": [
           {
            "marker": {
             "colorbar": {
              "outlinewidth": 0,
              "ticks": ""
             }
            },
            "type": "scattergeo"
           }
          ],
          "scattergl": [
           {
            "marker": {
             "colorbar": {
              "outlinewidth": 0,
              "ticks": ""
             }
            },
            "type": "scattergl"
           }
          ],
          "scattermapbox": [
           {
            "marker": {
             "colorbar": {
              "outlinewidth": 0,
              "ticks": ""
             }
            },
            "type": "scattermapbox"
           }
          ],
          "scatterpolar": [
           {
            "marker": {
             "colorbar": {
              "outlinewidth": 0,
              "ticks": ""
             }
            },
            "type": "scatterpolar"
           }
          ],
          "scatterpolargl": [
           {
            "marker": {
             "colorbar": {
              "outlinewidth": 0,
              "ticks": ""
             }
            },
            "type": "scatterpolargl"
           }
          ],
          "scatterternary": [
           {
            "marker": {
             "colorbar": {
              "outlinewidth": 0,
              "ticks": ""
             }
            },
            "type": "scatterternary"
           }
          ],
          "surface": [
           {
            "colorbar": {
             "outlinewidth": 0,
             "ticks": ""
            },
            "colorscale": [
             [
              0,
              "#0d0887"
             ],
             [
              0.1111111111111111,
              "#46039f"
             ],
             [
              0.2222222222222222,
              "#7201a8"
             ],
             [
              0.3333333333333333,
              "#9c179e"
             ],
             [
              0.4444444444444444,
              "#bd3786"
             ],
             [
              0.5555555555555556,
              "#d8576b"
             ],
             [
              0.6666666666666666,
              "#ed7953"
             ],
             [
              0.7777777777777778,
              "#fb9f3a"
             ],
             [
              0.8888888888888888,
              "#fdca26"
             ],
             [
              1,
              "#f0f921"
             ]
            ],
            "type": "surface"
           }
          ],
          "table": [
           {
            "cells": {
             "fill": {
              "color": "#EBF0F8"
             },
             "line": {
              "color": "white"
             }
            },
            "header": {
             "fill": {
              "color": "#C8D4E3"
             },
             "line": {
              "color": "white"
             }
            },
            "type": "table"
           }
          ]
         },
         "layout": {
          "annotationdefaults": {
           "arrowcolor": "#2a3f5f",
           "arrowhead": 0,
           "arrowwidth": 1
          },
          "autotypenumbers": "strict",
          "coloraxis": {
           "colorbar": {
            "outlinewidth": 0,
            "ticks": ""
           }
          },
          "colorscale": {
           "diverging": [
            [
             0,
             "#8e0152"
            ],
            [
             0.1,
             "#c51b7d"
            ],
            [
             0.2,
             "#de77ae"
            ],
            [
             0.3,
             "#f1b6da"
            ],
            [
             0.4,
             "#fde0ef"
            ],
            [
             0.5,
             "#f7f7f7"
            ],
            [
             0.6,
             "#e6f5d0"
            ],
            [
             0.7,
             "#b8e186"
            ],
            [
             0.8,
             "#7fbc41"
            ],
            [
             0.9,
             "#4d9221"
            ],
            [
             1,
             "#276419"
            ]
           ],
           "sequential": [
            [
             0,
             "#0d0887"
            ],
            [
             0.1111111111111111,
             "#46039f"
            ],
            [
             0.2222222222222222,
             "#7201a8"
            ],
            [
             0.3333333333333333,
             "#9c179e"
            ],
            [
             0.4444444444444444,
             "#bd3786"
            ],
            [
             0.5555555555555556,
             "#d8576b"
            ],
            [
             0.6666666666666666,
             "#ed7953"
            ],
            [
             0.7777777777777778,
             "#fb9f3a"
            ],
            [
             0.8888888888888888,
             "#fdca26"
            ],
            [
             1,
             "#f0f921"
            ]
           ],
           "sequentialminus": [
            [
             0,
             "#0d0887"
            ],
            [
             0.1111111111111111,
             "#46039f"
            ],
            [
             0.2222222222222222,
             "#7201a8"
            ],
            [
             0.3333333333333333,
             "#9c179e"
            ],
            [
             0.4444444444444444,
             "#bd3786"
            ],
            [
             0.5555555555555556,
             "#d8576b"
            ],
            [
             0.6666666666666666,
             "#ed7953"
            ],
            [
             0.7777777777777778,
             "#fb9f3a"
            ],
            [
             0.8888888888888888,
             "#fdca26"
            ],
            [
             1,
             "#f0f921"
            ]
           ]
          },
          "colorway": [
           "#636efa",
           "#EF553B",
           "#00cc96",
           "#ab63fa",
           "#FFA15A",
           "#19d3f3",
           "#FF6692",
           "#B6E880",
           "#FF97FF",
           "#FECB52"
          ],
          "font": {
           "color": "#2a3f5f"
          },
          "geo": {
           "bgcolor": "white",
           "lakecolor": "white",
           "landcolor": "#E5ECF6",
           "showlakes": true,
           "showland": true,
           "subunitcolor": "white"
          },
          "hoverlabel": {
           "align": "left"
          },
          "hovermode": "closest",
          "mapbox": {
           "style": "light"
          },
          "paper_bgcolor": "white",
          "plot_bgcolor": "#E5ECF6",
          "polar": {
           "angularaxis": {
            "gridcolor": "white",
            "linecolor": "white",
            "ticks": ""
           },
           "bgcolor": "#E5ECF6",
           "radialaxis": {
            "gridcolor": "white",
            "linecolor": "white",
            "ticks": ""
           }
          },
          "scene": {
           "xaxis": {
            "backgroundcolor": "#E5ECF6",
            "gridcolor": "white",
            "gridwidth": 2,
            "linecolor": "white",
            "showbackground": true,
            "ticks": "",
            "zerolinecolor": "white"
           },
           "yaxis": {
            "backgroundcolor": "#E5ECF6",
            "gridcolor": "white",
            "gridwidth": 2,
            "linecolor": "white",
            "showbackground": true,
            "ticks": "",
            "zerolinecolor": "white"
           },
           "zaxis": {
            "backgroundcolor": "#E5ECF6",
            "gridcolor": "white",
            "gridwidth": 2,
            "linecolor": "white",
            "showbackground": true,
            "ticks": "",
            "zerolinecolor": "white"
           }
          },
          "shapedefaults": {
           "line": {
            "color": "#2a3f5f"
           }
          },
          "ternary": {
           "aaxis": {
            "gridcolor": "white",
            "linecolor": "white",
            "ticks": ""
           },
           "baxis": {
            "gridcolor": "white",
            "linecolor": "white",
            "ticks": ""
           },
           "bgcolor": "#E5ECF6",
           "caxis": {
            "gridcolor": "white",
            "linecolor": "white",
            "ticks": ""
           }
          },
          "title": {
           "x": 0.05
          },
          "xaxis": {
           "automargin": true,
           "gridcolor": "white",
           "linecolor": "white",
           "ticks": "",
           "title": {
            "standoff": 15
           },
           "zerolinecolor": "white",
           "zerolinewidth": 2
          },
          "yaxis": {
           "automargin": true,
           "gridcolor": "white",
           "linecolor": "white",
           "ticks": "",
           "title": {
            "standoff": 15
           },
           "zerolinecolor": "white",
           "zerolinewidth": 2
          }
         }
        },
        "xaxis": {
         "anchor": "y",
         "categoryarray": [
          "X",
          "Y"
         ],
         "categoryorder": "array",
         "domain": [
          0,
          1
         ],
         "title": {
          "text": "entidad"
         }
        },
        "yaxis": {
         "anchor": "x",
         "domain": [
          0,
          1
         ],
         "title": {
          "text": "incidentes"
         }
        }
       }
      }
     },
     "metadata": {},
     "output_type": "display_data"
    }
   ],
   "source": [
    "graficar(\"A\")"
   ]
  },
  {
   "cell_type": "code",
   "execution_count": null,
   "metadata": {},
   "outputs": [],
   "source": []
  },
  {
   "cell_type": "code",
   "execution_count": 8,
   "metadata": {},
   "outputs": [],
   "source": [
    "import os\n",
    "import json\n",
    "from pathlib import Path\n",
    "\n",
    "import numpy as np\n",
    "import streamlit as st\n",
    "import pandas as pd\n",
    "import plotly.express as px"
   ]
  },
  {
   "cell_type": "code",
   "execution_count": 13,
   "metadata": {},
   "outputs": [],
   "source": [
    "ruta_actual = Path(os.getcwd())\n",
    "ruta_data = ruta_actual / \"../../data\"\n",
    "ruta_tidy = ruta_data / \"tidy\"\n",
    "\n",
    "kpi = pd.read_csv(ruta_tidy / \"tidy_final_combinado.csv\")"
   ]
  },
  {
   "cell_type": "code",
   "execution_count": 14,
   "metadata": {},
   "outputs": [
    {
     "data": {
      "text/html": [
       "<div>\n",
       "<style scoped>\n",
       "    .dataframe tbody tr th:only-of-type {\n",
       "        vertical-align: middle;\n",
       "    }\n",
       "\n",
       "    .dataframe tbody tr th {\n",
       "        vertical-align: top;\n",
       "    }\n",
       "\n",
       "    .dataframe thead th {\n",
       "        text-align: right;\n",
       "    }\n",
       "</style>\n",
       "<table border=\"1\" class=\"dataframe\">\n",
       "  <thead>\n",
       "    <tr style=\"text-align: right;\">\n",
       "      <th></th>\n",
       "      <th>AÑO</th>\n",
       "      <th>CVE_GEO</th>\n",
       "      <th>ENTIDAD</th>\n",
       "      <th>HOMBRES</th>\n",
       "      <th>MUJERES</th>\n",
       "      <th>POBLACION</th>\n",
       "      <th>PIRAMIDE</th>\n",
       "      <th>CUM_DIFF</th>\n",
       "      <th>DELITOS</th>\n",
       "      <th>TOTAL_DELITOS</th>\n",
       "      <th>PERCEPCION</th>\n",
       "      <th>TASA_DELICTIVA</th>\n",
       "      <th>KPI_IIC</th>\n",
       "      <th>KPI_IIC_Color</th>\n",
       "    </tr>\n",
       "  </thead>\n",
       "  <tbody>\n",
       "    <tr>\n",
       "      <th>0</th>\n",
       "      <td>2015</td>\n",
       "      <td>0</td>\n",
       "      <td>República Mexicana</td>\n",
       "      <td>59579638</td>\n",
       "      <td>62155178</td>\n",
       "      <td>121734816</td>\n",
       "      <td>{'HOMBRES': [5748190, 5837521, 5820057, 577246...</td>\n",
       "      <td>0.086343</td>\n",
       "      <td>{'Homicidios': 13666, 'Lesiones': 119595, 'Fem...</td>\n",
       "      <td>562971</td>\n",
       "      <td>73.2</td>\n",
       "      <td>462.5</td>\n",
       "      <td>41.2</td>\n",
       "      <td>2</td>\n",
       "    </tr>\n",
       "    <tr>\n",
       "      <th>1</th>\n",
       "      <td>2015</td>\n",
       "      <td>1</td>\n",
       "      <td>Aguascalientes</td>\n",
       "      <td>654661</td>\n",
       "      <td>678329</td>\n",
       "      <td>1332990</td>\n",
       "      <td>{'HOMBRES': [68053, 68220, 68545, 68714, 65678...</td>\n",
       "      <td>0.094859</td>\n",
       "      <td>{'Homicidios': 33, 'Lesiones': 1890, 'Feminici...</td>\n",
       "      <td>8001</td>\n",
       "      <td>43.2</td>\n",
       "      <td>600.2</td>\n",
       "      <td>57.8</td>\n",
       "      <td>3</td>\n",
       "    </tr>\n",
       "    <tr>\n",
       "      <th>2</th>\n",
       "      <td>2015</td>\n",
       "      <td>2</td>\n",
       "      <td>Baja California</td>\n",
       "      <td>1688929</td>\n",
       "      <td>1677852</td>\n",
       "      <td>3366781</td>\n",
       "      <td>{'HOMBRES': [146954, 158024, 160305, 162490, 1...</td>\n",
       "      <td>0.082247</td>\n",
       "      <td>{'Homicidios': 709, 'Lesiones': 9820, 'Feminic...</td>\n",
       "      <td>46402</td>\n",
       "      <td>53.2</td>\n",
       "      <td>1378.2</td>\n",
       "      <td>129.3</td>\n",
       "      <td>4</td>\n",
       "    </tr>\n",
       "    <tr>\n",
       "      <th>3</th>\n",
       "      <td>2015</td>\n",
       "      <td>3</td>\n",
       "      <td>Baja California Sur</td>\n",
       "      <td>367806</td>\n",
       "      <td>354293</td>\n",
       "      <td>722099</td>\n",
       "      <td>{'HOMBRES': [32587, 33681, 32869, 33769, 35513...</td>\n",
       "      <td>0.085290</td>\n",
       "      <td>{'Homicidios': 136, 'Lesiones': 1095, 'Feminic...</td>\n",
       "      <td>6337</td>\n",
       "      <td>61.8</td>\n",
       "      <td>877.6</td>\n",
       "      <td>78.5</td>\n",
       "      <td>3</td>\n",
       "    </tr>\n",
       "    <tr>\n",
       "      <th>4</th>\n",
       "      <td>2015</td>\n",
       "      <td>4</td>\n",
       "      <td>Campeche</td>\n",
       "      <td>451503</td>\n",
       "      <td>461588</td>\n",
       "      <td>913091</td>\n",
       "      <td>{'HOMBRES': [43809, 43150, 41871, 42649, 44018...</td>\n",
       "      <td>0.088083</td>\n",
       "      <td>{'Homicidios': 37, 'Lesiones': 86, 'Feminicidi...</td>\n",
       "      <td>705</td>\n",
       "      <td>53.7</td>\n",
       "      <td>77.2</td>\n",
       "      <td>8.9</td>\n",
       "      <td>1</td>\n",
       "    </tr>\n",
       "  </tbody>\n",
       "</table>\n",
       "</div>"
      ],
      "text/plain": [
       "    AÑO  CVE_GEO              ENTIDAD   HOMBRES   MUJERES  POBLACION  \\\n",
       "0  2015        0   República Mexicana  59579638  62155178  121734816   \n",
       "1  2015        1       Aguascalientes    654661    678329    1332990   \n",
       "2  2015        2      Baja California   1688929   1677852    3366781   \n",
       "3  2015        3  Baja California Sur    367806    354293     722099   \n",
       "4  2015        4             Campeche    451503    461588     913091   \n",
       "\n",
       "                                            PIRAMIDE  CUM_DIFF  \\\n",
       "0  {'HOMBRES': [5748190, 5837521, 5820057, 577246...  0.086343   \n",
       "1  {'HOMBRES': [68053, 68220, 68545, 68714, 65678...  0.094859   \n",
       "2  {'HOMBRES': [146954, 158024, 160305, 162490, 1...  0.082247   \n",
       "3  {'HOMBRES': [32587, 33681, 32869, 33769, 35513...  0.085290   \n",
       "4  {'HOMBRES': [43809, 43150, 41871, 42649, 44018...  0.088083   \n",
       "\n",
       "                                             DELITOS  TOTAL_DELITOS  \\\n",
       "0  {'Homicidios': 13666, 'Lesiones': 119595, 'Fem...         562971   \n",
       "1  {'Homicidios': 33, 'Lesiones': 1890, 'Feminici...           8001   \n",
       "2  {'Homicidios': 709, 'Lesiones': 9820, 'Feminic...          46402   \n",
       "3  {'Homicidios': 136, 'Lesiones': 1095, 'Feminic...           6337   \n",
       "4  {'Homicidios': 37, 'Lesiones': 86, 'Feminicidi...            705   \n",
       "\n",
       "   PERCEPCION  TASA_DELICTIVA  KPI_IIC  KPI_IIC_Color  \n",
       "0        73.2           462.5     41.2              2  \n",
       "1        43.2           600.2     57.8              3  \n",
       "2        53.2          1378.2    129.3              4  \n",
       "3        61.8           877.6     78.5              3  \n",
       "4        53.7            77.2      8.9              1  "
      ]
     },
     "execution_count": 14,
     "metadata": {},
     "output_type": "execute_result"
    }
   ],
   "source": [
    "kpi.head()"
   ]
  },
  {
   "cell_type": "code",
   "execution_count": 17,
   "metadata": {},
   "outputs": [
    {
     "data": {
      "text/plain": [
       "array([2, 3, 4, 1], dtype=int64)"
      ]
     },
     "execution_count": 17,
     "metadata": {},
     "output_type": "execute_result"
    }
   ],
   "source": [
    "kpi[\"KPI_IIC_Color\"].unique()\n",
    "# st.write(kpi[\"KPI_IIC_Color_rgb\"].unique())"
   ]
  },
  {
   "cell_type": "code",
   "execution_count": 30,
   "metadata": {},
   "outputs": [],
   "source": [
    "kpi[\"KPI_IIC_Color_rgb\"] = np.where(kpi[\"KPI_IIC_Color\"] == 1, \"rgb(252, 210, 186)\",\\\n",
    "                                    kpi[\"KPI_IIC_Color\"])\n",
    "kpi[\"KPI_IIC_Color_rgb\"] = np.where(kpi[\"KPI_IIC_Color_rgb\"].astype(int) == 2, \"rgb(239, 147, 109)\",\\\n",
    "                                    kpi[\"KPI_IIC_Color_rgb\"])\n",
    "kpi[\"KPI_IIC_Color_rgb\"] = np.where(kpi[\"KPI_IIC_Color_rgb\"].astype(int) == 3, \"rgb(238, 87, 51)\",\\\n",
    "                                    kpi[\"KPI_IIC_Color_rgb\"])\n",
    "kpi[\"KPI_IIC_Color_rgb\"] = np.where(kpi[\"KPI_IIC_Color_rgb\"].astype(int) == 4, \"rgb(161, 0, 36)\",\\\n",
    "                                    kpi[\"KPI_IIC_Color_rgb\"])"
   ]
  },
  {
   "cell_type": "code",
   "execution_count": 31,
   "metadata": {},
   "outputs": [
    {
     "data": {
      "text/plain": [
       "array(['2', '3', 'rgb(161, 0, 36)', '1'], dtype=object)"
      ]
     },
     "execution_count": 31,
     "metadata": {},
     "output_type": "execute_result"
    }
   ],
   "source": [
    "kpi[\"KPI_IIC_Color_rgb\"].unique()"
   ]
  },
  {
   "cell_type": "code",
   "execution_count": 32,
   "metadata": {},
   "outputs": [
    {
     "data": {
      "text/plain": [
       "array(['rgb(239, 147, 109)', '3', '4', '3', '1', 'rgb(239, 147, 109)',\n",
       "       'rgb(239, 147, 109)', '1', 'rgb(239, 147, 109)',\n",
       "       'rgb(239, 147, 109)', 'rgb(239, 147, 109)', 'rgb(239, 147, 109)',\n",
       "       'rgb(239, 147, 109)', '1', 'rgb(239, 147, 109)', '3',\n",
       "       'rgb(239, 147, 109)', '3', '1', 'rgb(239, 147, 109)', '1', '1',\n",
       "       'rgb(239, 147, 109)', '3', '1', 'rgb(239, 147, 109)',\n",
       "       'rgb(239, 147, 109)', 'rgb(239, 147, 109)', 'rgb(239, 147, 109)',\n",
       "       '1', '1', '1', 'rgb(239, 147, 109)', 'rgb(239, 147, 109)', '3',\n",
       "       '4', '3', '1', 'rgb(239, 147, 109)', '4', '1',\n",
       "       'rgb(239, 147, 109)', 'rgb(239, 147, 109)', 'rgb(239, 147, 109)',\n",
       "       'rgb(239, 147, 109)', 'rgb(239, 147, 109)', 'rgb(239, 147, 109)',\n",
       "       '3', 'rgb(239, 147, 109)', 'rgb(239, 147, 109)', '3', '1',\n",
       "       'rgb(239, 147, 109)', '1', '1', '3', 'rgb(239, 147, 109)',\n",
       "       'rgb(239, 147, 109)', 'rgb(239, 147, 109)', 'rgb(239, 147, 109)',\n",
       "       '3', 'rgb(239, 147, 109)', '1', '1', '1', 'rgb(239, 147, 109)',\n",
       "       'rgb(239, 147, 109)', '3', '4', '4', '1', 'rgb(239, 147, 109)',\n",
       "       '4', '1', '3', 'rgb(239, 147, 109)', 'rgb(239, 147, 109)',\n",
       "       'rgb(239, 147, 109)', 'rgb(239, 147, 109)', 'rgb(239, 147, 109)',\n",
       "       '3', 'rgb(239, 147, 109)', 'rgb(239, 147, 109)', '3', '1',\n",
       "       'rgb(239, 147, 109)', '1', 'rgb(239, 147, 109)', '3', '3',\n",
       "       'rgb(239, 147, 109)', 'rgb(239, 147, 109)', 'rgb(239, 147, 109)',\n",
       "       '3', 'rgb(239, 147, 109)', 'rgb(239, 147, 109)',\n",
       "       'rgb(239, 147, 109)', '1', 'rgb(239, 147, 109)',\n",
       "       'rgb(239, 147, 109)', '3', '4', '3', '1', 'rgb(239, 147, 109)',\n",
       "       '4', '1', '3', '3', 'rgb(239, 147, 109)', 'rgb(239, 147, 109)',\n",
       "       'rgb(239, 147, 109)', 'rgb(239, 147, 109)', '3', '3',\n",
       "       'rgb(239, 147, 109)', '3', '1', 'rgb(239, 147, 109)',\n",
       "       'rgb(239, 147, 109)', 'rgb(239, 147, 109)', '3', '3',\n",
       "       'rgb(239, 147, 109)', 'rgb(239, 147, 109)', 'rgb(239, 147, 109)',\n",
       "       '3', 'rgb(239, 147, 109)', '1', 'rgb(239, 147, 109)', '1',\n",
       "       'rgb(239, 147, 109)', 'rgb(239, 147, 109)', '3', '4', '3', '1',\n",
       "       'rgb(239, 147, 109)', '4', '1', '3', '3', 'rgb(239, 147, 109)',\n",
       "       '3', 'rgb(239, 147, 109)', 'rgb(239, 147, 109)', '3', '3',\n",
       "       'rgb(239, 147, 109)', '3', '1', 'rgb(239, 147, 109)',\n",
       "       'rgb(239, 147, 109)', 'rgb(239, 147, 109)', '3', '4',\n",
       "       'rgb(239, 147, 109)', 'rgb(239, 147, 109)', 'rgb(239, 147, 109)',\n",
       "       '3', 'rgb(239, 147, 109)', '1', 'rgb(239, 147, 109)', '1',\n",
       "       'rgb(239, 147, 109)', 'rgb(239, 147, 109)', '3', '3',\n",
       "       'rgb(239, 147, 109)', '1', 'rgb(239, 147, 109)', '3', '1', '3',\n",
       "       'rgb(239, 147, 109)', 'rgb(239, 147, 109)', '3', '1',\n",
       "       'rgb(239, 147, 109)', 'rgb(239, 147, 109)', 'rgb(239, 147, 109)',\n",
       "       'rgb(239, 147, 109)', '3', '1', 'rgb(239, 147, 109)', '1',\n",
       "       'rgb(239, 147, 109)', '3', '3', 'rgb(239, 147, 109)',\n",
       "       'rgb(239, 147, 109)', 'rgb(239, 147, 109)', 'rgb(239, 147, 109)',\n",
       "       '1', '1', 'rgb(239, 147, 109)', '1', 'rgb(239, 147, 109)',\n",
       "       'rgb(239, 147, 109)', 'rgb(239, 147, 109)', '3',\n",
       "       'rgb(239, 147, 109)', '1', 'rgb(239, 147, 109)', '4', '1', '3',\n",
       "       'rgb(239, 147, 109)', 'rgb(239, 147, 109)', '3', '1',\n",
       "       'rgb(239, 147, 109)', 'rgb(239, 147, 109)', 'rgb(239, 147, 109)',\n",
       "       'rgb(239, 147, 109)', '3', '1', 'rgb(239, 147, 109)', '1',\n",
       "       'rgb(239, 147, 109)', 'rgb(239, 147, 109)', '3',\n",
       "       'rgb(239, 147, 109)', 'rgb(239, 147, 109)', 'rgb(239, 147, 109)',\n",
       "       'rgb(239, 147, 109)', 'rgb(239, 147, 109)', '1',\n",
       "       'rgb(239, 147, 109)', '1', 'rgb(239, 147, 109)',\n",
       "       'rgb(239, 147, 109)', '3', '3', 'rgb(239, 147, 109)',\n",
       "       'rgb(239, 147, 109)', 'rgb(239, 147, 109)', '4', '1',\n",
       "       'rgb(239, 147, 109)', 'rgb(239, 147, 109)', 'rgb(239, 147, 109)',\n",
       "       '3', '1', 'rgb(239, 147, 109)', 'rgb(239, 147, 109)',\n",
       "       'rgb(239, 147, 109)', 'rgb(239, 147, 109)', '3', '1',\n",
       "       'rgb(239, 147, 109)', '1', 'rgb(239, 147, 109)', '3', '3',\n",
       "       'rgb(239, 147, 109)', 'rgb(239, 147, 109)', 'rgb(239, 147, 109)',\n",
       "       'rgb(239, 147, 109)', 'rgb(239, 147, 109)', '1',\n",
       "       'rgb(239, 147, 109)', '1', 'rgb(239, 147, 109)',\n",
       "       'rgb(239, 147, 109)', 'rgb(239, 147, 109)', '3',\n",
       "       'rgb(239, 147, 109)', 'rgb(239, 147, 109)', 'rgb(239, 147, 109)',\n",
       "       '3', '1', 'rgb(239, 147, 109)', 'rgb(239, 147, 109)', '1',\n",
       "       'rgb(239, 147, 109)', '1', '1', '1', 'rgb(239, 147, 109)', '1',\n",
       "       'rgb(239, 147, 109)', '1', '1', '1', '1', 'rgb(239, 147, 109)',\n",
       "       'rgb(239, 147, 109)', 'rgb(239, 147, 109)', '1', '1', '1', '1',\n",
       "       '1', '1', '1', '1'], dtype='<U21')"
      ]
     },
     "execution_count": 32,
     "metadata": {},
     "output_type": "execute_result"
    }
   ],
   "source": [
    "np.where(kpi[\"KPI_IIC_Color\"].astype(int) == 2, \"rgb(239, 147, 109)\",\\\n",
    "                                    kpi[\"KPI_IIC_Color\"])"
   ]
  }
 ],
 "metadata": {
  "kernelspec": {
   "display_name": "mcd",
   "language": "python",
   "name": "python3"
  },
  "language_info": {
   "codemirror_mode": {
    "name": "ipython",
    "version": 3
   },
   "file_extension": ".py",
   "mimetype": "text/x-python",
   "name": "python",
   "nbconvert_exporter": "python",
   "pygments_lexer": "ipython3",
   "version": "3.9.17"
  }
 },
 "nbformat": 4,
 "nbformat_minor": 2
}
