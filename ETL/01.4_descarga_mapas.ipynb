{
 "cells": [
  {
   "cell_type": "markdown",
   "metadata": {},
   "source": [
    "## Datos geograficos de Mexico a nivel estatal (CONAPO)\n",
    "Como propuesta para la mejora vizual del semaforo delictivo, utilizaremos gráficas de mapas para representar el estado actual de cada una de las entidades federativas."
   ]
  },
  {
   "cell_type": "code",
   "execution_count": 1,
   "metadata": {},
   "outputs": [],
   "source": [
    "import os\n",
    "from pathlib import Path\n",
    "from datetime import datetime\n",
    "import urllib.request as ur\n",
    "import zipfile\n",
    "\n",
    "import geopandas as gpd"
   ]
  },
  {
   "cell_type": "markdown",
   "metadata": {},
   "source": [
    "## 1. Establecer rutas base"
   ]
  },
  {
   "cell_type": "code",
   "execution_count": 2,
   "metadata": {},
   "outputs": [
    {
     "name": "stdout",
     "output_type": "stream",
     "text": [
      "Directorio actual:\n",
      "c:\\Users\\mcd\\Desktop\\Semáforo Delitctivo\\LocalWork\\ETL\n"
     ]
    }
   ],
   "source": [
    "# Definamos el path base donde almacenaremos nuestros datos\n",
    "print(f\"Directorio actual:\\n{os.getcwd()}\")\n",
    "datos_path = Path(r\"./data/\") # Carpeta data desde el dir actual\n",
    "\n",
    "# El nombre con el que se almacenarán los datos\n",
    "nombre_zip_mapas = \"data_mapa_mexico.zip\"\n",
    "mapas_path = datos_path / \"conjunto_de_datos\"\n",
    "\n",
    "# URL de los mapas\n",
    "url_datos_geograficos = 'https://www.inegi.org.mx/contenidos/productos/prod_serv/contenidos/espanol/bvinegi/productos/geografia/marcogeo/889463142683_s.zip'"
   ]
  },
  {
   "cell_type": "markdown",
   "metadata": {},
   "source": [
    "## 2. Descarga de los datos"
   ]
  },
  {
   "cell_type": "code",
   "execution_count": 3,
   "metadata": {},
   "outputs": [],
   "source": [
    "if not os.path.exists(datos_path / nombre_zip_mapas):\n",
    "    ur.urlretrieve(url_datos_geograficos, datos_path / nombre_zip_mapas)\n",
    "\n",
    "#extraemos archivos necesarios shp, shx, cpg, dbf y prj (todos se necesitan aunque solo se lea el shp)\n",
    "with zipfile.ZipFile(datos_path / nombre_zip_mapas) as archivo:\n",
    "    #descargamos archivos de entidades\n",
    "    nombre_base = 'conjunto_de_datos/areas_geoestadisticas_estatales'\n",
    "    archivo.extract(member = f'{nombre_base}.shp', path=datos_path)\n",
    "    archivo.extract(member = f'{nombre_base}.CPG', path=datos_path)\n",
    "    archivo.extract(member = f'{nombre_base}.shx', path=datos_path)\n",
    "    archivo.extract(member = f'{nombre_base}.dbf', path=datos_path)\n",
    "    archivo.extract(member = f'{nombre_base}.prj', path=datos_path)\n",
    "\n",
    "# Creamos  archivo .txt para dar detalles de la descarga\n",
    "with open(datos_path / \"info_04_mapa.txt\", 'w') as f:\n",
    "\n",
    "    lista_archivos = [\n",
    "        \"data_mapa_mexico.zip.zip\"\n",
    "    ]\n",
    "\n",
    "    fecha_hoy = datetime.now()\n",
    "    fecha_hoy_str = fecha_hoy.strftime(\"%Y-%m-%d %H:%M:%S\")\n",
    "\n",
    "    f.write(\"Datos de geografia de mexico\\n\")\n",
    "    info = \"\"\"\n",
    "Poligonos y multigonos de los estados de México, realizados por el INEGI\n",
    "\"\"\"\n",
    "    f.write(info + '\\n')\n",
    "    f.write(f\"Descargado el {fecha_hoy_str} \\n\")\n",
    "    f.write(f\"Desde: {url_datos_geograficos}\\n\")\n",
    "    f.write(\"Archivos descargados:\\n\")\n",
    "    for i, a in enumerate(lista_archivos, start=1):\n",
    "        f.write(f\"\\t{i}. {a}\")"
   ]
  },
  {
   "cell_type": "markdown",
   "metadata": {},
   "source": [
    "## 3. Comprobar descarga\n",
    "Comprobar que se han almacenado los datos"
   ]
  },
  {
   "cell_type": "code",
   "execution_count": 4,
   "metadata": {},
   "outputs": [
    {
     "name": "stdout",
     "output_type": "stream",
     "text": [
      "Archivos en la ruta data\\conjunto_de_datos:\n",
      "1. areas_geoestadisticas_estatales.CPG\n",
      "2. areas_geoestadisticas_estatales.dbf\n",
      "3. areas_geoestadisticas_estatales.prj\n",
      "4. areas_geoestadisticas_estatales.shp\n",
      "5. areas_geoestadisticas_estatales.shx\n"
     ]
    }
   ],
   "source": [
    "print(f\"Archivos en la ruta {mapas_path}:\")\n",
    "for i, f in enumerate(os.listdir(mapas_path), start=1):\n",
    "    print(f\"{i}. {f}\")"
   ]
  },
  {
   "cell_type": "code",
   "execution_count": null,
   "metadata": {},
   "outputs": [],
   "source": []
  }
 ],
 "metadata": {
  "kernelspec": {
   "display_name": "mcd",
   "language": "python",
   "name": "python3"
  },
  "language_info": {
   "codemirror_mode": {
    "name": "ipython",
    "version": 3
   },
   "file_extension": ".py",
   "mimetype": "text/x-python",
   "name": "python",
   "nbconvert_exporter": "python",
   "pygments_lexer": "ipython3",
   "version": "3.11.3"
  }
 },
 "nbformat": 4,
 "nbformat_minor": 2
}
