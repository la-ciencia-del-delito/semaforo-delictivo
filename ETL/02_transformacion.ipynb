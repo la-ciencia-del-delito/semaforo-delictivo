{
  "cells": [
    {
      "cell_type": "markdown",
      "metadata": {},
      "source": [
        "# Extrae los archivos descargados y genera los tidy"
      ]
    },
    {
      "cell_type": "code",
      "execution_count": 11,
      "metadata": {},
      "outputs": [],
      "source": [
        "# Importando las librerías...\n",
        "\n",
        "# Manejar rutas\n",
        "from pathlib import Path\n",
        "\n",
        "# Cargar y transformar datos\n",
        "import pandas as pd\n",
        "import numpy as np\n",
        "\n",
        "# Visualización\n",
        "import matplotlib.pyplot as plt\n",
        "import seaborn as sns\n",
        "import ipywidgets as widgets\n",
        "import plotly.graph_objects as go\n",
        "\n",
        "%matplotlib widget\n",
        "%matplotlib inline\n",
        "\n",
        "# Manejo de valores faltantes\n",
        "import missingno as msno"
      ]
    },
    {
      "cell_type": "code",
      "execution_count": 12,
      "metadata": {},
      "outputs": [],
      "source": [
        "# Establecer las rutas para acceder a nuestros datos...\n",
        "\n",
        "data_path = Path('./data')\n",
        "data_path.mkdir(parents=True, exist_ok=True)\n",
        "\n",
        "# Crear carpeta de datos Tidy...\n",
        "tidy_data_path = Path(data_path / 'tidy')\n",
        "tidy_data_path.mkdir(parents=True, exist_ok=True)"
      ]
    },
    {
      "cell_type": "code",
      "execution_count": 13,
      "metadata": {},
      "outputs": [
        {
          "name": "stdout",
          "output_type": "stream",
          "text": [
            "data\n"
          ]
        }
      ],
      "source": [
        "print(data_path)"
      ]
    },
    {
      "cell_type": "markdown",
      "metadata": {},
      "source": [
        "# 1. Proyecciones de población de la CONAPO\n",
        "Se carga el CSV de proyección de poblacion desde el año 1950 hasta el 2070.  \n",
        "Puede tardar un poco ya que es un archivo con más de 744 mil registros"
      ]
    },
    {
      "cell_type": "code",
      "execution_count": 14,
      "metadata": {},
      "outputs": [],
      "source": [
        "df_proyecciones = pd.read_excel(data_path / \"0_Pob_Inicio_1950_2070.xlsx\")"
      ]
    },
    {
      "cell_type": "code",
      "execution_count": 15,
      "metadata": {},
      "outputs": [
        {
          "data": {
            "text/html": [
              "<div>\n",
              "<style scoped>\n",
              "    .dataframe tbody tr th:only-of-type {\n",
              "        vertical-align: middle;\n",
              "    }\n",
              "\n",
              "    .dataframe tbody tr th {\n",
              "        vertical-align: top;\n",
              "    }\n",
              "\n",
              "    .dataframe thead th {\n",
              "        text-align: right;\n",
              "    }\n",
              "</style>\n",
              "<table border=\"1\" class=\"dataframe\">\n",
              "  <thead>\n",
              "    <tr style=\"text-align: right;\">\n",
              "      <th></th>\n",
              "      <th>RENGLON</th>\n",
              "      <th>AÑO</th>\n",
              "      <th>CVE_GEO</th>\n",
              "      <th>EDAD</th>\n",
              "      <th>POBLACION</th>\n",
              "    </tr>\n",
              "  </thead>\n",
              "  <tbody>\n",
              "    <tr>\n",
              "      <th>count</th>\n",
              "      <td>744920.0000</td>\n",
              "      <td>744920.000000</td>\n",
              "      <td>744920.000000</td>\n",
              "      <td>744920.000000</td>\n",
              "      <td>7.449200e+05</td>\n",
              "    </tr>\n",
              "    <tr>\n",
              "      <th>mean</th>\n",
              "      <td>372460.5000</td>\n",
              "      <td>2020.139693</td>\n",
              "      <td>15.905493</td>\n",
              "      <td>54.500000</td>\n",
              "      <td>3.289038e+04</td>\n",
              "    </tr>\n",
              "    <tr>\n",
              "      <th>std</th>\n",
              "      <td>215040.0256</td>\n",
              "      <td>29.729490</td>\n",
              "      <td>9.572587</td>\n",
              "      <td>31.752974</td>\n",
              "      <td>1.160257e+05</td>\n",
              "    </tr>\n",
              "    <tr>\n",
              "      <th>min</th>\n",
              "      <td>1.0000</td>\n",
              "      <td>1950.000000</td>\n",
              "      <td>0.000000</td>\n",
              "      <td>0.000000</td>\n",
              "      <td>0.000000e+00</td>\n",
              "    </tr>\n",
              "    <tr>\n",
              "      <th>25%</th>\n",
              "      <td>186230.7500</td>\n",
              "      <td>1995.000000</td>\n",
              "      <td>8.000000</td>\n",
              "      <td>27.000000</td>\n",
              "      <td>2.017000e+03</td>\n",
              "    </tr>\n",
              "    <tr>\n",
              "      <th>50%</th>\n",
              "      <td>372460.5000</td>\n",
              "      <td>2020.000000</td>\n",
              "      <td>16.000000</td>\n",
              "      <td>54.500000</td>\n",
              "      <td>1.018200e+04</td>\n",
              "    </tr>\n",
              "    <tr>\n",
              "      <th>75%</th>\n",
              "      <td>558690.2500</td>\n",
              "      <td>2046.000000</td>\n",
              "      <td>24.000000</td>\n",
              "      <td>82.000000</td>\n",
              "      <td>2.435625e+04</td>\n",
              "    </tr>\n",
              "    <tr>\n",
              "      <th>max</th>\n",
              "      <td>744920.0000</td>\n",
              "      <td>2071.000000</td>\n",
              "      <td>32.000000</td>\n",
              "      <td>109.000000</td>\n",
              "      <td>1.260813e+06</td>\n",
              "    </tr>\n",
              "  </tbody>\n",
              "</table>\n",
              "</div>"
            ],
            "text/plain": [
              "           RENGLON            AÑO        CVE_GEO           EDAD     POBLACION\n",
              "count  744920.0000  744920.000000  744920.000000  744920.000000  7.449200e+05\n",
              "mean   372460.5000    2020.139693      15.905493      54.500000  3.289038e+04\n",
              "std    215040.0256      29.729490       9.572587      31.752974  1.160257e+05\n",
              "min         1.0000    1950.000000       0.000000       0.000000  0.000000e+00\n",
              "25%    186230.7500    1995.000000       8.000000      27.000000  2.017000e+03\n",
              "50%    372460.5000    2020.000000      16.000000      54.500000  1.018200e+04\n",
              "75%    558690.2500    2046.000000      24.000000      82.000000  2.435625e+04\n",
              "max    744920.0000    2071.000000      32.000000     109.000000  1.260813e+06"
            ]
          },
          "execution_count": 15,
          "metadata": {},
          "output_type": "execute_result"
        }
      ],
      "source": [
        "df_proyecciones.describe()"
      ]
    },
    {
      "cell_type": "code",
      "execution_count": 16,
      "metadata": {},
      "outputs": [
        {
          "name": "stdout",
          "output_type": "stream",
          "text": [
            "<class 'pandas.core.frame.DataFrame'>\n",
            "RangeIndex: 744920 entries, 0 to 744919\n",
            "Data columns (total 7 columns):\n",
            " #   Column     Non-Null Count   Dtype \n",
            "---  ------     --------------   ----- \n",
            " 0   RENGLON    744920 non-null  int64 \n",
            " 1   AÑO        744920 non-null  int64 \n",
            " 2   ENTIDAD    744920 non-null  object\n",
            " 3   CVE_GEO    744920 non-null  int64 \n",
            " 4   EDAD       744920 non-null  int64 \n",
            " 5   SEXO       744920 non-null  object\n",
            " 6   POBLACION  744920 non-null  int64 \n",
            "dtypes: int64(5), object(2)\n",
            "memory usage: 39.8+ MB\n"
          ]
        }
      ],
      "source": [
        "df_proyecciones.info()"
      ]
    },
    {
      "cell_type": "code",
      "execution_count": 17,
      "metadata": {},
      "outputs": [
        {
          "data": {
            "text/html": [
              "<div>\n",
              "<style scoped>\n",
              "    .dataframe tbody tr th:only-of-type {\n",
              "        vertical-align: middle;\n",
              "    }\n",
              "\n",
              "    .dataframe tbody tr th {\n",
              "        vertical-align: top;\n",
              "    }\n",
              "\n",
              "    .dataframe thead th {\n",
              "        text-align: right;\n",
              "    }\n",
              "</style>\n",
              "<table border=\"1\" class=\"dataframe\">\n",
              "  <thead>\n",
              "    <tr style=\"text-align: right;\">\n",
              "      <th></th>\n",
              "      <th>AÑO</th>\n",
              "      <th>ENTIDAD</th>\n",
              "      <th>CVE_GEO</th>\n",
              "      <th>EDAD</th>\n",
              "      <th>SEXO</th>\n",
              "      <th>POBLACION</th>\n",
              "    </tr>\n",
              "  </thead>\n",
              "  <tbody>\n",
              "    <tr>\n",
              "      <th>0</th>\n",
              "      <td>1950</td>\n",
              "      <td>República Mexicana</td>\n",
              "      <td>0</td>\n",
              "      <td>0</td>\n",
              "      <td>Hombres</td>\n",
              "      <td>577250</td>\n",
              "    </tr>\n",
              "    <tr>\n",
              "      <th>1</th>\n",
              "      <td>1950</td>\n",
              "      <td>República Mexicana</td>\n",
              "      <td>0</td>\n",
              "      <td>0</td>\n",
              "      <td>Mujeres</td>\n",
              "      <td>564734</td>\n",
              "    </tr>\n",
              "    <tr>\n",
              "      <th>2</th>\n",
              "      <td>1950</td>\n",
              "      <td>República Mexicana</td>\n",
              "      <td>0</td>\n",
              "      <td>1</td>\n",
              "      <td>Hombres</td>\n",
              "      <td>520692</td>\n",
              "    </tr>\n",
              "    <tr>\n",
              "      <th>3</th>\n",
              "      <td>1950</td>\n",
              "      <td>República Mexicana</td>\n",
              "      <td>0</td>\n",
              "      <td>1</td>\n",
              "      <td>Mujeres</td>\n",
              "      <td>511958</td>\n",
              "    </tr>\n",
              "    <tr>\n",
              "      <th>4</th>\n",
              "      <td>1950</td>\n",
              "      <td>República Mexicana</td>\n",
              "      <td>0</td>\n",
              "      <td>2</td>\n",
              "      <td>Hombres</td>\n",
              "      <td>487298</td>\n",
              "    </tr>\n",
              "    <tr>\n",
              "      <th>...</th>\n",
              "      <td>...</td>\n",
              "      <td>...</td>\n",
              "      <td>...</td>\n",
              "      <td>...</td>\n",
              "      <td>...</td>\n",
              "      <td>...</td>\n",
              "    </tr>\n",
              "    <tr>\n",
              "      <th>744915</th>\n",
              "      <td>2071</td>\n",
              "      <td>Zacatecas</td>\n",
              "      <td>32</td>\n",
              "      <td>107</td>\n",
              "      <td>Mujeres</td>\n",
              "      <td>44</td>\n",
              "    </tr>\n",
              "    <tr>\n",
              "      <th>744916</th>\n",
              "      <td>2071</td>\n",
              "      <td>Zacatecas</td>\n",
              "      <td>32</td>\n",
              "      <td>108</td>\n",
              "      <td>Hombres</td>\n",
              "      <td>75</td>\n",
              "    </tr>\n",
              "    <tr>\n",
              "      <th>744917</th>\n",
              "      <td>2071</td>\n",
              "      <td>Zacatecas</td>\n",
              "      <td>32</td>\n",
              "      <td>108</td>\n",
              "      <td>Mujeres</td>\n",
              "      <td>26</td>\n",
              "    </tr>\n",
              "    <tr>\n",
              "      <th>744918</th>\n",
              "      <td>2071</td>\n",
              "      <td>Zacatecas</td>\n",
              "      <td>32</td>\n",
              "      <td>109</td>\n",
              "      <td>Hombres</td>\n",
              "      <td>50</td>\n",
              "    </tr>\n",
              "    <tr>\n",
              "      <th>744919</th>\n",
              "      <td>2071</td>\n",
              "      <td>Zacatecas</td>\n",
              "      <td>32</td>\n",
              "      <td>109</td>\n",
              "      <td>Mujeres</td>\n",
              "      <td>15</td>\n",
              "    </tr>\n",
              "  </tbody>\n",
              "</table>\n",
              "<p>744920 rows × 6 columns</p>\n",
              "</div>"
            ],
            "text/plain": [
              "         AÑO             ENTIDAD  CVE_GEO  EDAD     SEXO  POBLACION\n",
              "0       1950  República Mexicana        0     0  Hombres     577250\n",
              "1       1950  República Mexicana        0     0  Mujeres     564734\n",
              "2       1950  República Mexicana        0     1  Hombres     520692\n",
              "3       1950  República Mexicana        0     1  Mujeres     511958\n",
              "4       1950  República Mexicana        0     2  Hombres     487298\n",
              "...      ...                 ...      ...   ...      ...        ...\n",
              "744915  2071           Zacatecas       32   107  Mujeres         44\n",
              "744916  2071           Zacatecas       32   108  Hombres         75\n",
              "744917  2071           Zacatecas       32   108  Mujeres         26\n",
              "744918  2071           Zacatecas       32   109  Hombres         50\n",
              "744919  2071           Zacatecas       32   109  Mujeres         15\n",
              "\n",
              "[744920 rows x 6 columns]"
            ]
          },
          "execution_count": 17,
          "metadata": {},
          "output_type": "execute_result"
        }
      ],
      "source": [
        "df_proyecciones = df_proyecciones.drop(\"RENGLON\", axis = 1)\n",
        "df_proyecciones"
      ]
    },
    {
      "cell_type": "markdown",
      "metadata": {},
      "source": [
        "### Diccionario de datos de proyección de población\n",
        "<div align=\"center\">\n",
        "\n",
        "|  variable |  tipo de dato |  descripción | valores nulos |\n",
        "|-----------|---------------|--------------|--------------|\n",
        "| AÑO       | int           | Año referente a la población    | Ninguno |\n",
        "| ENTIDAD   | str           | Nombre del estado    | Ninguno |\n",
        "| CVE_GEO   | int           | Clave del estado por defecto    |Ninguno |\n",
        "| SEXO      | str           | sexo en hombre o mujer    |Ninguno |\n",
        "| EDAD      | int           | edad de la población   |Ninguno |\n",
        "| POBLACION | int           | poblacion total de personas que cumplen las variables anteriores   |Ninguno |"
      ]
    },
    {
      "cell_type": "code",
      "execution_count": 18,
      "metadata": {},
      "outputs": [
        {
          "name": "stdout",
          "output_type": "stream",
          "text": [
            "Del 2015 al 2023 - Todas las Unidades Federeativas...\n"
          ]
        },
        {
          "data": {
            "text/html": [
              "<div>\n",
              "<style scoped>\n",
              "    .dataframe tbody tr th:only-of-type {\n",
              "        vertical-align: middle;\n",
              "    }\n",
              "\n",
              "    .dataframe tbody tr th {\n",
              "        vertical-align: top;\n",
              "    }\n",
              "\n",
              "    .dataframe thead th {\n",
              "        text-align: right;\n",
              "    }\n",
              "</style>\n",
              "<table border=\"1\" class=\"dataframe\">\n",
              "  <thead>\n",
              "    <tr style=\"text-align: right;\">\n",
              "      <th></th>\n",
              "      <th></th>\n",
              "      <th>POBLACION</th>\n",
              "    </tr>\n",
              "    <tr>\n",
              "      <th>AÑO</th>\n",
              "      <th>CVE_GEO</th>\n",
              "      <th></th>\n",
              "    </tr>\n",
              "  </thead>\n",
              "  <tbody>\n",
              "    <tr>\n",
              "      <th rowspan=\"5\" valign=\"top\">2015</th>\n",
              "      <th>0</th>\n",
              "      <td>121734816</td>\n",
              "    </tr>\n",
              "    <tr>\n",
              "      <th>1</th>\n",
              "      <td>1332990</td>\n",
              "    </tr>\n",
              "    <tr>\n",
              "      <th>2</th>\n",
              "      <td>3366781</td>\n",
              "    </tr>\n",
              "    <tr>\n",
              "      <th>3</th>\n",
              "      <td>722099</td>\n",
              "    </tr>\n",
              "    <tr>\n",
              "      <th>4</th>\n",
              "      <td>913091</td>\n",
              "    </tr>\n",
              "    <tr>\n",
              "      <th>...</th>\n",
              "      <th>...</th>\n",
              "      <td>...</td>\n",
              "    </tr>\n",
              "    <tr>\n",
              "      <th rowspan=\"5\" valign=\"top\">2023</th>\n",
              "      <th>28</th>\n",
              "      <td>3669309</td>\n",
              "    </tr>\n",
              "    <tr>\n",
              "      <th>29</th>\n",
              "      <td>1404030</td>\n",
              "    </tr>\n",
              "    <tr>\n",
              "      <th>30</th>\n",
              "      <td>8132954</td>\n",
              "    </tr>\n",
              "    <tr>\n",
              "      <th>31</th>\n",
              "      <td>2436635</td>\n",
              "    </tr>\n",
              "    <tr>\n",
              "      <th>32</th>\n",
              "      <td>1675298</td>\n",
              "    </tr>\n",
              "  </tbody>\n",
              "</table>\n",
              "<p>297 rows × 1 columns</p>\n",
              "</div>"
            ],
            "text/plain": [
              "              POBLACION\n",
              "AÑO  CVE_GEO           \n",
              "2015 0        121734816\n",
              "     1          1332990\n",
              "     2          3366781\n",
              "     3           722099\n",
              "     4           913091\n",
              "...                 ...\n",
              "2023 28         3669309\n",
              "     29         1404030\n",
              "     30         8132954\n",
              "     31         2436635\n",
              "     32         1675298\n",
              "\n",
              "[297 rows x 1 columns]"
            ]
          },
          "execution_count": 18,
          "metadata": {},
          "output_type": "execute_result"
        }
      ],
      "source": [
        "# Consultar la población de de todos los años desde el 2016 al 2023...\n",
        "pob_anhos = (df_proyecciones.loc[(df_proyecciones[\"AÑO\"] >= 2015) &\n",
        "                                (df_proyecciones[\"AÑO\"] <= 2023), [\"AÑO\",\"CVE_GEO\",\"POBLACION\"]]\n",
        "                                .groupby([\"AÑO\",\"CVE_GEO\"]).sum())\n",
        "print(\"Del 2015 al 2023 - Todas las Unidades Federeativas...\")\n",
        "pob_anhos"
      ]
    },
    {
      "cell_type": "code",
      "execution_count": 19,
      "metadata": {},
      "outputs": [],
      "source": [
        "# Para EDA, evaluar luego pirámide poblacional...\n",
        "grupos_etarios = {1: '0 a 4',\n",
        "                  2: '5 a 9',\n",
        "                  3: '10 a 14',\n",
        "                  4: '15 a 19',\n",
        "                  5: '20 a 24',\n",
        "                  6: '25 a 29',\n",
        "                  7: '30 a 34',\n",
        "                  8: '35 a 39',\n",
        "                  9: '40 a 44',\n",
        "                  10: '45 a 49',\n",
        "                  11: '50 a 54',\n",
        "                  12: '55 a 59',\n",
        "                  13: '60 a 64',\n",
        "                  14: '65 a 69',\n",
        "                  15: '70 a 74',\n",
        "                  16: '75 a 79',\n",
        "                  17: '80 a 84',\n",
        "                  18: '85 y más',\n",
        "                  }"
      ]
    },
    {
      "cell_type": "code",
      "execution_count": 20,
      "metadata": {},
      "outputs": [],
      "source": [
        "# Creamos una copia de proyecciones donde se trabajará con Grupos etarios... Para Pirámides poblacionales...\n",
        "df_piramides = df_proyecciones.copy()\n",
        "\n",
        "# Agregamos la Columna para almacenar el Grupo etario...\n",
        "df_piramides[\"GRUPO\"] = 0\n",
        "\n",
        "# Reordenamos las columnas...\n",
        "df_piramides = df_piramides[[\"AÑO\", \"ENTIDAD\", \"CVE_GEO\", \"EDAD\", \"GRUPO\", \"SEXO\", \"POBLACION\"]]"
      ]
    },
    {
      "cell_type": "code",
      "execution_count": 21,
      "metadata": {},
      "outputs": [
        {
          "data": {
            "text/html": [
              "<div>\n",
              "<style scoped>\n",
              "    .dataframe tbody tr th:only-of-type {\n",
              "        vertical-align: middle;\n",
              "    }\n",
              "\n",
              "    .dataframe tbody tr th {\n",
              "        vertical-align: top;\n",
              "    }\n",
              "\n",
              "    .dataframe thead th {\n",
              "        text-align: right;\n",
              "    }\n",
              "</style>\n",
              "<table border=\"1\" class=\"dataframe\">\n",
              "  <thead>\n",
              "    <tr style=\"text-align: right;\">\n",
              "      <th></th>\n",
              "      <th>AÑO</th>\n",
              "      <th>ENTIDAD</th>\n",
              "      <th>CVE_GEO</th>\n",
              "      <th>EDAD</th>\n",
              "      <th>GRUPO</th>\n",
              "      <th>SEXO</th>\n",
              "      <th>POBLACION</th>\n",
              "    </tr>\n",
              "  </thead>\n",
              "  <tbody>\n",
              "    <tr>\n",
              "      <th>331100</th>\n",
              "      <td>2015</td>\n",
              "      <td>República Mexicana</td>\n",
              "      <td>0</td>\n",
              "      <td>0</td>\n",
              "      <td>0 a 4</td>\n",
              "      <td>Hombres</td>\n",
              "      <td>1134441</td>\n",
              "    </tr>\n",
              "    <tr>\n",
              "      <th>331101</th>\n",
              "      <td>2015</td>\n",
              "      <td>República Mexicana</td>\n",
              "      <td>0</td>\n",
              "      <td>0</td>\n",
              "      <td>0 a 4</td>\n",
              "      <td>Mujeres</td>\n",
              "      <td>1093705</td>\n",
              "    </tr>\n",
              "    <tr>\n",
              "      <th>331102</th>\n",
              "      <td>2015</td>\n",
              "      <td>República Mexicana</td>\n",
              "      <td>0</td>\n",
              "      <td>1</td>\n",
              "      <td>0 a 4</td>\n",
              "      <td>Hombres</td>\n",
              "      <td>1138096</td>\n",
              "    </tr>\n",
              "    <tr>\n",
              "      <th>331103</th>\n",
              "      <td>2015</td>\n",
              "      <td>República Mexicana</td>\n",
              "      <td>0</td>\n",
              "      <td>1</td>\n",
              "      <td>0 a 4</td>\n",
              "      <td>Mujeres</td>\n",
              "      <td>1097638</td>\n",
              "    </tr>\n",
              "    <tr>\n",
              "      <th>331104</th>\n",
              "      <td>2015</td>\n",
              "      <td>República Mexicana</td>\n",
              "      <td>0</td>\n",
              "      <td>2</td>\n",
              "      <td>0 a 4</td>\n",
              "      <td>Hombres</td>\n",
              "      <td>1145745</td>\n",
              "    </tr>\n",
              "    <tr>\n",
              "      <th>...</th>\n",
              "      <td>...</td>\n",
              "      <td>...</td>\n",
              "      <td>...</td>\n",
              "      <td>...</td>\n",
              "      <td>...</td>\n",
              "      <td>...</td>\n",
              "      <td>...</td>\n",
              "    </tr>\n",
              "    <tr>\n",
              "      <th>396435</th>\n",
              "      <td>2023</td>\n",
              "      <td>Zacatecas</td>\n",
              "      <td>32</td>\n",
              "      <td>107</td>\n",
              "      <td>85 y más</td>\n",
              "      <td>Mujeres</td>\n",
              "      <td>2</td>\n",
              "    </tr>\n",
              "    <tr>\n",
              "      <th>396436</th>\n",
              "      <td>2023</td>\n",
              "      <td>Zacatecas</td>\n",
              "      <td>32</td>\n",
              "      <td>108</td>\n",
              "      <td>85 y más</td>\n",
              "      <td>Hombres</td>\n",
              "      <td>2</td>\n",
              "    </tr>\n",
              "    <tr>\n",
              "      <th>396437</th>\n",
              "      <td>2023</td>\n",
              "      <td>Zacatecas</td>\n",
              "      <td>32</td>\n",
              "      <td>108</td>\n",
              "      <td>85 y más</td>\n",
              "      <td>Mujeres</td>\n",
              "      <td>0</td>\n",
              "    </tr>\n",
              "    <tr>\n",
              "      <th>396438</th>\n",
              "      <td>2023</td>\n",
              "      <td>Zacatecas</td>\n",
              "      <td>32</td>\n",
              "      <td>109</td>\n",
              "      <td>85 y más</td>\n",
              "      <td>Hombres</td>\n",
              "      <td>1</td>\n",
              "    </tr>\n",
              "    <tr>\n",
              "      <th>396439</th>\n",
              "      <td>2023</td>\n",
              "      <td>Zacatecas</td>\n",
              "      <td>32</td>\n",
              "      <td>109</td>\n",
              "      <td>85 y más</td>\n",
              "      <td>Mujeres</td>\n",
              "      <td>0</td>\n",
              "    </tr>\n",
              "  </tbody>\n",
              "</table>\n",
              "<p>65340 rows × 7 columns</p>\n",
              "</div>"
            ],
            "text/plain": [
              "         AÑO             ENTIDAD  CVE_GEO  EDAD     GRUPO     SEXO  POBLACION\n",
              "331100  2015  República Mexicana        0     0     0 a 4  Hombres    1134441\n",
              "331101  2015  República Mexicana        0     0     0 a 4  Mujeres    1093705\n",
              "331102  2015  República Mexicana        0     1     0 a 4  Hombres    1138096\n",
              "331103  2015  República Mexicana        0     1     0 a 4  Mujeres    1097638\n",
              "331104  2015  República Mexicana        0     2     0 a 4  Hombres    1145745\n",
              "...      ...                 ...      ...   ...       ...      ...        ...\n",
              "396435  2023           Zacatecas       32   107  85 y más  Mujeres          2\n",
              "396436  2023           Zacatecas       32   108  85 y más  Hombres          2\n",
              "396437  2023           Zacatecas       32   108  85 y más  Mujeres          0\n",
              "396438  2023           Zacatecas       32   109  85 y más  Hombres          1\n",
              "396439  2023           Zacatecas       32   109  85 y más  Mujeres          0\n",
              "\n",
              "[65340 rows x 7 columns]"
            ]
          },
          "execution_count": 21,
          "metadata": {},
          "output_type": "execute_result"
        }
      ],
      "source": [
        "# Dando los valores a los grupos etarios...\n",
        "edad_cero = df_piramides[\"EDAD\"] == 0\n",
        "edad_mayor85 = df_piramides[\"EDAD\"] >= 85\n",
        "\n",
        "df_piramides.loc[edad_cero, \"GRUPO\"] = 1\n",
        "df_piramides.loc[~edad_cero,  \"GRUPO\"] = df_piramides[\"EDAD\"] // 5 + 1\n",
        "df_piramides.loc[edad_mayor85,  \"GRUPO\"] = 18\n",
        "\n",
        "# Cambiando los valores por etiquetas para graficar...\n",
        "df_piramides[\"GRUPO\"] = df_piramides[\"GRUPO\"].map(grupos_etarios)\n",
        "\n",
        "# Limitamos a las poblaciones desde el 2015 al 2023...\n",
        "pop_2015_2023 = (df_piramides[\"AÑO\"] >= 2015) & (df_piramides[\"AÑO\"] <= 2023)\n",
        "df_piramides = df_piramides[pop_2015_2023]\n",
        "\n",
        "df_piramides"
      ]
    },
    {
      "cell_type": "code",
      "execution_count": 22,
      "metadata": {},
      "outputs": [],
      "source": [
        "# Crear el Archivo tidy para trabajar...\n",
        "df_piramides.to_csv(tidy_data_path / \"proyecciones_conapo.csv\", index=False)"
      ]
    },
    {
      "cell_type": "code",
      "execution_count": 23,
      "metadata": {},
      "outputs": [
        {
          "data": {
            "text/html": [
              "<div>\n",
              "<style scoped>\n",
              "    .dataframe tbody tr th:only-of-type {\n",
              "        vertical-align: middle;\n",
              "    }\n",
              "\n",
              "    .dataframe tbody tr th {\n",
              "        vertical-align: top;\n",
              "    }\n",
              "\n",
              "    .dataframe thead th {\n",
              "        text-align: right;\n",
              "    }\n",
              "</style>\n",
              "<table border=\"1\" class=\"dataframe\">\n",
              "  <thead>\n",
              "    <tr style=\"text-align: right;\">\n",
              "      <th></th>\n",
              "      <th></th>\n",
              "      <th>POBLACION</th>\n",
              "    </tr>\n",
              "    <tr>\n",
              "      <th>GRUPO</th>\n",
              "      <th>SEXO</th>\n",
              "      <th></th>\n",
              "    </tr>\n",
              "  </thead>\n",
              "  <tbody>\n",
              "    <tr>\n",
              "      <th rowspan=\"2\" valign=\"top\">0 a 4</th>\n",
              "      <th>Hombres</th>\n",
              "      <td>5302794</td>\n",
              "    </tr>\n",
              "    <tr>\n",
              "      <th>Mujeres</th>\n",
              "      <td>5111446</td>\n",
              "    </tr>\n",
              "    <tr>\n",
              "      <th rowspan=\"2\" valign=\"top\">10 a 14</th>\n",
              "      <th>Hombres</th>\n",
              "      <td>5755183</td>\n",
              "    </tr>\n",
              "    <tr>\n",
              "      <th>Mujeres</th>\n",
              "      <td>5548855</td>\n",
              "    </tr>\n",
              "    <tr>\n",
              "      <th rowspan=\"2\" valign=\"top\">15 a 19</th>\n",
              "      <th>Hombres</th>\n",
              "      <td>5699745</td>\n",
              "    </tr>\n",
              "    <tr>\n",
              "      <th>Mujeres</th>\n",
              "      <td>5565159</td>\n",
              "    </tr>\n",
              "    <tr>\n",
              "      <th rowspan=\"2\" valign=\"top\">20 a 24</th>\n",
              "      <th>Hombres</th>\n",
              "      <td>5656809</td>\n",
              "    </tr>\n",
              "    <tr>\n",
              "      <th>Mujeres</th>\n",
              "      <td>5589713</td>\n",
              "    </tr>\n",
              "    <tr>\n",
              "      <th rowspan=\"2\" valign=\"top\">25 a 29</th>\n",
              "      <th>Hombres</th>\n",
              "      <td>5456502</td>\n",
              "    </tr>\n",
              "    <tr>\n",
              "      <th>Mujeres</th>\n",
              "      <td>5462331</td>\n",
              "    </tr>\n",
              "    <tr>\n",
              "      <th rowspan=\"2\" valign=\"top\">30 a 34</th>\n",
              "      <th>Hombres</th>\n",
              "      <td>5128604</td>\n",
              "    </tr>\n",
              "    <tr>\n",
              "      <th>Mujeres</th>\n",
              "      <td>5269345</td>\n",
              "    </tr>\n",
              "    <tr>\n",
              "      <th rowspan=\"2\" valign=\"top\">35 a 39</th>\n",
              "      <th>Hombres</th>\n",
              "      <td>4461141</td>\n",
              "    </tr>\n",
              "    <tr>\n",
              "      <th>Mujeres</th>\n",
              "      <td>4853878</td>\n",
              "    </tr>\n",
              "    <tr>\n",
              "      <th rowspan=\"2\" valign=\"top\">40 a 44</th>\n",
              "      <th>Hombres</th>\n",
              "      <td>3794214</td>\n",
              "    </tr>\n",
              "    <tr>\n",
              "      <th>Mujeres</th>\n",
              "      <td>4452137</td>\n",
              "    </tr>\n",
              "    <tr>\n",
              "      <th rowspan=\"2\" valign=\"top\">45 a 49</th>\n",
              "      <th>Hombres</th>\n",
              "      <td>3639280</td>\n",
              "    </tr>\n",
              "    <tr>\n",
              "      <th>Mujeres</th>\n",
              "      <td>4239229</td>\n",
              "    </tr>\n",
              "    <tr>\n",
              "      <th rowspan=\"2\" valign=\"top\">5 a 9</th>\n",
              "      <th>Hombres</th>\n",
              "      <td>5480803</td>\n",
              "    </tr>\n",
              "    <tr>\n",
              "      <th>Mujeres</th>\n",
              "      <td>5281378</td>\n",
              "    </tr>\n",
              "    <tr>\n",
              "      <th rowspan=\"2\" valign=\"top\">50 a 54</th>\n",
              "      <th>Hombres</th>\n",
              "      <td>3382531</td>\n",
              "    </tr>\n",
              "    <tr>\n",
              "      <th>Mujeres</th>\n",
              "      <td>3801484</td>\n",
              "    </tr>\n",
              "    <tr>\n",
              "      <th rowspan=\"2\" valign=\"top\">55 a 59</th>\n",
              "      <th>Hombres</th>\n",
              "      <td>2910303</td>\n",
              "    </tr>\n",
              "    <tr>\n",
              "      <th>Mujeres</th>\n",
              "      <td>3222708</td>\n",
              "    </tr>\n",
              "    <tr>\n",
              "      <th rowspan=\"2\" valign=\"top\">60 a 64</th>\n",
              "      <th>Hombres</th>\n",
              "      <td>2341387</td>\n",
              "    </tr>\n",
              "    <tr>\n",
              "      <th>Mujeres</th>\n",
              "      <td>2611480</td>\n",
              "    </tr>\n",
              "    <tr>\n",
              "      <th rowspan=\"2\" valign=\"top\">65 a 69</th>\n",
              "      <th>Hombres</th>\n",
              "      <td>1741021</td>\n",
              "    </tr>\n",
              "    <tr>\n",
              "      <th>Mujeres</th>\n",
              "      <td>1980902</td>\n",
              "    </tr>\n",
              "    <tr>\n",
              "      <th rowspan=\"2\" valign=\"top\">70 a 74</th>\n",
              "      <th>Hombres</th>\n",
              "      <td>1225427</td>\n",
              "    </tr>\n",
              "    <tr>\n",
              "      <th>Mujeres</th>\n",
              "      <td>1425582</td>\n",
              "    </tr>\n",
              "    <tr>\n",
              "      <th rowspan=\"2\" valign=\"top\">75 a 79</th>\n",
              "      <th>Hombres</th>\n",
              "      <td>869740</td>\n",
              "    </tr>\n",
              "    <tr>\n",
              "      <th>Mujeres</th>\n",
              "      <td>1037149</td>\n",
              "    </tr>\n",
              "    <tr>\n",
              "      <th rowspan=\"2\" valign=\"top\">80 a 84</th>\n",
              "      <th>Hombres</th>\n",
              "      <td>541763</td>\n",
              "    </tr>\n",
              "    <tr>\n",
              "      <th>Mujeres</th>\n",
              "      <td>668625</td>\n",
              "    </tr>\n",
              "    <tr>\n",
              "      <th rowspan=\"2\" valign=\"top\">85 y más</th>\n",
              "      <th>Hombres</th>\n",
              "      <td>461925</td>\n",
              "    </tr>\n",
              "    <tr>\n",
              "      <th>Mujeres</th>\n",
              "      <td>585083</td>\n",
              "    </tr>\n",
              "  </tbody>\n",
              "</table>\n",
              "</div>"
            ],
            "text/plain": [
              "                  POBLACION\n",
              "GRUPO    SEXO              \n",
              "0 a 4    Hombres    5302794\n",
              "         Mujeres    5111446\n",
              "10 a 14  Hombres    5755183\n",
              "         Mujeres    5548855\n",
              "15 a 19  Hombres    5699745\n",
              "         Mujeres    5565159\n",
              "20 a 24  Hombres    5656809\n",
              "         Mujeres    5589713\n",
              "25 a 29  Hombres    5456502\n",
              "         Mujeres    5462331\n",
              "30 a 34  Hombres    5128604\n",
              "         Mujeres    5269345\n",
              "35 a 39  Hombres    4461141\n",
              "         Mujeres    4853878\n",
              "40 a 44  Hombres    3794214\n",
              "         Mujeres    4452137\n",
              "45 a 49  Hombres    3639280\n",
              "         Mujeres    4239229\n",
              "5 a 9    Hombres    5480803\n",
              "         Mujeres    5281378\n",
              "50 a 54  Hombres    3382531\n",
              "         Mujeres    3801484\n",
              "55 a 59  Hombres    2910303\n",
              "         Mujeres    3222708\n",
              "60 a 64  Hombres    2341387\n",
              "         Mujeres    2611480\n",
              "65 a 69  Hombres    1741021\n",
              "         Mujeres    1980902\n",
              "70 a 74  Hombres    1225427\n",
              "         Mujeres    1425582\n",
              "75 a 79  Hombres     869740\n",
              "         Mujeres    1037149\n",
              "80 a 84  Hombres     541763\n",
              "         Mujeres     668625\n",
              "85 y más Hombres     461925\n",
              "         Mujeres     585083"
            ]
          },
          "execution_count": 23,
          "metadata": {},
          "output_type": "execute_result"
        }
      ],
      "source": [
        "# Ejemplo de como filtrar por población y entidad federativa...\n",
        "# df_piramides = pd.read_csv(tidy_data_path / \"proyecciones_conapo.csv\")\n",
        "df_pob_graf = (df_piramides.loc[(df_piramides[\"AÑO\"] == 2023) & (df_piramides[\"ENTIDAD\"] == \"República Mexicana\"), [\"GRUPO\", \"SEXO\", \"POBLACION\"]].groupby([\"GRUPO\", \"SEXO\"]).sum())\n",
        "df_pob_graf"
      ]
    },
    {
      "cell_type": "code",
      "execution_count": 24,
      "metadata": {},
      "outputs": [
        {
          "data": {
            "application/vnd.plotly.v1+json": {
              "config": {
                "plotlyServerURL": "https://plot.ly"
              },
              "data": [
                {
                  "marker": {
                    "color": "blue"
                  },
                  "name": "Hombres",
                  "orientation": "h",
                  "type": "bar",
                  "x": [
                    5748190,
                    5837521,
                    5820057,
                    5772464,
                    5634166,
                    5007049,
                    4226569,
                    3842628,
                    3736479,
                    3332399,
                    2840610,
                    2268314,
                    1717850,
                    1345608,
                    1007671,
                    684722,
                    425314,
                    332027
                  ],
                  "y": [
                    "0 a 4",
                    "5 a 9",
                    "10 a 14",
                    "15 a 19",
                    "20 a 24",
                    "25 a 29",
                    "30 a 34",
                    "35 a 39",
                    "40 a 44",
                    "45 a 49",
                    "50 a 54",
                    "55 a 59",
                    "60 a 64",
                    "65 a 69",
                    "70 a 74",
                    "75 a 79",
                    "80 a 84",
                    "85 y más"
                  ]
                },
                {
                  "marker": {
                    "color": "pink"
                  },
                  "name": "Mujeres",
                  "orientation": "h",
                  "type": "bar",
                  "x": [
                    -5543337,
                    -5655389,
                    -5692796,
                    -5660128,
                    -5595657,
                    -5175469,
                    -4739481,
                    -4442647,
                    -4167185,
                    -3614605,
                    -3065020,
                    -2464617,
                    -1891079,
                    -1501775,
                    -1154010,
                    -815433,
                    -528049,
                    -448501
                  ],
                  "y": [
                    "0 a 4",
                    "5 a 9",
                    "10 a 14",
                    "15 a 19",
                    "20 a 24",
                    "25 a 29",
                    "30 a 34",
                    "35 a 39",
                    "40 a 44",
                    "45 a 49",
                    "50 a 54",
                    "55 a 59",
                    "60 a 64",
                    "65 a 69",
                    "70 a 74",
                    "75 a 79",
                    "80 a 84",
                    "85 y más"
                  ]
                }
              ],
              "layout": {
                "bargap": 0.1,
                "barmode": "overlay",
                "height": 600,
                "plot_bgcolor": "white",
                "template": {
                  "data": {
                    "bar": [
                      {
                        "error_x": {
                          "color": "#2a3f5f"
                        },
                        "error_y": {
                          "color": "#2a3f5f"
                        },
                        "marker": {
                          "line": {
                            "color": "#E5ECF6",
                            "width": 0.5
                          },
                          "pattern": {
                            "fillmode": "overlay",
                            "size": 10,
                            "solidity": 0.2
                          }
                        },
                        "type": "bar"
                      }
                    ],
                    "barpolar": [
                      {
                        "marker": {
                          "line": {
                            "color": "#E5ECF6",
                            "width": 0.5
                          },
                          "pattern": {
                            "fillmode": "overlay",
                            "size": 10,
                            "solidity": 0.2
                          }
                        },
                        "type": "barpolar"
                      }
                    ],
                    "carpet": [
                      {
                        "aaxis": {
                          "endlinecolor": "#2a3f5f",
                          "gridcolor": "white",
                          "linecolor": "white",
                          "minorgridcolor": "white",
                          "startlinecolor": "#2a3f5f"
                        },
                        "baxis": {
                          "endlinecolor": "#2a3f5f",
                          "gridcolor": "white",
                          "linecolor": "white",
                          "minorgridcolor": "white",
                          "startlinecolor": "#2a3f5f"
                        },
                        "type": "carpet"
                      }
                    ],
                    "choropleth": [
                      {
                        "colorbar": {
                          "outlinewidth": 0,
                          "ticks": ""
                        },
                        "type": "choropleth"
                      }
                    ],
                    "contour": [
                      {
                        "colorbar": {
                          "outlinewidth": 0,
                          "ticks": ""
                        },
                        "colorscale": [
                          [
                            0,
                            "#0d0887"
                          ],
                          [
                            0.1111111111111111,
                            "#46039f"
                          ],
                          [
                            0.2222222222222222,
                            "#7201a8"
                          ],
                          [
                            0.3333333333333333,
                            "#9c179e"
                          ],
                          [
                            0.4444444444444444,
                            "#bd3786"
                          ],
                          [
                            0.5555555555555556,
                            "#d8576b"
                          ],
                          [
                            0.6666666666666666,
                            "#ed7953"
                          ],
                          [
                            0.7777777777777778,
                            "#fb9f3a"
                          ],
                          [
                            0.8888888888888888,
                            "#fdca26"
                          ],
                          [
                            1,
                            "#f0f921"
                          ]
                        ],
                        "type": "contour"
                      }
                    ],
                    "contourcarpet": [
                      {
                        "colorbar": {
                          "outlinewidth": 0,
                          "ticks": ""
                        },
                        "type": "contourcarpet"
                      }
                    ],
                    "heatmap": [
                      {
                        "colorbar": {
                          "outlinewidth": 0,
                          "ticks": ""
                        },
                        "colorscale": [
                          [
                            0,
                            "#0d0887"
                          ],
                          [
                            0.1111111111111111,
                            "#46039f"
                          ],
                          [
                            0.2222222222222222,
                            "#7201a8"
                          ],
                          [
                            0.3333333333333333,
                            "#9c179e"
                          ],
                          [
                            0.4444444444444444,
                            "#bd3786"
                          ],
                          [
                            0.5555555555555556,
                            "#d8576b"
                          ],
                          [
                            0.6666666666666666,
                            "#ed7953"
                          ],
                          [
                            0.7777777777777778,
                            "#fb9f3a"
                          ],
                          [
                            0.8888888888888888,
                            "#fdca26"
                          ],
                          [
                            1,
                            "#f0f921"
                          ]
                        ],
                        "type": "heatmap"
                      }
                    ],
                    "heatmapgl": [
                      {
                        "colorbar": {
                          "outlinewidth": 0,
                          "ticks": ""
                        },
                        "colorscale": [
                          [
                            0,
                            "#0d0887"
                          ],
                          [
                            0.1111111111111111,
                            "#46039f"
                          ],
                          [
                            0.2222222222222222,
                            "#7201a8"
                          ],
                          [
                            0.3333333333333333,
                            "#9c179e"
                          ],
                          [
                            0.4444444444444444,
                            "#bd3786"
                          ],
                          [
                            0.5555555555555556,
                            "#d8576b"
                          ],
                          [
                            0.6666666666666666,
                            "#ed7953"
                          ],
                          [
                            0.7777777777777778,
                            "#fb9f3a"
                          ],
                          [
                            0.8888888888888888,
                            "#fdca26"
                          ],
                          [
                            1,
                            "#f0f921"
                          ]
                        ],
                        "type": "heatmapgl"
                      }
                    ],
                    "histogram": [
                      {
                        "marker": {
                          "pattern": {
                            "fillmode": "overlay",
                            "size": 10,
                            "solidity": 0.2
                          }
                        },
                        "type": "histogram"
                      }
                    ],
                    "histogram2d": [
                      {
                        "colorbar": {
                          "outlinewidth": 0,
                          "ticks": ""
                        },
                        "colorscale": [
                          [
                            0,
                            "#0d0887"
                          ],
                          [
                            0.1111111111111111,
                            "#46039f"
                          ],
                          [
                            0.2222222222222222,
                            "#7201a8"
                          ],
                          [
                            0.3333333333333333,
                            "#9c179e"
                          ],
                          [
                            0.4444444444444444,
                            "#bd3786"
                          ],
                          [
                            0.5555555555555556,
                            "#d8576b"
                          ],
                          [
                            0.6666666666666666,
                            "#ed7953"
                          ],
                          [
                            0.7777777777777778,
                            "#fb9f3a"
                          ],
                          [
                            0.8888888888888888,
                            "#fdca26"
                          ],
                          [
                            1,
                            "#f0f921"
                          ]
                        ],
                        "type": "histogram2d"
                      }
                    ],
                    "histogram2dcontour": [
                      {
                        "colorbar": {
                          "outlinewidth": 0,
                          "ticks": ""
                        },
                        "colorscale": [
                          [
                            0,
                            "#0d0887"
                          ],
                          [
                            0.1111111111111111,
                            "#46039f"
                          ],
                          [
                            0.2222222222222222,
                            "#7201a8"
                          ],
                          [
                            0.3333333333333333,
                            "#9c179e"
                          ],
                          [
                            0.4444444444444444,
                            "#bd3786"
                          ],
                          [
                            0.5555555555555556,
                            "#d8576b"
                          ],
                          [
                            0.6666666666666666,
                            "#ed7953"
                          ],
                          [
                            0.7777777777777778,
                            "#fb9f3a"
                          ],
                          [
                            0.8888888888888888,
                            "#fdca26"
                          ],
                          [
                            1,
                            "#f0f921"
                          ]
                        ],
                        "type": "histogram2dcontour"
                      }
                    ],
                    "mesh3d": [
                      {
                        "colorbar": {
                          "outlinewidth": 0,
                          "ticks": ""
                        },
                        "type": "mesh3d"
                      }
                    ],
                    "parcoords": [
                      {
                        "line": {
                          "colorbar": {
                            "outlinewidth": 0,
                            "ticks": ""
                          }
                        },
                        "type": "parcoords"
                      }
                    ],
                    "pie": [
                      {
                        "automargin": true,
                        "type": "pie"
                      }
                    ],
                    "scatter": [
                      {
                        "fillpattern": {
                          "fillmode": "overlay",
                          "size": 10,
                          "solidity": 0.2
                        },
                        "type": "scatter"
                      }
                    ],
                    "scatter3d": [
                      {
                        "line": {
                          "colorbar": {
                            "outlinewidth": 0,
                            "ticks": ""
                          }
                        },
                        "marker": {
                          "colorbar": {
                            "outlinewidth": 0,
                            "ticks": ""
                          }
                        },
                        "type": "scatter3d"
                      }
                    ],
                    "scattercarpet": [
                      {
                        "marker": {
                          "colorbar": {
                            "outlinewidth": 0,
                            "ticks": ""
                          }
                        },
                        "type": "scattercarpet"
                      }
                    ],
                    "scattergeo": [
                      {
                        "marker": {
                          "colorbar": {
                            "outlinewidth": 0,
                            "ticks": ""
                          }
                        },
                        "type": "scattergeo"
                      }
                    ],
                    "scattergl": [
                      {
                        "marker": {
                          "colorbar": {
                            "outlinewidth": 0,
                            "ticks": ""
                          }
                        },
                        "type": "scattergl"
                      }
                    ],
                    "scattermapbox": [
                      {
                        "marker": {
                          "colorbar": {
                            "outlinewidth": 0,
                            "ticks": ""
                          }
                        },
                        "type": "scattermapbox"
                      }
                    ],
                    "scatterpolar": [
                      {
                        "marker": {
                          "colorbar": {
                            "outlinewidth": 0,
                            "ticks": ""
                          }
                        },
                        "type": "scatterpolar"
                      }
                    ],
                    "scatterpolargl": [
                      {
                        "marker": {
                          "colorbar": {
                            "outlinewidth": 0,
                            "ticks": ""
                          }
                        },
                        "type": "scatterpolargl"
                      }
                    ],
                    "scatterternary": [
                      {
                        "marker": {
                          "colorbar": {
                            "outlinewidth": 0,
                            "ticks": ""
                          }
                        },
                        "type": "scatterternary"
                      }
                    ],
                    "surface": [
                      {
                        "colorbar": {
                          "outlinewidth": 0,
                          "ticks": ""
                        },
                        "colorscale": [
                          [
                            0,
                            "#0d0887"
                          ],
                          [
                            0.1111111111111111,
                            "#46039f"
                          ],
                          [
                            0.2222222222222222,
                            "#7201a8"
                          ],
                          [
                            0.3333333333333333,
                            "#9c179e"
                          ],
                          [
                            0.4444444444444444,
                            "#bd3786"
                          ],
                          [
                            0.5555555555555556,
                            "#d8576b"
                          ],
                          [
                            0.6666666666666666,
                            "#ed7953"
                          ],
                          [
                            0.7777777777777778,
                            "#fb9f3a"
                          ],
                          [
                            0.8888888888888888,
                            "#fdca26"
                          ],
                          [
                            1,
                            "#f0f921"
                          ]
                        ],
                        "type": "surface"
                      }
                    ],
                    "table": [
                      {
                        "cells": {
                          "fill": {
                            "color": "#EBF0F8"
                          },
                          "line": {
                            "color": "white"
                          }
                        },
                        "header": {
                          "fill": {
                            "color": "#C8D4E3"
                          },
                          "line": {
                            "color": "white"
                          }
                        },
                        "type": "table"
                      }
                    ]
                  },
                  "layout": {
                    "annotationdefaults": {
                      "arrowcolor": "#2a3f5f",
                      "arrowhead": 0,
                      "arrowwidth": 1
                    },
                    "autotypenumbers": "strict",
                    "coloraxis": {
                      "colorbar": {
                        "outlinewidth": 0,
                        "ticks": ""
                      }
                    },
                    "colorscale": {
                      "diverging": [
                        [
                          0,
                          "#8e0152"
                        ],
                        [
                          0.1,
                          "#c51b7d"
                        ],
                        [
                          0.2,
                          "#de77ae"
                        ],
                        [
                          0.3,
                          "#f1b6da"
                        ],
                        [
                          0.4,
                          "#fde0ef"
                        ],
                        [
                          0.5,
                          "#f7f7f7"
                        ],
                        [
                          0.6,
                          "#e6f5d0"
                        ],
                        [
                          0.7,
                          "#b8e186"
                        ],
                        [
                          0.8,
                          "#7fbc41"
                        ],
                        [
                          0.9,
                          "#4d9221"
                        ],
                        [
                          1,
                          "#276419"
                        ]
                      ],
                      "sequential": [
                        [
                          0,
                          "#0d0887"
                        ],
                        [
                          0.1111111111111111,
                          "#46039f"
                        ],
                        [
                          0.2222222222222222,
                          "#7201a8"
                        ],
                        [
                          0.3333333333333333,
                          "#9c179e"
                        ],
                        [
                          0.4444444444444444,
                          "#bd3786"
                        ],
                        [
                          0.5555555555555556,
                          "#d8576b"
                        ],
                        [
                          0.6666666666666666,
                          "#ed7953"
                        ],
                        [
                          0.7777777777777778,
                          "#fb9f3a"
                        ],
                        [
                          0.8888888888888888,
                          "#fdca26"
                        ],
                        [
                          1,
                          "#f0f921"
                        ]
                      ],
                      "sequentialminus": [
                        [
                          0,
                          "#0d0887"
                        ],
                        [
                          0.1111111111111111,
                          "#46039f"
                        ],
                        [
                          0.2222222222222222,
                          "#7201a8"
                        ],
                        [
                          0.3333333333333333,
                          "#9c179e"
                        ],
                        [
                          0.4444444444444444,
                          "#bd3786"
                        ],
                        [
                          0.5555555555555556,
                          "#d8576b"
                        ],
                        [
                          0.6666666666666666,
                          "#ed7953"
                        ],
                        [
                          0.7777777777777778,
                          "#fb9f3a"
                        ],
                        [
                          0.8888888888888888,
                          "#fdca26"
                        ],
                        [
                          1,
                          "#f0f921"
                        ]
                      ]
                    },
                    "colorway": [
                      "#636efa",
                      "#EF553B",
                      "#00cc96",
                      "#ab63fa",
                      "#FFA15A",
                      "#19d3f3",
                      "#FF6692",
                      "#B6E880",
                      "#FF97FF",
                      "#FECB52"
                    ],
                    "font": {
                      "color": "#2a3f5f"
                    },
                    "geo": {
                      "bgcolor": "white",
                      "lakecolor": "white",
                      "landcolor": "#E5ECF6",
                      "showlakes": true,
                      "showland": true,
                      "subunitcolor": "white"
                    },
                    "hoverlabel": {
                      "align": "left"
                    },
                    "hovermode": "closest",
                    "mapbox": {
                      "style": "light"
                    },
                    "paper_bgcolor": "white",
                    "plot_bgcolor": "#E5ECF6",
                    "polar": {
                      "angularaxis": {
                        "gridcolor": "white",
                        "linecolor": "white",
                        "ticks": ""
                      },
                      "bgcolor": "#E5ECF6",
                      "radialaxis": {
                        "gridcolor": "white",
                        "linecolor": "white",
                        "ticks": ""
                      }
                    },
                    "scene": {
                      "xaxis": {
                        "backgroundcolor": "#E5ECF6",
                        "gridcolor": "white",
                        "gridwidth": 2,
                        "linecolor": "white",
                        "showbackground": true,
                        "ticks": "",
                        "zerolinecolor": "white"
                      },
                      "yaxis": {
                        "backgroundcolor": "#E5ECF6",
                        "gridcolor": "white",
                        "gridwidth": 2,
                        "linecolor": "white",
                        "showbackground": true,
                        "ticks": "",
                        "zerolinecolor": "white"
                      },
                      "zaxis": {
                        "backgroundcolor": "#E5ECF6",
                        "gridcolor": "white",
                        "gridwidth": 2,
                        "linecolor": "white",
                        "showbackground": true,
                        "ticks": "",
                        "zerolinecolor": "white"
                      }
                    },
                    "shapedefaults": {
                      "line": {
                        "color": "#2a3f5f"
                      }
                    },
                    "ternary": {
                      "aaxis": {
                        "gridcolor": "white",
                        "linecolor": "white",
                        "ticks": ""
                      },
                      "baxis": {
                        "gridcolor": "white",
                        "linecolor": "white",
                        "ticks": ""
                      },
                      "bgcolor": "#E5ECF6",
                      "caxis": {
                        "gridcolor": "white",
                        "linecolor": "white",
                        "ticks": ""
                      }
                    },
                    "title": {
                      "x": 0.05
                    },
                    "xaxis": {
                      "automargin": true,
                      "gridcolor": "white",
                      "linecolor": "white",
                      "ticks": "",
                      "title": {
                        "standoff": 15
                      },
                      "zerolinecolor": "white",
                      "zerolinewidth": 2
                    },
                    "yaxis": {
                      "automargin": true,
                      "gridcolor": "white",
                      "linecolor": "white",
                      "ticks": "",
                      "title": {
                        "standoff": 15
                      },
                      "zerolinecolor": "white",
                      "zerolinewidth": 2
                    }
                  }
                },
                "title": {
                  "text": "Pirámide Poblacional de México. Año 2015."
                },
                "width": 800,
                "xaxis": {
                  "showgrid": false,
                  "tickmode": "array",
                  "ticktext": [
                    "6M",
                    "4M",
                    "2M",
                    "0",
                    "2M",
                    "4M",
                    "6M"
                  ],
                  "tickvals": [
                    -6000000,
                    -4000000,
                    -2000000,
                    0,
                    2000000,
                    4000000,
                    6000000
                  ],
                  "title": {
                    "text": "Cantidad de personas (Millones)"
                  }
                },
                "yaxis": {
                  "showgrid": false,
                  "tickmode": "array",
                  "ticktext": [
                    "0 a 4",
                    "5 a 9",
                    "10 a 14",
                    "15 a 19",
                    "20 a 24",
                    "25 a 29",
                    "30 a 34",
                    "35 a 39",
                    "40 a 44",
                    "45 a 49",
                    "50 a 54",
                    "55 a 59",
                    "60 a 64",
                    "65 a 69",
                    "70 a 74",
                    "75 a 79",
                    "80 a 84",
                    "85 y más"
                  ],
                  "tickvals": [
                    0,
                    1,
                    2,
                    3,
                    4,
                    5,
                    6,
                    7,
                    8,
                    9,
                    10,
                    11,
                    12,
                    13,
                    14,
                    15,
                    16,
                    17
                  ]
                }
              }
            }
          },
          "metadata": {},
          "output_type": "display_data"
        },
        {
          "data": {
            "application/vnd.jupyter.widget-view+json": {
              "model_id": "dc327bc3e1164b65b5275b0cc30f01e6",
              "version_major": 2,
              "version_minor": 0
            },
            "text/plain": [
              "interactive(children=(Dropdown(description='filtro_anio', options=(2015, 2016, 2017, 2018, 2019, 2020, 2021, 2…"
            ]
          },
          "metadata": {},
          "output_type": "display_data"
        },
        {
          "data": {
            "text/plain": [
              "<function __main__.graficar_piramide(filtro_anio)>"
            ]
          },
          "execution_count": 24,
          "metadata": {},
          "output_type": "execute_result"
        }
      ],
      "source": [
        "# Graficando la pirámide poblacional...\n",
        "def graficar_piramide(filtro_anio): # , filtro_entidad\n",
        "\n",
        "    df_pob_graf = (df_piramides.loc[(df_piramides[\"AÑO\"] == filtro_anio) & (df_piramides[\"ENTIDAD\"] == \"República Mexicana\"), [\"GRUPO\", \"SEXO\", \"POBLACION\"]].groupby([\"GRUPO\", \"SEXO\"]).sum())\n",
        "\n",
        "    \n",
        "    edad = list(grupos_etarios.values())\n",
        "    hombres = [df_pob_graf[\"POBLACION\"][grupos][\"Hombres\"] for grupos in grupos_etarios.values()]\n",
        "    mujeres = [df_pob_graf[\"POBLACION\"][grupos][\"Mujeres\"] for grupos in grupos_etarios.values()]\n",
        "\n",
        "    # Crear la figura\n",
        "    fig = go.Figure()\n",
        "\n",
        "    # Barras para hombres\n",
        "    fig.add_trace(go.Bar(\n",
        "        y=edad,\n",
        "        x=hombres,\n",
        "        orientation='h',\n",
        "        name='Hombres',\n",
        "        marker=dict(color='blue'),\n",
        "    ))\n",
        "\n",
        "    # Barras para mujeres con valores negativos para invertir el eje y\n",
        "    fig.add_trace(go.Bar(\n",
        "        y=edad,\n",
        "        x=[-x for x in mujeres],\n",
        "        orientation='h',\n",
        "        name='Mujeres',\n",
        "        marker=dict(color='pink'),\n",
        "    ))\n",
        "\n",
        "    # Personalizar diseño y diseño de la figura\n",
        "    fig.update_layout(\n",
        "        title= f'Pirámide Poblacional de México. Año {filtro_anio}.',\n",
        "        barmode='overlay',\n",
        "        bargap=0.1,\n",
        "        #paper_bgcolor='white',\n",
        "        plot_bgcolor='white',  # Sin fondo\n",
        "\n",
        "        xaxis=dict(\n",
        "            tickmode='array',\n",
        "            title=\"Cantidad de personas (Millones)\",\n",
        "            tickvals=[-6000000, -4000000, -2000000, 0,2000000,4000000,6000000],\n",
        "            ticktext=[\"6M\", \"4M\",\"2M\", \"0\", \"2M\", \"4M\",\"6M\"],\n",
        "            showgrid=False,\n",
        "        ),\n",
        "\n",
        "        yaxis=dict(\n",
        "            tickmode='array',\n",
        "            tickvals=list(range(len(edad))),\n",
        "            ticktext=edad,\n",
        "            showgrid=False,\n",
        "        ),\n",
        "        width=800,  # Ancho de la figura\n",
        "        height=600,  # Altura de la figura\n",
        "    )\n",
        "\n",
        "    # Mostrar la figura\n",
        "    fig.show()\n",
        "    \n",
        "# Luego hacerlo por entidades también... filtro_entidad = df_piramides[\"ENTIDAD\"].unique()\n",
        "widgets.interact(graficar_piramide, filtro_anio = df_piramides[\"AÑO\"].unique())"
      ]
    },
    {
      "cell_type": "markdown",
      "metadata": {},
      "source": [
        "### Población de un año por entidades"
      ]
    },
    {
      "cell_type": "code",
      "execution_count": 25,
      "metadata": {},
      "outputs": [
        {
          "name": "stdout",
          "output_type": "stream",
          "text": [
            "Año 2023, Sonora: 3,066,575\n",
            "Año 2022, Todo México: 129,365,552\n"
          ]
        }
      ],
      "source": [
        "# Consultar la población de un Año y Entidad específica...\n",
        "\n",
        "def pob_por_anhos(anho,entidad):\n",
        "    return pob_anhos[\"POBLACION\"][anho][entidad]\n",
        "\n",
        "print(f\"Año 2023, Sonora: {pob_por_anhos(2023,26):,}\")\n",
        "print(f\"Año 2022, Todo México: {pob_por_anhos(2022,0):,}\")"
      ]
    },
    {
      "cell_type": "markdown",
      "metadata": {},
      "source": [
        "Se puede ver que la población estimada en el 2022 fue de 128 600 339...\n",
        "\n",
        "Resultado anteriormente visto:\n",
        "\n",
        "En el año 2022 ocurrieron 17 445 homicidios. Para una tasa de 13.8 calculada con la población de México del 2010.\n",
        "\n",
        "$Tasa = \\frac{17 445}{126 014 024} * 100 000 = 13.8$\n",
        "\n",
        "Recalculando con la población estimada para el 2022 por la CONAPO:\n",
        "\n",
        "$Tasa = \\frac{17 445}{129 365 552} * 100 000 = 13.5$\n",
        "\n",
        "Según [CONAPO](https://www.inegi.org.mx/contenidos/saladeprensa/aproposito/2023/EAP_DMPO23.pdf) ya en 2023 existen unos 129 Millones de habitantes en México, y cada vez sería mayor la precisión si se asume también que estas las estimaciones son precisas.\n",
        "\n",
        "En el ejemplo anterior, que es una diferencia de 0.3? Si se invierten los cálculos esta diferencia estaría entre 378 y 388 homicidios.\n",
        "\n",
        "Sin embargo. Valdrá la pena usar estimaciones de población para calcular las tasas específicas??? Vamos a intentar chequear esto durante el proyecto."
      ]
    },
    {
      "cell_type": "markdown",
      "metadata": {
        "id": "BOTf9JCK4UhC"
      },
      "source": [
        "# 2. Encuesta de percepción de inseguridad pública (INEGI)\n",
        "\n",
        "Los datos que necesitamos se encuentran en distintos documentos de excel, así que primero descargaremos todos y despues juntaremos los datos en un solo DataFrame."
      ]
    },
    {
      "cell_type": "code",
      "execution_count": 26,
      "metadata": {},
      "outputs": [
        {
          "data": {
            "text/plain": [
              "'\\n# Manejar rutas\\nfrom pathlib import Path\\n\\n# Cargar y transformar datos\\nimport pandas as pd\\nimport numpy as np\\n\\n# Visualización\\nimport matplotlib.pyplot as plt\\nimport seaborn as sns\\n'"
            ]
          },
          "execution_count": 26,
          "metadata": {},
          "output_type": "execute_result"
        }
      ],
      "source": [
        "\"\"\"\n",
        "# Manejar rutas\n",
        "from pathlib import Path\n",
        "\n",
        "# Cargar y transformar datos\n",
        "import pandas as pd\n",
        "import numpy as np\n",
        "\n",
        "# Visualización\n",
        "import matplotlib.pyplot as plt\n",
        "import seaborn as sns\n",
        "\"\"\""
      ]
    },
    {
      "cell_type": "markdown",
      "metadata": {},
      "source": [
        "Establecer las rutas para acceder a nuestros datos"
      ]
    },
    {
      "cell_type": "code",
      "execution_count": 27,
      "metadata": {},
      "outputs": [],
      "source": [
        "# data_path = Path('./data')\n",
        "percepcion_path = data_path / 'percepcion'"
      ]
    },
    {
      "cell_type": "code",
      "execution_count": 28,
      "metadata": {},
      "outputs": [
        {
          "data": {
            "text/html": [
              "<div>\n",
              "<style scoped>\n",
              "    .dataframe tbody tr th:only-of-type {\n",
              "        vertical-align: middle;\n",
              "    }\n",
              "\n",
              "    .dataframe tbody tr th {\n",
              "        vertical-align: top;\n",
              "    }\n",
              "\n",
              "    .dataframe thead th {\n",
              "        text-align: right;\n",
              "    }\n",
              "</style>\n",
              "<table border=\"1\" class=\"dataframe\">\n",
              "  <thead>\n",
              "    <tr style=\"text-align: right;\">\n",
              "      <th></th>\n",
              "      <th>Entidad</th>\n",
              "      <th>2011</th>\n",
              "      <th>2012</th>\n",
              "      <th>2013</th>\n",
              "      <th>2014</th>\n",
              "      <th>2015</th>\n",
              "      <th>2016</th>\n",
              "      <th>2017</th>\n",
              "      <th>2018</th>\n",
              "      <th>2019</th>\n",
              "      <th>2020</th>\n",
              "      <th>2021</th>\n",
              "      <th>2022</th>\n",
              "      <th>2023</th>\n",
              "    </tr>\n",
              "  </thead>\n",
              "  <tbody>\n",
              "    <tr>\n",
              "      <th>0</th>\n",
              "      <td>Estados Unidos Mexicanos</td>\n",
              "      <td>69.536343</td>\n",
              "      <td>66.622674</td>\n",
              "      <td>72.322457</td>\n",
              "      <td>73.254528</td>\n",
              "      <td>73.208739</td>\n",
              "      <td>72.350354</td>\n",
              "      <td>72.350354</td>\n",
              "      <td>79.390885</td>\n",
              "      <td>78.923315</td>\n",
              "      <td>78.575746</td>\n",
              "      <td>75.638192</td>\n",
              "      <td>75.913019</td>\n",
              "      <td>74.629466</td>\n",
              "    </tr>\n",
              "    <tr>\n",
              "      <th>1</th>\n",
              "      <td>Aguascalientes</td>\n",
              "      <td>60.781293</td>\n",
              "      <td>46.521325</td>\n",
              "      <td>51.807434</td>\n",
              "      <td>49.104040</td>\n",
              "      <td>43.178322</td>\n",
              "      <td>42.452607</td>\n",
              "      <td>42.452607</td>\n",
              "      <td>60.889151</td>\n",
              "      <td>56.380828</td>\n",
              "      <td>54.587324</td>\n",
              "      <td>51.545596</td>\n",
              "      <td>54.215804</td>\n",
              "      <td>49.658546</td>\n",
              "    </tr>\n",
              "    <tr>\n",
              "      <th>2</th>\n",
              "      <td>Baja California</td>\n",
              "      <td>58.225411</td>\n",
              "      <td>51.571792</td>\n",
              "      <td>51.487931</td>\n",
              "      <td>53.690572</td>\n",
              "      <td>53.240621</td>\n",
              "      <td>56.808145</td>\n",
              "      <td>56.808145</td>\n",
              "      <td>72.656270</td>\n",
              "      <td>66.435304</td>\n",
              "      <td>64.213874</td>\n",
              "      <td>68.070188</td>\n",
              "      <td>76.148656</td>\n",
              "      <td>68.498969</td>\n",
              "    </tr>\n",
              "    <tr>\n",
              "      <th>3</th>\n",
              "      <td>Baja California Sur</td>\n",
              "      <td>37.118676</td>\n",
              "      <td>24.444105</td>\n",
              "      <td>30.110138</td>\n",
              "      <td>39.260519</td>\n",
              "      <td>61.824967</td>\n",
              "      <td>44.196116</td>\n",
              "      <td>44.196116</td>\n",
              "      <td>65.287080</td>\n",
              "      <td>48.206110</td>\n",
              "      <td>35.701805</td>\n",
              "      <td>34.319915</td>\n",
              "      <td>34.911697</td>\n",
              "      <td>33.371377</td>\n",
              "    </tr>\n",
              "    <tr>\n",
              "      <th>4</th>\n",
              "      <td>Campeche</td>\n",
              "      <td>51.248149</td>\n",
              "      <td>44.635927</td>\n",
              "      <td>56.709175</td>\n",
              "      <td>58.924918</td>\n",
              "      <td>53.672307</td>\n",
              "      <td>54.371741</td>\n",
              "      <td>54.371741</td>\n",
              "      <td>57.849665</td>\n",
              "      <td>61.028125</td>\n",
              "      <td>56.100644</td>\n",
              "      <td>53.218513</td>\n",
              "      <td>54.092616</td>\n",
              "      <td>61.602961</td>\n",
              "    </tr>\n",
              "    <tr>\n",
              "      <th>5</th>\n",
              "      <td>Coahuila de Zaragoza</td>\n",
              "      <td>64.577258</td>\n",
              "      <td>74.636522</td>\n",
              "      <td>81.985641</td>\n",
              "      <td>78.495093</td>\n",
              "      <td>74.920929</td>\n",
              "      <td>55.887501</td>\n",
              "      <td>55.887501</td>\n",
              "      <td>64.044869</td>\n",
              "      <td>57.086843</td>\n",
              "      <td>53.034331</td>\n",
              "      <td>53.367409</td>\n",
              "      <td>50.351069</td>\n",
              "      <td>44.132750</td>\n",
              "    </tr>\n",
              "    <tr>\n",
              "      <th>6</th>\n",
              "      <td>Colima</td>\n",
              "      <td>65.825673</td>\n",
              "      <td>70.792383</td>\n",
              "      <td>71.130544</td>\n",
              "      <td>56.871114</td>\n",
              "      <td>56.535474</td>\n",
              "      <td>72.023937</td>\n",
              "      <td>72.023937</td>\n",
              "      <td>80.496832</td>\n",
              "      <td>77.829184</td>\n",
              "      <td>73.329385</td>\n",
              "      <td>72.480947</td>\n",
              "      <td>85.756391</td>\n",
              "      <td>80.909954</td>\n",
              "    </tr>\n",
              "    <tr>\n",
              "      <th>7</th>\n",
              "      <td>Chiapas</td>\n",
              "      <td>38.273959</td>\n",
              "      <td>37.855227</td>\n",
              "      <td>50.956874</td>\n",
              "      <td>62.091154</td>\n",
              "      <td>54.618653</td>\n",
              "      <td>57.248306</td>\n",
              "      <td>57.248306</td>\n",
              "      <td>71.365532</td>\n",
              "      <td>68.752408</td>\n",
              "      <td>66.960754</td>\n",
              "      <td>66.652183</td>\n",
              "      <td>72.600297</td>\n",
              "      <td>68.074699</td>\n",
              "    </tr>\n",
              "    <tr>\n",
              "      <th>8</th>\n",
              "      <td>Chihuahua</td>\n",
              "      <td>89.531810</td>\n",
              "      <td>82.713819</td>\n",
              "      <td>78.048216</td>\n",
              "      <td>75.167071</td>\n",
              "      <td>73.602332</td>\n",
              "      <td>63.110443</td>\n",
              "      <td>63.110443</td>\n",
              "      <td>80.851955</td>\n",
              "      <td>80.843337</td>\n",
              "      <td>75.671868</td>\n",
              "      <td>73.582572</td>\n",
              "      <td>71.558237</td>\n",
              "      <td>78.112335</td>\n",
              "    </tr>\n",
              "    <tr>\n",
              "      <th>9</th>\n",
              "      <td>Distrito Federal</td>\n",
              "      <td>75.257200</td>\n",
              "      <td>70.793563</td>\n",
              "      <td>73.006600</td>\n",
              "      <td>77.608380</td>\n",
              "      <td>78.475619</td>\n",
              "      <td>84.623704</td>\n",
              "      <td>84.623704</td>\n",
              "      <td>88.316683</td>\n",
              "      <td>89.226879</td>\n",
              "      <td>85.778970</td>\n",
              "      <td>85.273931</td>\n",
              "      <td>83.228952</td>\n",
              "      <td>80.099689</td>\n",
              "    </tr>\n",
              "    <tr>\n",
              "      <th>10</th>\n",
              "      <td>Durango</td>\n",
              "      <td>88.113876</td>\n",
              "      <td>81.803628</td>\n",
              "      <td>77.780803</td>\n",
              "      <td>73.467074</td>\n",
              "      <td>67.984143</td>\n",
              "      <td>56.953040</td>\n",
              "      <td>56.953040</td>\n",
              "      <td>60.440009</td>\n",
              "      <td>64.695376</td>\n",
              "      <td>54.338304</td>\n",
              "      <td>59.254550</td>\n",
              "      <td>56.041678</td>\n",
              "      <td>51.705221</td>\n",
              "    </tr>\n",
              "    <tr>\n",
              "      <th>11</th>\n",
              "      <td>Guanajuato</td>\n",
              "      <td>54.048987</td>\n",
              "      <td>54.071658</td>\n",
              "      <td>58.830103</td>\n",
              "      <td>64.798336</td>\n",
              "      <td>64.804506</td>\n",
              "      <td>59.560719</td>\n",
              "      <td>59.560719</td>\n",
              "      <td>83.029151</td>\n",
              "      <td>88.821453</td>\n",
              "      <td>84.245902</td>\n",
              "      <td>84.253768</td>\n",
              "      <td>87.398808</td>\n",
              "      <td>82.885672</td>\n",
              "    </tr>\n",
              "    <tr>\n",
              "      <th>12</th>\n",
              "      <td>Guerrero</td>\n",
              "      <td>72.453201</td>\n",
              "      <td>74.446722</td>\n",
              "      <td>86.914640</td>\n",
              "      <td>78.919154</td>\n",
              "      <td>86.757183</td>\n",
              "      <td>84.746203</td>\n",
              "      <td>84.746203</td>\n",
              "      <td>84.239784</td>\n",
              "      <td>84.718123</td>\n",
              "      <td>88.495981</td>\n",
              "      <td>77.299632</td>\n",
              "      <td>73.882693</td>\n",
              "      <td>76.691720</td>\n",
              "    </tr>\n",
              "    <tr>\n",
              "      <th>13</th>\n",
              "      <td>Hidalgo</td>\n",
              "      <td>55.253027</td>\n",
              "      <td>49.237089</td>\n",
              "      <td>56.347809</td>\n",
              "      <td>65.498035</td>\n",
              "      <td>62.096126</td>\n",
              "      <td>56.643767</td>\n",
              "      <td>56.643767</td>\n",
              "      <td>63.284231</td>\n",
              "      <td>65.547906</td>\n",
              "      <td>66.075944</td>\n",
              "      <td>65.044917</td>\n",
              "      <td>63.805880</td>\n",
              "      <td>62.984868</td>\n",
              "    </tr>\n",
              "    <tr>\n",
              "      <th>14</th>\n",
              "      <td>Jalisco</td>\n",
              "      <td>71.213961</td>\n",
              "      <td>61.469535</td>\n",
              "      <td>75.858182</td>\n",
              "      <td>67.971464</td>\n",
              "      <td>69.645524</td>\n",
              "      <td>69.140624</td>\n",
              "      <td>69.140624</td>\n",
              "      <td>73.575153</td>\n",
              "      <td>77.749795</td>\n",
              "      <td>83.112749</td>\n",
              "      <td>76.022459</td>\n",
              "      <td>79.065631</td>\n",
              "      <td>78.725862</td>\n",
              "    </tr>\n",
              "    <tr>\n",
              "      <th>15</th>\n",
              "      <td>México</td>\n",
              "      <td>83.876865</td>\n",
              "      <td>84.531215</td>\n",
              "      <td>90.696801</td>\n",
              "      <td>92.636965</td>\n",
              "      <td>90.614297</td>\n",
              "      <td>90.620451</td>\n",
              "      <td>90.620451</td>\n",
              "      <td>91.774771</td>\n",
              "      <td>88.816473</td>\n",
              "      <td>92.413130</td>\n",
              "      <td>91.348112</td>\n",
              "      <td>90.566407</td>\n",
              "      <td>88.010373</td>\n",
              "    </tr>\n",
              "    <tr>\n",
              "      <th>16</th>\n",
              "      <td>Michoacán de Ocampo</td>\n",
              "      <td>76.110296</td>\n",
              "      <td>75.984405</td>\n",
              "      <td>80.277209</td>\n",
              "      <td>81.991701</td>\n",
              "      <td>79.807085</td>\n",
              "      <td>71.652436</td>\n",
              "      <td>71.652436</td>\n",
              "      <td>81.942510</td>\n",
              "      <td>80.221481</td>\n",
              "      <td>82.999994</td>\n",
              "      <td>79.476997</td>\n",
              "      <td>83.103296</td>\n",
              "      <td>80.769441</td>\n",
              "    </tr>\n",
              "    <tr>\n",
              "      <th>17</th>\n",
              "      <td>Morelos</td>\n",
              "      <td>80.752353</td>\n",
              "      <td>81.230522</td>\n",
              "      <td>86.468437</td>\n",
              "      <td>89.048431</td>\n",
              "      <td>86.251204</td>\n",
              "      <td>84.344260</td>\n",
              "      <td>84.344260</td>\n",
              "      <td>86.448576</td>\n",
              "      <td>88.518402</td>\n",
              "      <td>87.262813</td>\n",
              "      <td>86.583457</td>\n",
              "      <td>86.792976</td>\n",
              "      <td>86.968280</td>\n",
              "    </tr>\n",
              "    <tr>\n",
              "      <th>18</th>\n",
              "      <td>Nayarit</td>\n",
              "      <td>79.273974</td>\n",
              "      <td>72.914073</td>\n",
              "      <td>56.615795</td>\n",
              "      <td>51.102127</td>\n",
              "      <td>55.516447</td>\n",
              "      <td>48.455696</td>\n",
              "      <td>48.455696</td>\n",
              "      <td>83.541538</td>\n",
              "      <td>60.538774</td>\n",
              "      <td>52.397121</td>\n",
              "      <td>52.174159</td>\n",
              "      <td>53.353013</td>\n",
              "      <td>46.249390</td>\n",
              "    </tr>\n",
              "    <tr>\n",
              "      <th>19</th>\n",
              "      <td>Nuevo León</td>\n",
              "      <td>84.579846</td>\n",
              "      <td>86.689104</td>\n",
              "      <td>80.156253</td>\n",
              "      <td>72.970805</td>\n",
              "      <td>70.737838</td>\n",
              "      <td>73.526094</td>\n",
              "      <td>73.526094</td>\n",
              "      <td>75.102383</td>\n",
              "      <td>81.691997</td>\n",
              "      <td>71.906860</td>\n",
              "      <td>61.233011</td>\n",
              "      <td>67.908618</td>\n",
              "      <td>67.029869</td>\n",
              "    </tr>\n",
              "    <tr>\n",
              "      <th>20</th>\n",
              "      <td>Oaxaca</td>\n",
              "      <td>73.272678</td>\n",
              "      <td>60.707498</td>\n",
              "      <td>66.865779</td>\n",
              "      <td>77.081529</td>\n",
              "      <td>77.711059</td>\n",
              "      <td>75.299615</td>\n",
              "      <td>75.299615</td>\n",
              "      <td>76.595922</td>\n",
              "      <td>71.180147</td>\n",
              "      <td>75.333277</td>\n",
              "      <td>72.628222</td>\n",
              "      <td>71.167122</td>\n",
              "      <td>74.419693</td>\n",
              "    </tr>\n",
              "    <tr>\n",
              "      <th>21</th>\n",
              "      <td>Puebla</td>\n",
              "      <td>64.018685</td>\n",
              "      <td>57.085829</td>\n",
              "      <td>63.320551</td>\n",
              "      <td>63.583923</td>\n",
              "      <td>67.376813</td>\n",
              "      <td>68.382721</td>\n",
              "      <td>68.382721</td>\n",
              "      <td>81.369451</td>\n",
              "      <td>87.657495</td>\n",
              "      <td>87.461595</td>\n",
              "      <td>85.621427</td>\n",
              "      <td>78.117632</td>\n",
              "      <td>78.323283</td>\n",
              "    </tr>\n",
              "    <tr>\n",
              "      <th>22</th>\n",
              "      <td>Querétaro</td>\n",
              "      <td>30.163611</td>\n",
              "      <td>29.383152</td>\n",
              "      <td>41.104871</td>\n",
              "      <td>38.544664</td>\n",
              "      <td>50.655561</td>\n",
              "      <td>62.107047</td>\n",
              "      <td>62.107047</td>\n",
              "      <td>62.010426</td>\n",
              "      <td>62.049335</td>\n",
              "      <td>48.904709</td>\n",
              "      <td>57.698781</td>\n",
              "      <td>56.409626</td>\n",
              "      <td>54.504698</td>\n",
              "    </tr>\n",
              "    <tr>\n",
              "      <th>23</th>\n",
              "      <td>Quintana Roo</td>\n",
              "      <td>63.908939</td>\n",
              "      <td>59.859971</td>\n",
              "      <td>69.952016</td>\n",
              "      <td>66.951261</td>\n",
              "      <td>60.975905</td>\n",
              "      <td>58.833061</td>\n",
              "      <td>58.833061</td>\n",
              "      <td>73.292997</td>\n",
              "      <td>82.126987</td>\n",
              "      <td>83.102004</td>\n",
              "      <td>75.803790</td>\n",
              "      <td>78.278164</td>\n",
              "      <td>78.149888</td>\n",
              "    </tr>\n",
              "    <tr>\n",
              "      <th>24</th>\n",
              "      <td>San Luis Potosí</td>\n",
              "      <td>76.343817</td>\n",
              "      <td>59.960428</td>\n",
              "      <td>77.843344</td>\n",
              "      <td>73.126573</td>\n",
              "      <td>69.170898</td>\n",
              "      <td>72.121894</td>\n",
              "      <td>72.121894</td>\n",
              "      <td>81.291832</td>\n",
              "      <td>77.611971</td>\n",
              "      <td>80.243675</td>\n",
              "      <td>81.622316</td>\n",
              "      <td>74.923121</td>\n",
              "      <td>76.548213</td>\n",
              "    </tr>\n",
              "    <tr>\n",
              "      <th>25</th>\n",
              "      <td>Sinaloa</td>\n",
              "      <td>80.846508</td>\n",
              "      <td>77.421358</td>\n",
              "      <td>77.684569</td>\n",
              "      <td>72.062071</td>\n",
              "      <td>70.455259</td>\n",
              "      <td>72.227738</td>\n",
              "      <td>72.227738</td>\n",
              "      <td>72.647487</td>\n",
              "      <td>64.621284</td>\n",
              "      <td>67.412179</td>\n",
              "      <td>60.289552</td>\n",
              "      <td>57.183002</td>\n",
              "      <td>62.474165</td>\n",
              "    </tr>\n",
              "    <tr>\n",
              "      <th>26</th>\n",
              "      <td>Sonora</td>\n",
              "      <td>45.951813</td>\n",
              "      <td>42.387678</td>\n",
              "      <td>52.461528</td>\n",
              "      <td>57.186472</td>\n",
              "      <td>62.465510</td>\n",
              "      <td>51.262565</td>\n",
              "      <td>51.262565</td>\n",
              "      <td>66.946484</td>\n",
              "      <td>68.271172</td>\n",
              "      <td>68.372350</td>\n",
              "      <td>76.513810</td>\n",
              "      <td>79.632645</td>\n",
              "      <td>76.174062</td>\n",
              "    </tr>\n",
              "    <tr>\n",
              "      <th>27</th>\n",
              "      <td>Tabasco</td>\n",
              "      <td>77.731330</td>\n",
              "      <td>71.207083</td>\n",
              "      <td>83.436983</td>\n",
              "      <td>86.071211</td>\n",
              "      <td>88.895718</td>\n",
              "      <td>87.935638</td>\n",
              "      <td>87.935638</td>\n",
              "      <td>91.935613</td>\n",
              "      <td>90.244990</td>\n",
              "      <td>90.068306</td>\n",
              "      <td>84.806140</td>\n",
              "      <td>84.964559</td>\n",
              "      <td>78.172326</td>\n",
              "    </tr>\n",
              "    <tr>\n",
              "      <th>28</th>\n",
              "      <td>Tamaulipas</td>\n",
              "      <td>83.368814</td>\n",
              "      <td>82.927464</td>\n",
              "      <td>84.064328</td>\n",
              "      <td>83.913399</td>\n",
              "      <td>86.901142</td>\n",
              "      <td>86.206891</td>\n",
              "      <td>86.206891</td>\n",
              "      <td>86.381719</td>\n",
              "      <td>83.082513</td>\n",
              "      <td>79.806955</td>\n",
              "      <td>76.177019</td>\n",
              "      <td>78.085522</td>\n",
              "      <td>74.902131</td>\n",
              "    </tr>\n",
              "    <tr>\n",
              "      <th>29</th>\n",
              "      <td>Tlaxcala</td>\n",
              "      <td>41.599954</td>\n",
              "      <td>40.144379</td>\n",
              "      <td>52.078256</td>\n",
              "      <td>59.986358</td>\n",
              "      <td>59.188505</td>\n",
              "      <td>55.104313</td>\n",
              "      <td>55.104313</td>\n",
              "      <td>68.834503</td>\n",
              "      <td>69.352026</td>\n",
              "      <td>67.748686</td>\n",
              "      <td>63.024001</td>\n",
              "      <td>60.243138</td>\n",
              "      <td>62.370126</td>\n",
              "    </tr>\n",
              "    <tr>\n",
              "      <th>30</th>\n",
              "      <td>Veracruz de Ignacio de la Llave</td>\n",
              "      <td>64.828822</td>\n",
              "      <td>69.994409</td>\n",
              "      <td>75.374890</td>\n",
              "      <td>80.705548</td>\n",
              "      <td>80.540668</td>\n",
              "      <td>85.130058</td>\n",
              "      <td>85.130058</td>\n",
              "      <td>88.845807</td>\n",
              "      <td>87.587982</td>\n",
              "      <td>86.058586</td>\n",
              "      <td>82.580219</td>\n",
              "      <td>80.214211</td>\n",
              "      <td>81.386930</td>\n",
              "    </tr>\n",
              "    <tr>\n",
              "      <th>31</th>\n",
              "      <td>Yucatán</td>\n",
              "      <td>26.649776</td>\n",
              "      <td>19.201575</td>\n",
              "      <td>32.217172</td>\n",
              "      <td>29.484415</td>\n",
              "      <td>33.812460</td>\n",
              "      <td>31.489083</td>\n",
              "      <td>31.489083</td>\n",
              "      <td>32.496020</td>\n",
              "      <td>37.533847</td>\n",
              "      <td>26.570007</td>\n",
              "      <td>27.192866</td>\n",
              "      <td>30.588927</td>\n",
              "      <td>37.808793</td>\n",
              "    </tr>\n",
              "    <tr>\n",
              "      <th>32</th>\n",
              "      <td>Zacatecas</td>\n",
              "      <td>83.127370</td>\n",
              "      <td>80.507097</td>\n",
              "      <td>84.690660</td>\n",
              "      <td>80.319868</td>\n",
              "      <td>80.887444</td>\n",
              "      <td>82.531868</td>\n",
              "      <td>82.531868</td>\n",
              "      <td>89.450279</td>\n",
              "      <td>80.648065</td>\n",
              "      <td>84.824803</td>\n",
              "      <td>83.946417</td>\n",
              "      <td>90.852704</td>\n",
              "      <td>91.930610</td>\n",
              "    </tr>\n",
              "  </tbody>\n",
              "</table>\n",
              "</div>"
            ],
            "text/plain": [
              "                            Entidad       2011       2012       2013  \\\n",
              "0          Estados Unidos Mexicanos  69.536343  66.622674  72.322457   \n",
              "1                    Aguascalientes  60.781293  46.521325  51.807434   \n",
              "2                   Baja California  58.225411  51.571792  51.487931   \n",
              "3               Baja California Sur  37.118676  24.444105  30.110138   \n",
              "4                          Campeche  51.248149  44.635927  56.709175   \n",
              "5              Coahuila de Zaragoza  64.577258  74.636522  81.985641   \n",
              "6                            Colima  65.825673  70.792383  71.130544   \n",
              "7                           Chiapas  38.273959  37.855227  50.956874   \n",
              "8                         Chihuahua  89.531810  82.713819  78.048216   \n",
              "9                  Distrito Federal  75.257200  70.793563  73.006600   \n",
              "10                          Durango  88.113876  81.803628  77.780803   \n",
              "11                       Guanajuato  54.048987  54.071658  58.830103   \n",
              "12                         Guerrero  72.453201  74.446722  86.914640   \n",
              "13                          Hidalgo  55.253027  49.237089  56.347809   \n",
              "14                          Jalisco  71.213961  61.469535  75.858182   \n",
              "15                           México  83.876865  84.531215  90.696801   \n",
              "16              Michoacán de Ocampo  76.110296  75.984405  80.277209   \n",
              "17                          Morelos  80.752353  81.230522  86.468437   \n",
              "18                          Nayarit  79.273974  72.914073  56.615795   \n",
              "19                       Nuevo León  84.579846  86.689104  80.156253   \n",
              "20                           Oaxaca  73.272678  60.707498  66.865779   \n",
              "21                           Puebla  64.018685  57.085829  63.320551   \n",
              "22                        Querétaro  30.163611  29.383152  41.104871   \n",
              "23                     Quintana Roo  63.908939  59.859971  69.952016   \n",
              "24                  San Luis Potosí  76.343817  59.960428  77.843344   \n",
              "25                          Sinaloa  80.846508  77.421358  77.684569   \n",
              "26                           Sonora  45.951813  42.387678  52.461528   \n",
              "27                          Tabasco  77.731330  71.207083  83.436983   \n",
              "28                       Tamaulipas  83.368814  82.927464  84.064328   \n",
              "29                         Tlaxcala  41.599954  40.144379  52.078256   \n",
              "30  Veracruz de Ignacio de la Llave  64.828822  69.994409  75.374890   \n",
              "31                          Yucatán  26.649776  19.201575  32.217172   \n",
              "32                        Zacatecas  83.127370  80.507097  84.690660   \n",
              "\n",
              "         2014       2015       2016       2017       2018       2019  \\\n",
              "0   73.254528  73.208739  72.350354  72.350354  79.390885  78.923315   \n",
              "1   49.104040  43.178322  42.452607  42.452607  60.889151  56.380828   \n",
              "2   53.690572  53.240621  56.808145  56.808145  72.656270  66.435304   \n",
              "3   39.260519  61.824967  44.196116  44.196116  65.287080  48.206110   \n",
              "4   58.924918  53.672307  54.371741  54.371741  57.849665  61.028125   \n",
              "5   78.495093  74.920929  55.887501  55.887501  64.044869  57.086843   \n",
              "6   56.871114  56.535474  72.023937  72.023937  80.496832  77.829184   \n",
              "7   62.091154  54.618653  57.248306  57.248306  71.365532  68.752408   \n",
              "8   75.167071  73.602332  63.110443  63.110443  80.851955  80.843337   \n",
              "9   77.608380  78.475619  84.623704  84.623704  88.316683  89.226879   \n",
              "10  73.467074  67.984143  56.953040  56.953040  60.440009  64.695376   \n",
              "11  64.798336  64.804506  59.560719  59.560719  83.029151  88.821453   \n",
              "12  78.919154  86.757183  84.746203  84.746203  84.239784  84.718123   \n",
              "13  65.498035  62.096126  56.643767  56.643767  63.284231  65.547906   \n",
              "14  67.971464  69.645524  69.140624  69.140624  73.575153  77.749795   \n",
              "15  92.636965  90.614297  90.620451  90.620451  91.774771  88.816473   \n",
              "16  81.991701  79.807085  71.652436  71.652436  81.942510  80.221481   \n",
              "17  89.048431  86.251204  84.344260  84.344260  86.448576  88.518402   \n",
              "18  51.102127  55.516447  48.455696  48.455696  83.541538  60.538774   \n",
              "19  72.970805  70.737838  73.526094  73.526094  75.102383  81.691997   \n",
              "20  77.081529  77.711059  75.299615  75.299615  76.595922  71.180147   \n",
              "21  63.583923  67.376813  68.382721  68.382721  81.369451  87.657495   \n",
              "22  38.544664  50.655561  62.107047  62.107047  62.010426  62.049335   \n",
              "23  66.951261  60.975905  58.833061  58.833061  73.292997  82.126987   \n",
              "24  73.126573  69.170898  72.121894  72.121894  81.291832  77.611971   \n",
              "25  72.062071  70.455259  72.227738  72.227738  72.647487  64.621284   \n",
              "26  57.186472  62.465510  51.262565  51.262565  66.946484  68.271172   \n",
              "27  86.071211  88.895718  87.935638  87.935638  91.935613  90.244990   \n",
              "28  83.913399  86.901142  86.206891  86.206891  86.381719  83.082513   \n",
              "29  59.986358  59.188505  55.104313  55.104313  68.834503  69.352026   \n",
              "30  80.705548  80.540668  85.130058  85.130058  88.845807  87.587982   \n",
              "31  29.484415  33.812460  31.489083  31.489083  32.496020  37.533847   \n",
              "32  80.319868  80.887444  82.531868  82.531868  89.450279  80.648065   \n",
              "\n",
              "         2020       2021       2022       2023  \n",
              "0   78.575746  75.638192  75.913019  74.629466  \n",
              "1   54.587324  51.545596  54.215804  49.658546  \n",
              "2   64.213874  68.070188  76.148656  68.498969  \n",
              "3   35.701805  34.319915  34.911697  33.371377  \n",
              "4   56.100644  53.218513  54.092616  61.602961  \n",
              "5   53.034331  53.367409  50.351069  44.132750  \n",
              "6   73.329385  72.480947  85.756391  80.909954  \n",
              "7   66.960754  66.652183  72.600297  68.074699  \n",
              "8   75.671868  73.582572  71.558237  78.112335  \n",
              "9   85.778970  85.273931  83.228952  80.099689  \n",
              "10  54.338304  59.254550  56.041678  51.705221  \n",
              "11  84.245902  84.253768  87.398808  82.885672  \n",
              "12  88.495981  77.299632  73.882693  76.691720  \n",
              "13  66.075944  65.044917  63.805880  62.984868  \n",
              "14  83.112749  76.022459  79.065631  78.725862  \n",
              "15  92.413130  91.348112  90.566407  88.010373  \n",
              "16  82.999994  79.476997  83.103296  80.769441  \n",
              "17  87.262813  86.583457  86.792976  86.968280  \n",
              "18  52.397121  52.174159  53.353013  46.249390  \n",
              "19  71.906860  61.233011  67.908618  67.029869  \n",
              "20  75.333277  72.628222  71.167122  74.419693  \n",
              "21  87.461595  85.621427  78.117632  78.323283  \n",
              "22  48.904709  57.698781  56.409626  54.504698  \n",
              "23  83.102004  75.803790  78.278164  78.149888  \n",
              "24  80.243675  81.622316  74.923121  76.548213  \n",
              "25  67.412179  60.289552  57.183002  62.474165  \n",
              "26  68.372350  76.513810  79.632645  76.174062  \n",
              "27  90.068306  84.806140  84.964559  78.172326  \n",
              "28  79.806955  76.177019  78.085522  74.902131  \n",
              "29  67.748686  63.024001  60.243138  62.370126  \n",
              "30  86.058586  82.580219  80.214211  81.386930  \n",
              "31  26.570007  27.192866  30.588927  37.808793  \n",
              "32  84.824803  83.946417  90.852704  91.930610  "
            ]
          },
          "execution_count": 28,
          "metadata": {},
          "output_type": "execute_result"
        }
      ],
      "source": [
        "dfs_percepcion = {}\n",
        "\n",
        "#Leemos datos año por año ya que los parametros para lectura cambia\n",
        "dfs_percepcion[2011] = pd.read_excel(percepcion_path / 'percepcion_2011.xlsx', sheet_name= 1, skiprows = 9, usecols = [0,4], names = ['Entidad', '2011'], nrows=33)\n",
        "dfs_percepcion[2012] = pd.read_excel(percepcion_path / 'percepcion_2012.xlsx', sheet_name = 4, skiprows = 9, usecols = [0,7], names = ['Entidad', '2012'], nrows=33)\n",
        "dfs_percepcion[2013] = pd.read_excel(percepcion_path / 'percepcion_2013.xlsx', sheet_name = 4, skiprows = 9, usecols = [0,7], names = ['Entidad', '2013'], nrows=33)\n",
        "dfs_percepcion[2014] = pd.read_excel(percepcion_path / 'percepcion_2014.xlsx', sheet_name = 4, skiprows = 9, usecols = [0,7], names = ['Entidad', '2014'], nrows=33)\n",
        "dfs_percepcion[2015] = pd.read_excel(percepcion_path / 'percepcion_2015.xlsx', sheet_name = 10, skiprows = 9, usecols = [0,7], names = ['Entidad', '2015'], nrows=33)\n",
        "dfs_percepcion[2016] = pd.read_excel(percepcion_path / 'percepcion_2016.xlsx', sheet_name = 10, skiprows = 9, usecols = [0,7], names = ['Entidad', '2016'], nrows=33)\n",
        "dfs_percepcion[2017] = pd.read_excel(percepcion_path / 'percepcion_2016.xlsx', sheet_name = 10, skiprows = 9, usecols = [0,7], names = ['Entidad', '2017'], nrows=33)\n",
        "dfs_percepcion[2018] = pd.read_excel(percepcion_path / 'percepcion_2018.xlsx', sheet_name = 10, skiprows = 9, usecols = [0,7], names = ['Entidad', '2018'], nrows=33)\n",
        "dfs_percepcion[2019] = pd.read_excel(percepcion_path / 'percepcion_2019.xlsx', sheet_name = 10, skiprows = 9, usecols = [0,7], names = ['Entidad', '2019'], nrows=33)\n",
        "dfs_percepcion[2020] = pd.read_excel(percepcion_path / 'percepcion_2020.xlsx', sheet_name = 10, skiprows = 9, usecols = [0,7], names = ['Entidad', '2020'], nrows=33)\n",
        "dfs_percepcion[2021] = pd.read_excel(percepcion_path / 'percepcion_2021.xlsx', sheet_name = 10, skiprows = 9, usecols = [0,7], names = ['Entidad', '2021'], nrows=33)\n",
        "dfs_percepcion[2022] = pd.read_excel(percepcion_path / 'percepcion_2022.xlsx', sheet_name = 10, skiprows = 9, usecols = [0,7], names = ['Entidad', '2022'], nrows=33)\n",
        "dfs_percepcion[2023] = pd.read_excel(percepcion_path / 'percepcion_2023.xlsx', sheet_name = 13, skiprows = 9, usecols = [0,7], names = ['Entidad', '2023'], nrows=33)\n",
        "\n",
        "#creamos Dataframe\n",
        "for año in range(2011, 2023):\n",
        "  if año == 2011:\n",
        "    entidades_percep = pd.merge(dfs_percepcion[año], dfs_percepcion[año + 1][str(año+1)], left_index=True, right_index=True)\n",
        "  else:\n",
        "    entidades_percep = pd.merge(entidades_percep, dfs_percepcion[año + 1][str(año+1)], left_index=True, right_index=True)\n",
        "\n",
        "entidades_percep"
      ]
    },
    {
      "cell_type": "code",
      "execution_count": 29,
      "metadata": {},
      "outputs": [],
      "source": [
        "# Crear el Archivo tidy para trabajar...\n",
        "entidades_percep.to_csv(tidy_data_path / \"percepcion_inseguridad_inegi.csv\", index=False)"
      ]
    },
    {
      "cell_type": "markdown",
      "metadata": {
        "id": "6YitxXe81IBN"
      },
      "source": [
        "# 3. Incidencia delictiva"
      ]
    },
    {
      "cell_type": "code",
      "execution_count": 30,
      "metadata": {},
      "outputs": [
        {
          "name": "stdout",
          "output_type": "stream",
          "text": [
            "data\n"
          ]
        }
      ],
      "source": [
        "print(data_path)"
      ]
    },
    {
      "cell_type": "code",
      "execution_count": 31,
      "metadata": {},
      "outputs": [],
      "source": [
        "delitos_path = data_path / \"data_delitos.csv\""
      ]
    },
    {
      "cell_type": "markdown",
      "metadata": {},
      "source": [
        "Cargamos el dataframe y cambiamos los nombres de las columnas"
      ]
    },
    {
      "cell_type": "code",
      "execution_count": 32,
      "metadata": {
        "id": "2-XVfbb01IBN"
      },
      "outputs": [],
      "source": [
        "df_delitos = pd.read_csv(delitos_path, encoding = 'iso-8859-1')\n",
        "df_delitos.rename(\n",
        "    columns={\n",
        "        \"Año\" : \"anio\",\n",
        "        \"Clave_Ent\" : \"clave_ent\",\n",
        "        \"Entidad\" : \"entidad\",\n",
        "        \"Cve. Municipio\" : \"clave_municipio\",\n",
        "        \"Municipio\" : \"municipio\",\n",
        "        \"Bien jurídico afectado\": \"bien_afectado\",\n",
        "        \"Tipo de delito\" : \"tipo_delito\",\n",
        "        \"Subtipo de delito\" : \"subtipo_delito\",\n",
        "        \"Modalidad\" : \"modalidad\",\n",
        "        \"Enero\" : \"enero\",\n",
        "        \"Febrero\" : \"Febrero\",\n",
        "        \"Marzo\" : \"marzo\",\n",
        "        \"Abril\" : \"abril\",\n",
        "        \"Mayo\" : \"mayo\",\n",
        "        \"Junio\" : \"junio\",\n",
        "        \"Julio\" : \"julio\",\n",
        "        \"Agosto\" : \"agosto\",\n",
        "        \"Septiembre\" : \"septiembre\",\n",
        "        \"Octubre\" : \"octubre\",\n",
        "        \"Noviembre\" : \"noviembre\",\n",
        "        \"Diciembre\" : \"diciembre\",\n",
        "    },\n",
        "    inplace = True\n",
        ")"
      ]
    },
    {
      "cell_type": "code",
      "execution_count": 33,
      "metadata": {
        "id": "So5yAf_11IBO",
        "outputId": "90c7292e-86ea-4b4f-8fd1-815404ef3889"
      },
      "outputs": [
        {
          "data": {
            "text/html": [
              "<div>\n",
              "<style scoped>\n",
              "    .dataframe tbody tr th:only-of-type {\n",
              "        vertical-align: middle;\n",
              "    }\n",
              "\n",
              "    .dataframe tbody tr th {\n",
              "        vertical-align: top;\n",
              "    }\n",
              "\n",
              "    .dataframe thead th {\n",
              "        text-align: right;\n",
              "    }\n",
              "</style>\n",
              "<table border=\"1\" class=\"dataframe\">\n",
              "  <thead>\n",
              "    <tr style=\"text-align: right;\">\n",
              "      <th></th>\n",
              "      <th>anio</th>\n",
              "      <th>clave_ent</th>\n",
              "      <th>entidad</th>\n",
              "      <th>clave_municipio</th>\n",
              "      <th>municipio</th>\n",
              "      <th>bien_afectado</th>\n",
              "      <th>tipo_delito</th>\n",
              "      <th>subtipo_delito</th>\n",
              "      <th>modalidad</th>\n",
              "      <th>enero</th>\n",
              "      <th>...</th>\n",
              "      <th>marzo</th>\n",
              "      <th>abril</th>\n",
              "      <th>mayo</th>\n",
              "      <th>junio</th>\n",
              "      <th>julio</th>\n",
              "      <th>agosto</th>\n",
              "      <th>septiembre</th>\n",
              "      <th>octubre</th>\n",
              "      <th>noviembre</th>\n",
              "      <th>diciembre</th>\n",
              "    </tr>\n",
              "  </thead>\n",
              "  <tbody>\n",
              "    <tr>\n",
              "      <th>0</th>\n",
              "      <td>2015</td>\n",
              "      <td>1</td>\n",
              "      <td>Aguascalientes</td>\n",
              "      <td>1001</td>\n",
              "      <td>Aguascalientes</td>\n",
              "      <td>La vida y la Integridad corporal</td>\n",
              "      <td>Homicidio</td>\n",
              "      <td>Homicidio doloso</td>\n",
              "      <td>Con arma de fuego</td>\n",
              "      <td>2</td>\n",
              "      <td>...</td>\n",
              "      <td>1</td>\n",
              "      <td>1</td>\n",
              "      <td>0</td>\n",
              "      <td>1</td>\n",
              "      <td>1</td>\n",
              "      <td>0</td>\n",
              "      <td>2</td>\n",
              "      <td>1.0</td>\n",
              "      <td>0.0</td>\n",
              "      <td>1.0</td>\n",
              "    </tr>\n",
              "    <tr>\n",
              "      <th>1</th>\n",
              "      <td>2015</td>\n",
              "      <td>1</td>\n",
              "      <td>Aguascalientes</td>\n",
              "      <td>1001</td>\n",
              "      <td>Aguascalientes</td>\n",
              "      <td>La vida y la Integridad corporal</td>\n",
              "      <td>Homicidio</td>\n",
              "      <td>Homicidio doloso</td>\n",
              "      <td>Con arma blanca</td>\n",
              "      <td>1</td>\n",
              "      <td>...</td>\n",
              "      <td>0</td>\n",
              "      <td>0</td>\n",
              "      <td>0</td>\n",
              "      <td>1</td>\n",
              "      <td>0</td>\n",
              "      <td>1</td>\n",
              "      <td>0</td>\n",
              "      <td>0.0</td>\n",
              "      <td>0.0</td>\n",
              "      <td>0.0</td>\n",
              "    </tr>\n",
              "    <tr>\n",
              "      <th>2</th>\n",
              "      <td>2015</td>\n",
              "      <td>1</td>\n",
              "      <td>Aguascalientes</td>\n",
              "      <td>1001</td>\n",
              "      <td>Aguascalientes</td>\n",
              "      <td>La vida y la Integridad corporal</td>\n",
              "      <td>Homicidio</td>\n",
              "      <td>Homicidio doloso</td>\n",
              "      <td>Con otro elemento</td>\n",
              "      <td>0</td>\n",
              "      <td>...</td>\n",
              "      <td>1</td>\n",
              "      <td>1</td>\n",
              "      <td>3</td>\n",
              "      <td>2</td>\n",
              "      <td>0</td>\n",
              "      <td>1</td>\n",
              "      <td>2</td>\n",
              "      <td>0.0</td>\n",
              "      <td>0.0</td>\n",
              "      <td>0.0</td>\n",
              "    </tr>\n",
              "    <tr>\n",
              "      <th>3</th>\n",
              "      <td>2015</td>\n",
              "      <td>1</td>\n",
              "      <td>Aguascalientes</td>\n",
              "      <td>1001</td>\n",
              "      <td>Aguascalientes</td>\n",
              "      <td>La vida y la Integridad corporal</td>\n",
              "      <td>Homicidio</td>\n",
              "      <td>Homicidio doloso</td>\n",
              "      <td>No especificado</td>\n",
              "      <td>1</td>\n",
              "      <td>...</td>\n",
              "      <td>0</td>\n",
              "      <td>1</td>\n",
              "      <td>0</td>\n",
              "      <td>0</td>\n",
              "      <td>0</td>\n",
              "      <td>0</td>\n",
              "      <td>0</td>\n",
              "      <td>0.0</td>\n",
              "      <td>0.0</td>\n",
              "      <td>0.0</td>\n",
              "    </tr>\n",
              "    <tr>\n",
              "      <th>4</th>\n",
              "      <td>2015</td>\n",
              "      <td>1</td>\n",
              "      <td>Aguascalientes</td>\n",
              "      <td>1001</td>\n",
              "      <td>Aguascalientes</td>\n",
              "      <td>La vida y la Integridad corporal</td>\n",
              "      <td>Homicidio</td>\n",
              "      <td>Homicidio culposo</td>\n",
              "      <td>Con arma de fuego</td>\n",
              "      <td>0</td>\n",
              "      <td>...</td>\n",
              "      <td>0</td>\n",
              "      <td>0</td>\n",
              "      <td>1</td>\n",
              "      <td>0</td>\n",
              "      <td>0</td>\n",
              "      <td>0</td>\n",
              "      <td>0</td>\n",
              "      <td>0.0</td>\n",
              "      <td>0.0</td>\n",
              "      <td>0.0</td>\n",
              "    </tr>\n",
              "    <tr>\n",
              "      <th>...</th>\n",
              "      <td>...</td>\n",
              "      <td>...</td>\n",
              "      <td>...</td>\n",
              "      <td>...</td>\n",
              "      <td>...</td>\n",
              "      <td>...</td>\n",
              "      <td>...</td>\n",
              "      <td>...</td>\n",
              "      <td>...</td>\n",
              "      <td>...</td>\n",
              "      <td>...</td>\n",
              "      <td>...</td>\n",
              "      <td>...</td>\n",
              "      <td>...</td>\n",
              "      <td>...</td>\n",
              "      <td>...</td>\n",
              "      <td>...</td>\n",
              "      <td>...</td>\n",
              "      <td>...</td>\n",
              "      <td>...</td>\n",
              "      <td>...</td>\n",
              "    </tr>\n",
              "    <tr>\n",
              "      <th>2075733</th>\n",
              "      <td>2023</td>\n",
              "      <td>32</td>\n",
              "      <td>Zacatecas</td>\n",
              "      <td>32058</td>\n",
              "      <td>Santa María de la Paz</td>\n",
              "      <td>Otros bienes jurídicos afectados (del fuero co...</td>\n",
              "      <td>Falsificación</td>\n",
              "      <td>Falsificación</td>\n",
              "      <td>Falsificación</td>\n",
              "      <td>0</td>\n",
              "      <td>...</td>\n",
              "      <td>0</td>\n",
              "      <td>0</td>\n",
              "      <td>0</td>\n",
              "      <td>0</td>\n",
              "      <td>0</td>\n",
              "      <td>0</td>\n",
              "      <td>0</td>\n",
              "      <td>NaN</td>\n",
              "      <td>NaN</td>\n",
              "      <td>NaN</td>\n",
              "    </tr>\n",
              "    <tr>\n",
              "      <th>2075734</th>\n",
              "      <td>2023</td>\n",
              "      <td>32</td>\n",
              "      <td>Zacatecas</td>\n",
              "      <td>32058</td>\n",
              "      <td>Santa María de la Paz</td>\n",
              "      <td>Otros bienes jurídicos afectados (del fuero co...</td>\n",
              "      <td>Contra el medio ambiente</td>\n",
              "      <td>Contra el medio ambiente</td>\n",
              "      <td>Contra el medio ambiente</td>\n",
              "      <td>0</td>\n",
              "      <td>...</td>\n",
              "      <td>0</td>\n",
              "      <td>0</td>\n",
              "      <td>0</td>\n",
              "      <td>0</td>\n",
              "      <td>0</td>\n",
              "      <td>0</td>\n",
              "      <td>0</td>\n",
              "      <td>NaN</td>\n",
              "      <td>NaN</td>\n",
              "      <td>NaN</td>\n",
              "    </tr>\n",
              "    <tr>\n",
              "      <th>2075735</th>\n",
              "      <td>2023</td>\n",
              "      <td>32</td>\n",
              "      <td>Zacatecas</td>\n",
              "      <td>32058</td>\n",
              "      <td>Santa María de la Paz</td>\n",
              "      <td>Otros bienes jurídicos afectados (del fuero co...</td>\n",
              "      <td>Delitos cometidos por servidores públicos</td>\n",
              "      <td>Delitos cometidos por servidores públicos</td>\n",
              "      <td>Delitos cometidos por servidores públicos</td>\n",
              "      <td>0</td>\n",
              "      <td>...</td>\n",
              "      <td>0</td>\n",
              "      <td>0</td>\n",
              "      <td>0</td>\n",
              "      <td>0</td>\n",
              "      <td>0</td>\n",
              "      <td>0</td>\n",
              "      <td>0</td>\n",
              "      <td>NaN</td>\n",
              "      <td>NaN</td>\n",
              "      <td>NaN</td>\n",
              "    </tr>\n",
              "    <tr>\n",
              "      <th>2075736</th>\n",
              "      <td>2023</td>\n",
              "      <td>32</td>\n",
              "      <td>Zacatecas</td>\n",
              "      <td>32058</td>\n",
              "      <td>Santa María de la Paz</td>\n",
              "      <td>Otros bienes jurídicos afectados (del fuero co...</td>\n",
              "      <td>Electorales</td>\n",
              "      <td>Electorales</td>\n",
              "      <td>Electorales</td>\n",
              "      <td>0</td>\n",
              "      <td>...</td>\n",
              "      <td>0</td>\n",
              "      <td>0</td>\n",
              "      <td>0</td>\n",
              "      <td>0</td>\n",
              "      <td>0</td>\n",
              "      <td>0</td>\n",
              "      <td>0</td>\n",
              "      <td>NaN</td>\n",
              "      <td>NaN</td>\n",
              "      <td>NaN</td>\n",
              "    </tr>\n",
              "    <tr>\n",
              "      <th>2075737</th>\n",
              "      <td>2023</td>\n",
              "      <td>32</td>\n",
              "      <td>Zacatecas</td>\n",
              "      <td>32058</td>\n",
              "      <td>Santa María de la Paz</td>\n",
              "      <td>Otros bienes jurídicos afectados (del fuero co...</td>\n",
              "      <td>Otros delitos del Fuero Común</td>\n",
              "      <td>Otros delitos del Fuero Común</td>\n",
              "      <td>Otros delitos del Fuero Común</td>\n",
              "      <td>0</td>\n",
              "      <td>...</td>\n",
              "      <td>1</td>\n",
              "      <td>0</td>\n",
              "      <td>0</td>\n",
              "      <td>0</td>\n",
              "      <td>0</td>\n",
              "      <td>1</td>\n",
              "      <td>0</td>\n",
              "      <td>NaN</td>\n",
              "      <td>NaN</td>\n",
              "      <td>NaN</td>\n",
              "    </tr>\n",
              "  </tbody>\n",
              "</table>\n",
              "<p>2075738 rows × 21 columns</p>\n",
              "</div>"
            ],
            "text/plain": [
              "         anio  clave_ent         entidad  clave_municipio  \\\n",
              "0        2015          1  Aguascalientes             1001   \n",
              "1        2015          1  Aguascalientes             1001   \n",
              "2        2015          1  Aguascalientes             1001   \n",
              "3        2015          1  Aguascalientes             1001   \n",
              "4        2015          1  Aguascalientes             1001   \n",
              "...       ...        ...             ...              ...   \n",
              "2075733  2023         32       Zacatecas            32058   \n",
              "2075734  2023         32       Zacatecas            32058   \n",
              "2075735  2023         32       Zacatecas            32058   \n",
              "2075736  2023         32       Zacatecas            32058   \n",
              "2075737  2023         32       Zacatecas            32058   \n",
              "\n",
              "                     municipio  \\\n",
              "0               Aguascalientes   \n",
              "1               Aguascalientes   \n",
              "2               Aguascalientes   \n",
              "3               Aguascalientes   \n",
              "4               Aguascalientes   \n",
              "...                        ...   \n",
              "2075733  Santa María de la Paz   \n",
              "2075734  Santa María de la Paz   \n",
              "2075735  Santa María de la Paz   \n",
              "2075736  Santa María de la Paz   \n",
              "2075737  Santa María de la Paz   \n",
              "\n",
              "                                             bien_afectado  \\\n",
              "0                         La vida y la Integridad corporal   \n",
              "1                         La vida y la Integridad corporal   \n",
              "2                         La vida y la Integridad corporal   \n",
              "3                         La vida y la Integridad corporal   \n",
              "4                         La vida y la Integridad corporal   \n",
              "...                                                    ...   \n",
              "2075733  Otros bienes jurídicos afectados (del fuero co...   \n",
              "2075734  Otros bienes jurídicos afectados (del fuero co...   \n",
              "2075735  Otros bienes jurídicos afectados (del fuero co...   \n",
              "2075736  Otros bienes jurídicos afectados (del fuero co...   \n",
              "2075737  Otros bienes jurídicos afectados (del fuero co...   \n",
              "\n",
              "                                       tipo_delito  \\\n",
              "0                                        Homicidio   \n",
              "1                                        Homicidio   \n",
              "2                                        Homicidio   \n",
              "3                                        Homicidio   \n",
              "4                                        Homicidio   \n",
              "...                                            ...   \n",
              "2075733                              Falsificación   \n",
              "2075734                   Contra el medio ambiente   \n",
              "2075735  Delitos cometidos por servidores públicos   \n",
              "2075736                                Electorales   \n",
              "2075737              Otros delitos del Fuero Común   \n",
              "\n",
              "                                    subtipo_delito  \\\n",
              "0                                 Homicidio doloso   \n",
              "1                                 Homicidio doloso   \n",
              "2                                 Homicidio doloso   \n",
              "3                                 Homicidio doloso   \n",
              "4                                Homicidio culposo   \n",
              "...                                            ...   \n",
              "2075733                              Falsificación   \n",
              "2075734                   Contra el medio ambiente   \n",
              "2075735  Delitos cometidos por servidores públicos   \n",
              "2075736                                Electorales   \n",
              "2075737              Otros delitos del Fuero Común   \n",
              "\n",
              "                                         modalidad  enero  ...  marzo  abril  \\\n",
              "0                                Con arma de fuego      2  ...      1      1   \n",
              "1                                  Con arma blanca      1  ...      0      0   \n",
              "2                                Con otro elemento      0  ...      1      1   \n",
              "3                                  No especificado      1  ...      0      1   \n",
              "4                                Con arma de fuego      0  ...      0      0   \n",
              "...                                            ...    ...  ...    ...    ...   \n",
              "2075733                              Falsificación      0  ...      0      0   \n",
              "2075734                   Contra el medio ambiente      0  ...      0      0   \n",
              "2075735  Delitos cometidos por servidores públicos      0  ...      0      0   \n",
              "2075736                                Electorales      0  ...      0      0   \n",
              "2075737              Otros delitos del Fuero Común      0  ...      1      0   \n",
              "\n",
              "         mayo  junio  julio  agosto  septiembre  octubre  noviembre  diciembre  \n",
              "0           0      1      1       0           2      1.0        0.0        1.0  \n",
              "1           0      1      0       1           0      0.0        0.0        0.0  \n",
              "2           3      2      0       1           2      0.0        0.0        0.0  \n",
              "3           0      0      0       0           0      0.0        0.0        0.0  \n",
              "4           1      0      0       0           0      0.0        0.0        0.0  \n",
              "...       ...    ...    ...     ...         ...      ...        ...        ...  \n",
              "2075733     0      0      0       0           0      NaN        NaN        NaN  \n",
              "2075734     0      0      0       0           0      NaN        NaN        NaN  \n",
              "2075735     0      0      0       0           0      NaN        NaN        NaN  \n",
              "2075736     0      0      0       0           0      NaN        NaN        NaN  \n",
              "2075737     0      0      0       1           0      NaN        NaN        NaN  \n",
              "\n",
              "[2075738 rows x 21 columns]"
            ]
          },
          "execution_count": 33,
          "metadata": {},
          "output_type": "execute_result"
        }
      ],
      "source": [
        "df_delitos"
      ]
    },
    {
      "cell_type": "markdown",
      "metadata": {
        "id": "JspEuKu9SXTE"
      },
      "source": [
        "### Diccionario delitos\n",
        "\n",
        "\n",
        "<div align=\"center\">\n",
        "\n",
        "|  variable |  tipo de dato |  descripción | valores nulos |\n",
        "|-----------|---------------|--------------|--------------|\n",
        "| anio       | int           |  Año de la instancia   |  0\n",
        "|clave_ent | int             | Número que representa el estado en el orden usual| 0|\n",
        "| entidad   |  str         | Nombre del estado| 0|\n",
        "|clave_municipio| int | Clave númerica del municipio| 0|\n",
        "| municipio | str | Nombre del municipio | 0|\n",
        "| bien_afectado| str | se refiere a la propiedad o los activos que han sido dañados, robados,<br />destruidos o de alguna manera perjudicados como resultado del delito | 0 |\n",
        "|tipo_delito | str| se refiere a la categorización o clasificación de un delito en función de<br /> sus características y la naturaleza de la actividad ilegal.  | 0|\n",
        "|subtipo_delito| str | Segundo nivel de clasificacion de delito | 0|\n",
        "| modalidad | str | forma específica o a las circunstancias en las que se comete el delito | 0|\n",
        "|enero | int | conteo de delitos durante enero | 0|\n",
        "|febrero | int | conteo de delitos durante febrero | 0|\n",
        "|marzo | int | conteo de delitos durante marzo | 0  |   \n",
        "|abril | int | conteo de delitos durante abril | 0  |                           \n",
        "|mayo | int | conteo de delitos durante mayo | 0  |  \n",
        "|junio | int | conteo de delitos durante junio | 0  |   \n",
        "|julio | int | conteo de delitos durante julio | 0  |  \n",
        "|agosto | int | conteo de delitos durante agosto | 0  |  \n",
        "|septiembre | float | conteo de delitos durante septiembre | 243,334  |  \n",
        "|octubre | float | conteo de delitos durante octubre | 243,334  |  \n",
        "|noviembre | float | conteo de delitos durante noviembre | 243,334  |  \n",
        "|diciembre | float | conteo de delitos durante diciembre | 243,334  |         "
      ]
    },
    {
      "cell_type": "code",
      "execution_count": 34,
      "metadata": {
        "id": "Su6_fAPQ1IBO",
        "outputId": "a76d768a-2d7b-4d2c-c90b-4f06e2f022e9"
      },
      "outputs": [
        {
          "data": {
            "text/plain": [
              "array([ 1,  2,  3,  4,  5,  6,  7,  8,  9, 10, 11, 12, 13, 14, 15, 16, 17,\n",
              "       18, 19, 20, 21, 22, 23, 24, 25, 26, 27, 28, 29, 30, 31, 32],\n",
              "      dtype=int64)"
            ]
          },
          "execution_count": 34,
          "metadata": {},
          "output_type": "execute_result"
        }
      ],
      "source": [
        "# Ojo en este archivo no viene una suma total del país como entidad 0, igual que en el archivo anterior... esta habrá que crearla...\n",
        "df_delitos[\"clave_ent\"].unique()"
      ]
    },
    {
      "cell_type": "code",
      "execution_count": 35,
      "metadata": {
        "id": "Qv3xNRbf1IBO",
        "outputId": "53d905fd-d125-4fe6-e910-2f8b108286c2"
      },
      "outputs": [
        {
          "name": "stdout",
          "output_type": "stream",
          "text": [
            "<class 'pandas.core.frame.DataFrame'>\n",
            "RangeIndex: 2075738 entries, 0 to 2075737\n",
            "Data columns (total 21 columns):\n",
            " #   Column           Dtype  \n",
            "---  ------           -----  \n",
            " 0   anio             int64  \n",
            " 1   clave_ent        int64  \n",
            " 2   entidad          object \n",
            " 3   clave_municipio  int64  \n",
            " 4   municipio        object \n",
            " 5   bien_afectado    object \n",
            " 6   tipo_delito      object \n",
            " 7   subtipo_delito   object \n",
            " 8   modalidad        object \n",
            " 9   enero            int64  \n",
            " 10  Febrero          int64  \n",
            " 11  marzo            int64  \n",
            " 12  abril            int64  \n",
            " 13  mayo             int64  \n",
            " 14  junio            int64  \n",
            " 15  julio            int64  \n",
            " 16  agosto           int64  \n",
            " 17  septiembre       int64  \n",
            " 18  octubre          float64\n",
            " 19  noviembre        float64\n",
            " 20  diciembre        float64\n",
            "dtypes: float64(3), int64(12), object(6)\n",
            "memory usage: 332.6+ MB\n"
          ]
        },
        {
          "data": {
            "text/plain": [
              "(2075738, 21)"
            ]
          },
          "execution_count": 35,
          "metadata": {},
          "output_type": "execute_result"
        }
      ],
      "source": [
        "df_delitos.info()\n",
        "\n",
        "df_delitos.shape"
      ]
    },
    {
      "cell_type": "markdown",
      "metadata": {
        "id": "0MwkDHKI1IBO"
      },
      "source": [
        "## Transformación de los datos\n",
        "Al parecer los datos de proyección de población no necesitan procesamiento. Nos concentraremos entonces en los de incidencia delictiva."
      ]
    },
    {
      "cell_type": "markdown",
      "metadata": {
        "id": "2H9RGsJO1IBO"
      },
      "source": [
        "## Manejo de datos faltantes"
      ]
    },
    {
      "cell_type": "code",
      "execution_count": 36,
      "metadata": {
        "id": "9Rl0x9dk1IBO",
        "outputId": "5dbffdf2-a4e5-41b2-f6fa-a7bcaa0a984e"
      },
      "outputs": [
        {
          "data": {
            "text/plain": [
              "anio                    0\n",
              "clave_ent               0\n",
              "entidad                 0\n",
              "clave_municipio         0\n",
              "municipio               0\n",
              "bien_afectado           0\n",
              "tipo_delito             0\n",
              "subtipo_delito          0\n",
              "modalidad               0\n",
              "enero                   0\n",
              "Febrero                 0\n",
              "marzo                   0\n",
              "abril                   0\n",
              "mayo                    0\n",
              "junio                   0\n",
              "julio                   0\n",
              "agosto                  0\n",
              "septiembre              0\n",
              "octubre            243334\n",
              "noviembre          243334\n",
              "diciembre          243334\n",
              "dtype: int64"
            ]
          },
          "execution_count": 36,
          "metadata": {},
          "output_type": "execute_result"
        }
      ],
      "source": [
        "# Columnas con valores nulos...\n",
        "df_delitos.isnull().sum()"
      ]
    },
    {
      "cell_type": "code",
      "execution_count": 37,
      "metadata": {},
      "outputs": [
        {
          "data": {
            "text/plain": [
              "'\\n%matplotlib inline\\nimport missingno as msno\\n'"
            ]
          },
          "execution_count": 37,
          "metadata": {},
          "output_type": "execute_result"
        }
      ],
      "source": [
        "\"\"\"\n",
        "%matplotlib inline\n",
        "import missingno as msno\n",
        "\"\"\""
      ]
    },
    {
      "cell_type": "code",
      "execution_count": 38,
      "metadata": {
        "id": "yN6SqJZT1IBP",
        "outputId": "35982cea-fef9-495c-9695-81f844ec850f"
      },
      "outputs": [
        {
          "data": {
            "text/plain": [
              "<Axes: >"
            ]
          },
          "execution_count": 38,
          "metadata": {},
          "output_type": "execute_result"
        }
      ],
      "source": [
        "msno.matrix(df_delitos)"
      ]
    },
    {
      "cell_type": "markdown",
      "metadata": {
        "id": "KRUGMdGS1IBP"
      },
      "source": [
        "Se puede ver que los valores faltantes estan en la ultima parte del dataset (fechas mas actuales) y en los ultimos meses. Esto quire decir que no hay datos capturados a partir de septiembre para 2023, lo cual es de lógico."
      ]
    },
    {
      "cell_type": "code",
      "execution_count": null,
      "metadata": {
        "id": "Ei9qw9iF1IBP",
        "outputId": "d70c5af2-6767-4fab-c23c-d48ad7674626"
      },
      "outputs": [
        {
          "data": {
            "text/plain": [
              "anio               0\n",
              "clave_ent          0\n",
              "entidad            0\n",
              "clave_municipio    0\n",
              "municipio          0\n",
              "bien_afectado      0\n",
              "tipo_delito        0\n",
              "subtipo_delito     0\n",
              "modalidad          0\n",
              "enero              0\n",
              "Febrero            0\n",
              "marzo              0\n",
              "abril              0\n",
              "mayo               0\n",
              "junio              0\n",
              "julio              0\n",
              "agosto             0\n",
              "septiembre         0\n",
              "octubre            0\n",
              "noviembre          0\n",
              "diciembre          0\n",
              "dtype: int64"
            ]
          },
          "execution_count": 153,
          "metadata": {},
          "output_type": "execute_result"
        }
      ],
      "source": [
        "# Esas columnas son de valores numéricos... se van a sustituir por ceros...\n",
        "df_delitos.fillna(0, inplace=True)\n",
        "\n",
        "df_delitos.isnull().sum()\n",
        "# Resuelto..."
      ]
    },
    {
      "cell_type": "markdown",
      "metadata": {
        "id": "46ckJtCh1IBP"
      },
      "source": [
        "## Manejo de tipo de datos"
      ]
    },
    {
      "cell_type": "code",
      "execution_count": null,
      "metadata": {
        "id": "tpmtYXYn1IBP",
        "outputId": "bd67684c-6b22-47c1-e805-21b79a726bf5"
      },
      "outputs": [
        {
          "name": "stdout",
          "output_type": "stream",
          "text": [
            "<class 'pandas.core.frame.DataFrame'>\n",
            "RangeIndex: 2075738 entries, 0 to 2075737\n",
            "Data columns (total 21 columns):\n",
            " #   Column           Dtype  \n",
            "---  ------           -----  \n",
            " 0   anio             int64  \n",
            " 1   clave_ent        int64  \n",
            " 2   entidad          object \n",
            " 3   clave_municipio  int64  \n",
            " 4   municipio        object \n",
            " 5   bien_afectado    object \n",
            " 6   tipo_delito      object \n",
            " 7   subtipo_delito   object \n",
            " 8   modalidad        object \n",
            " 9   enero            int64  \n",
            " 10  Febrero          int64  \n",
            " 11  marzo            int64  \n",
            " 12  abril            int64  \n",
            " 13  mayo             int64  \n",
            " 14  junio            int64  \n",
            " 15  julio            int64  \n",
            " 16  agosto           int64  \n",
            " 17  septiembre       int64  \n",
            " 18  octubre          float64\n",
            " 19  noviembre        float64\n",
            " 20  diciembre        float64\n",
            "dtypes: float64(3), int64(12), object(6)\n",
            "memory usage: 332.6+ MB\n"
          ]
        }
      ],
      "source": [
        "df_delitos.info()"
      ]
    },
    {
      "cell_type": "markdown",
      "metadata": {
        "id": "HMbFfU6f1IBP"
      },
      "source": [
        "Como vemos, los meses que aún no han sido registrados tienen tipo `float64`, para tener todos los datos homogeneos transformemolos a `int`"
      ]
    },
    {
      "cell_type": "code",
      "execution_count": null,
      "metadata": {
        "id": "CanxWWrD1IBP",
        "outputId": "a571952a-bfb2-4207-9ece-161be17456b0"
      },
      "outputs": [
        {
          "name": "stdout",
          "output_type": "stream",
          "text": [
            "<class 'pandas.core.frame.DataFrame'>\n",
            "RangeIndex: 2075738 entries, 0 to 2075737\n",
            "Data columns (total 21 columns):\n",
            " #   Column           Dtype \n",
            "---  ------           ----- \n",
            " 0   anio             int64 \n",
            " 1   clave_ent        int64 \n",
            " 2   entidad          object\n",
            " 3   clave_municipio  int64 \n",
            " 4   municipio        object\n",
            " 5   bien_afectado    object\n",
            " 6   tipo_delito      object\n",
            " 7   subtipo_delito   object\n",
            " 8   modalidad        object\n",
            " 9   enero            int32 \n",
            " 10  Febrero          int32 \n",
            " 11  marzo            int32 \n",
            " 12  abril            int32 \n",
            " 13  mayo             int32 \n",
            " 14  junio            int32 \n",
            " 15  julio            int32 \n",
            " 16  agosto           int32 \n",
            " 17  septiembre       int32 \n",
            " 18  octubre          int32 \n",
            " 19  noviembre        int32 \n",
            " 20  diciembre        int32 \n",
            "dtypes: int32(12), int64(3), object(6)\n",
            "memory usage: 237.5+ MB\n"
          ]
        }
      ],
      "source": [
        "df_delitos[df_delitos.columns[9:]] = df_delitos[df_delitos.columns[9:]].astype(int)\n",
        "df_delitos.info()"
      ]
    },
    {
      "cell_type": "markdown",
      "metadata": {
        "id": "1M9sAbTc1IBP"
      },
      "source": [
        "## Sanity check de los campos"
      ]
    },
    {
      "cell_type": "code",
      "execution_count": null,
      "metadata": {
        "id": "U1RDggP41IBP",
        "outputId": "bc5f278f-5c48-437b-af72-1f07aa28b606"
      },
      "outputs": [
        {
          "data": {
            "text/html": [
              "<div>\n",
              "<style scoped>\n",
              "    .dataframe tbody tr th:only-of-type {\n",
              "        vertical-align: middle;\n",
              "    }\n",
              "\n",
              "    .dataframe tbody tr th {\n",
              "        vertical-align: top;\n",
              "    }\n",
              "\n",
              "    .dataframe thead th {\n",
              "        text-align: right;\n",
              "    }\n",
              "</style>\n",
              "<table border=\"1\" class=\"dataframe\">\n",
              "  <thead>\n",
              "    <tr style=\"text-align: right;\">\n",
              "      <th></th>\n",
              "      <th>anio</th>\n",
              "      <th>clave_ent</th>\n",
              "      <th>entidad</th>\n",
              "      <th>clave_municipio</th>\n",
              "      <th>municipio</th>\n",
              "      <th>bien_afectado</th>\n",
              "      <th>tipo_delito</th>\n",
              "      <th>subtipo_delito</th>\n",
              "      <th>modalidad</th>\n",
              "      <th>enero</th>\n",
              "      <th>...</th>\n",
              "      <th>marzo</th>\n",
              "      <th>abril</th>\n",
              "      <th>mayo</th>\n",
              "      <th>junio</th>\n",
              "      <th>julio</th>\n",
              "      <th>agosto</th>\n",
              "      <th>septiembre</th>\n",
              "      <th>octubre</th>\n",
              "      <th>noviembre</th>\n",
              "      <th>diciembre</th>\n",
              "    </tr>\n",
              "  </thead>\n",
              "  <tbody>\n",
              "    <tr>\n",
              "      <th>0</th>\n",
              "      <td>2015</td>\n",
              "      <td>1</td>\n",
              "      <td>Aguascalientes</td>\n",
              "      <td>1001</td>\n",
              "      <td>Aguascalientes</td>\n",
              "      <td>La vida y la Integridad corporal</td>\n",
              "      <td>Homicidio</td>\n",
              "      <td>Homicidio doloso</td>\n",
              "      <td>Con arma de fuego</td>\n",
              "      <td>2</td>\n",
              "      <td>...</td>\n",
              "      <td>1</td>\n",
              "      <td>1</td>\n",
              "      <td>0</td>\n",
              "      <td>1</td>\n",
              "      <td>1</td>\n",
              "      <td>0</td>\n",
              "      <td>2</td>\n",
              "      <td>1</td>\n",
              "      <td>0</td>\n",
              "      <td>1</td>\n",
              "    </tr>\n",
              "    <tr>\n",
              "      <th>1</th>\n",
              "      <td>2015</td>\n",
              "      <td>1</td>\n",
              "      <td>Aguascalientes</td>\n",
              "      <td>1001</td>\n",
              "      <td>Aguascalientes</td>\n",
              "      <td>La vida y la Integridad corporal</td>\n",
              "      <td>Homicidio</td>\n",
              "      <td>Homicidio doloso</td>\n",
              "      <td>Con arma blanca</td>\n",
              "      <td>1</td>\n",
              "      <td>...</td>\n",
              "      <td>0</td>\n",
              "      <td>0</td>\n",
              "      <td>0</td>\n",
              "      <td>1</td>\n",
              "      <td>0</td>\n",
              "      <td>1</td>\n",
              "      <td>0</td>\n",
              "      <td>0</td>\n",
              "      <td>0</td>\n",
              "      <td>0</td>\n",
              "    </tr>\n",
              "    <tr>\n",
              "      <th>2</th>\n",
              "      <td>2015</td>\n",
              "      <td>1</td>\n",
              "      <td>Aguascalientes</td>\n",
              "      <td>1001</td>\n",
              "      <td>Aguascalientes</td>\n",
              "      <td>La vida y la Integridad corporal</td>\n",
              "      <td>Homicidio</td>\n",
              "      <td>Homicidio doloso</td>\n",
              "      <td>Con otro elemento</td>\n",
              "      <td>0</td>\n",
              "      <td>...</td>\n",
              "      <td>1</td>\n",
              "      <td>1</td>\n",
              "      <td>3</td>\n",
              "      <td>2</td>\n",
              "      <td>0</td>\n",
              "      <td>1</td>\n",
              "      <td>2</td>\n",
              "      <td>0</td>\n",
              "      <td>0</td>\n",
              "      <td>0</td>\n",
              "    </tr>\n",
              "    <tr>\n",
              "      <th>3</th>\n",
              "      <td>2015</td>\n",
              "      <td>1</td>\n",
              "      <td>Aguascalientes</td>\n",
              "      <td>1001</td>\n",
              "      <td>Aguascalientes</td>\n",
              "      <td>La vida y la Integridad corporal</td>\n",
              "      <td>Homicidio</td>\n",
              "      <td>Homicidio doloso</td>\n",
              "      <td>No especificado</td>\n",
              "      <td>1</td>\n",
              "      <td>...</td>\n",
              "      <td>0</td>\n",
              "      <td>1</td>\n",
              "      <td>0</td>\n",
              "      <td>0</td>\n",
              "      <td>0</td>\n",
              "      <td>0</td>\n",
              "      <td>0</td>\n",
              "      <td>0</td>\n",
              "      <td>0</td>\n",
              "      <td>0</td>\n",
              "    </tr>\n",
              "    <tr>\n",
              "      <th>4</th>\n",
              "      <td>2015</td>\n",
              "      <td>1</td>\n",
              "      <td>Aguascalientes</td>\n",
              "      <td>1001</td>\n",
              "      <td>Aguascalientes</td>\n",
              "      <td>La vida y la Integridad corporal</td>\n",
              "      <td>Homicidio</td>\n",
              "      <td>Homicidio culposo</td>\n",
              "      <td>Con arma de fuego</td>\n",
              "      <td>0</td>\n",
              "      <td>...</td>\n",
              "      <td>0</td>\n",
              "      <td>0</td>\n",
              "      <td>1</td>\n",
              "      <td>0</td>\n",
              "      <td>0</td>\n",
              "      <td>0</td>\n",
              "      <td>0</td>\n",
              "      <td>0</td>\n",
              "      <td>0</td>\n",
              "      <td>0</td>\n",
              "    </tr>\n",
              "  </tbody>\n",
              "</table>\n",
              "<p>5 rows × 21 columns</p>\n",
              "</div>"
            ],
            "text/plain": [
              "   anio  clave_ent         entidad  clave_municipio       municipio  \\\n",
              "0  2015          1  Aguascalientes             1001  Aguascalientes   \n",
              "1  2015          1  Aguascalientes             1001  Aguascalientes   \n",
              "2  2015          1  Aguascalientes             1001  Aguascalientes   \n",
              "3  2015          1  Aguascalientes             1001  Aguascalientes   \n",
              "4  2015          1  Aguascalientes             1001  Aguascalientes   \n",
              "\n",
              "                      bien_afectado tipo_delito     subtipo_delito  \\\n",
              "0  La vida y la Integridad corporal   Homicidio   Homicidio doloso   \n",
              "1  La vida y la Integridad corporal   Homicidio   Homicidio doloso   \n",
              "2  La vida y la Integridad corporal   Homicidio   Homicidio doloso   \n",
              "3  La vida y la Integridad corporal   Homicidio   Homicidio doloso   \n",
              "4  La vida y la Integridad corporal   Homicidio  Homicidio culposo   \n",
              "\n",
              "           modalidad  enero  ...  marzo  abril  mayo  junio  julio  agosto  \\\n",
              "0  Con arma de fuego      2  ...      1      1     0      1      1       0   \n",
              "1    Con arma blanca      1  ...      0      0     0      1      0       1   \n",
              "2  Con otro elemento      0  ...      1      1     3      2      0       1   \n",
              "3    No especificado      1  ...      0      1     0      0      0       0   \n",
              "4  Con arma de fuego      0  ...      0      0     1      0      0       0   \n",
              "\n",
              "   septiembre  octubre  noviembre  diciembre  \n",
              "0           2        1          0          1  \n",
              "1           0        0          0          0  \n",
              "2           2        0          0          0  \n",
              "3           0        0          0          0  \n",
              "4           0        0          0          0  \n",
              "\n",
              "[5 rows x 21 columns]"
            ]
          },
          "execution_count": 156,
          "metadata": {},
          "output_type": "execute_result"
        }
      ],
      "source": [
        "df_delitos.head()"
      ]
    },
    {
      "cell_type": "code",
      "execution_count": null,
      "metadata": {
        "id": "4jN4vNdq1IBQ",
        "outputId": "15970a92-b177-46e7-f556-04e0f80be098"
      },
      "outputs": [
        {
          "data": {
            "text/plain": [
              "'\\n# Revisar que los años estén en el rango adecuado\\nassert df_delitos[\"anio\"].min() == 2015 and df_delitos[\"anio\"].max() == 2023, \"Años en el dataset incorrectos. Revisar.\"\\n# Revisar que solo haya 32 claves para las entidades del país\\nassert len(df_delitos[\"clave_ent\"].unique()) == 32, \"Se encontraron más de 32 claves para entidad. Revisar\"\\n# Revisar por que salen 2483 municipios si inegi reporta que México cuenta con 2469.\\n# Pueda ser que solo se registren municipios con delitos y hay algunos con cero.\\n# print(len(df_delitos[\"clave_municipio\"].unique()))\\n\\n# Determinar que el conteo de delito por meses sean valores positivos\\nassert np.where(df_delitos.iloc[:,9:] < 0)[0].size == 0, \"Se encontraron meses con valores negativos en el conteo. Revisar\"\\n\\n'"
            ]
          },
          "execution_count": 157,
          "metadata": {},
          "output_type": "execute_result"
        }
      ],
      "source": [
        "\"\"\"\n",
        "# Revisar que los años estén en el rango adecuado\n",
        "assert df_delitos[\"anio\"].min() == 2015 and df_delitos[\"anio\"].max() == 2023, \"Años en el dataset incorrectos. Revisar.\"\n",
        "# Revisar que solo haya 32 claves para las entidades del país\n",
        "assert len(df_delitos[\"clave_ent\"].unique()) == 32, \"Se encontraron más de 32 claves para entidad. Revisar\"\n",
        "# Revisar por que salen 2483 municipios si inegi reporta que México cuenta con 2469.\n",
        "# Pueda ser que solo se registren municipios con delitos y hay algunos con cero.\n",
        "# print(len(df_delitos[\"clave_municipio\"].unique()))\n",
        "\n",
        "# Determinar que el conteo de delito por meses sean valores positivos\n",
        "assert np.where(df_delitos.iloc[:,9:] < 0)[0].size == 0, \"Se encontraron meses con valores negativos en el conteo. Revisar\"\n",
        "\n",
        "\"\"\""
      ]
    },
    {
      "cell_type": "markdown",
      "metadata": {},
      "source": [
        "Como vemos, hay algunas entradas que tienen un -1 como conteo de delitos, así que vamos a llenarlos con ceros."
      ]
    },
    {
      "cell_type": "code",
      "execution_count": null,
      "metadata": {
        "id": "zG_A8xfZ1IBQ",
        "outputId": "f9ef0a80-c9d9-4c15-cbd3-1f286ff6e754"
      },
      "outputs": [
        {
          "data": {
            "text/plain": [
              "(array([404869, 814520], dtype=int64), array([8, 4], dtype=int64))"
            ]
          },
          "execution_count": 158,
          "metadata": {},
          "output_type": "execute_result"
        }
      ],
      "source": [
        "np.where(df_delitos.iloc[:,9:] < 0)"
      ]
    },
    {
      "cell_type": "code",
      "execution_count": null,
      "metadata": {
        "id": "fFl4iC191IBQ",
        "outputId": "be8de8bf-91ea-40e5-dc50-1464efd6e592"
      },
      "outputs": [
        {
          "data": {
            "text/plain": [
              "anio                                                            2017\n",
              "clave_ent                                                          9\n",
              "entidad                                             Ciudad de México\n",
              "clave_municipio                                                 9006\n",
              "municipio                                                  Iztacalco\n",
              "bien_afectado                                      Libertad personal\n",
              "tipo_delito        Otros delitos que atentan contra la libertad p...\n",
              "subtipo_delito     Otros delitos que atentan contra la libertad p...\n",
              "modalidad          Otros delitos que atentan contra la libertad p...\n",
              "enero                                                              0\n",
              "Febrero                                                            3\n",
              "marzo                                                              1\n",
              "abril                                                              3\n",
              "mayo                                                               6\n",
              "junio                                                              3\n",
              "julio                                                              5\n",
              "agosto                                                             0\n",
              "septiembre                                                        -1\n",
              "octubre                                                            3\n",
              "noviembre                                                          1\n",
              "diciembre                                                          1\n",
              "Name: 404869, dtype: object"
            ]
          },
          "execution_count": 159,
          "metadata": {},
          "output_type": "execute_result"
        }
      ],
      "source": [
        "df_delitos.iloc[404869]"
      ]
    },
    {
      "cell_type": "code",
      "execution_count": null,
      "metadata": {
        "id": "_55RBH7x1IBQ",
        "outputId": "f07ca4e4-590e-4228-a88d-b8dcad3ddbd9"
      },
      "outputs": [
        {
          "data": {
            "text/plain": [
              "anio                                                  2018\n",
              "clave_ent                                               27\n",
              "entidad                                            Tabasco\n",
              "clave_municipio                                      27011\n",
              "municipio                                           Jonuta\n",
              "bien_afectado                                El patrimonio\n",
              "tipo_delito                                           Robo\n",
              "subtipo_delito                  Robo de vehículo automotor\n",
              "modalidad          Robo de coche de 4 ruedas Sin violencia\n",
              "enero                                                    0\n",
              "Febrero                                                  0\n",
              "marzo                                                    0\n",
              "abril                                                    0\n",
              "mayo                                                    -1\n",
              "junio                                                    0\n",
              "julio                                                    0\n",
              "agosto                                                   0\n",
              "septiembre                                               3\n",
              "octubre                                                  1\n",
              "noviembre                                                1\n",
              "diciembre                                                0\n",
              "Name: 814520, dtype: object"
            ]
          },
          "execution_count": 160,
          "metadata": {},
          "output_type": "execute_result"
        }
      ],
      "source": [
        "df_delitos.iloc[814520]"
      ]
    },
    {
      "cell_type": "markdown",
      "metadata": {
        "id": "Uvpknpxw1IBQ"
      },
      "source": [
        "Ya que en la página donde se encuentran los datos no especifica algún significado para valores negativos en el mes, vamos a imputar estas dos incidencias."
      ]
    },
    {
      "cell_type": "code",
      "execution_count": null,
      "metadata": {},
      "outputs": [
        {
          "name": "stdout",
          "output_type": "stream",
          "text": [
            "Row: 404869, col: 17, value: -1\n",
            "Row: 814520, col: 13, value: -1\n"
          ]
        }
      ],
      "source": [
        "neg_idx_row, neg_idx_col = np.where(df_delitos.iloc[:,9:] < 0)\n",
        "for row, col in zip(neg_idx_row, neg_idx_col):\n",
        "    print(f\"Row: {row}, col: {9+col}, value: {df_delitos.iloc[row, 9+col]}\")\n",
        "    df_delitos.iloc[row, 9+col] = 0"
      ]
    },
    {
      "cell_type": "code",
      "execution_count": null,
      "metadata": {},
      "outputs": [
        {
          "name": "stdout",
          "output_type": "stream",
          "text": [
            "<class 'pandas.core.frame.DataFrame'>\n",
            "RangeIndex: 2075738 entries, 0 to 2075737\n",
            "Data columns (total 21 columns):\n",
            " #   Column           Dtype \n",
            "---  ------           ----- \n",
            " 0   anio             int64 \n",
            " 1   clave_ent        int64 \n",
            " 2   entidad          object\n",
            " 3   clave_municipio  int64 \n",
            " 4   municipio        object\n",
            " 5   bien_afectado    object\n",
            " 6   tipo_delito      object\n",
            " 7   subtipo_delito   object\n",
            " 8   modalidad        object\n",
            " 9   enero            int32 \n",
            " 10  Febrero          int32 \n",
            " 11  marzo            int32 \n",
            " 12  abril            int32 \n",
            " 13  mayo             int32 \n",
            " 14  junio            int32 \n",
            " 15  julio            int32 \n",
            " 16  agosto           int32 \n",
            " 17  septiembre       int32 \n",
            " 18  octubre          int32 \n",
            " 19  noviembre        int32 \n",
            " 20  diciembre        int32 \n",
            "dtypes: int32(12), int64(3), object(6)\n",
            "memory usage: 237.5+ MB\n"
          ]
        }
      ],
      "source": [
        "df_delitos.info()"
      ]
    },
    {
      "cell_type": "code",
      "execution_count": null,
      "metadata": {},
      "outputs": [
        {
          "data": {
            "text/plain": [
              "'\\n# Determinar que el conteo de delito por meses sean valores positivos\\nassert np.where(df_delitos.iloc[:,9:] < 0)[0].size == 0, \"Se encontraron meses con valores negativos en el conteo. Revisar\"\\n'"
            ]
          },
          "execution_count": 163,
          "metadata": {},
          "output_type": "execute_result"
        }
      ],
      "source": [
        "\"\"\"\n",
        "# Determinar que el conteo de delito por meses sean valores positivos\n",
        "assert np.where(df_delitos.iloc[:,9:] < 0)[0].size == 0, \"Se encontraron meses con valores negativos en el conteo. Revisar\"\n",
        "\"\"\""
      ]
    },
    {
      "cell_type": "markdown",
      "metadata": {
        "id": "0YSWgj5r1IBZ"
      },
      "source": [
        "# Transformacion (generando tidy de semaforo)"
      ]
    },
    {
      "cell_type": "markdown",
      "metadata": {
        "id": "wWTHmnAF1IBZ"
      },
      "source": [
        "Veamos primero todos los delitos que se contienen en los datos"
      ]
    },
    {
      "cell_type": "code",
      "execution_count": null,
      "metadata": {
        "id": "z2_gXrF81IBZ",
        "outputId": "fdfa00a9-a20f-43c2-b032-5953142d04a3"
      },
      "outputs": [
        {
          "name": "stdout",
          "output_type": "stream",
          "text": [
            "['La vida y la Integridad corporal' 'Libertad personal'\n",
            " 'La libertad y la seguridad sexual' 'El patrimonio' 'La familia'\n",
            " 'La sociedad' 'Otros bienes jurídicos afectados (del fuero común)']\n"
          ]
        }
      ],
      "source": [
        "print(df_delitos[\"bien_afectado\"].unique())"
      ]
    },
    {
      "cell_type": "code",
      "execution_count": null,
      "metadata": {
        "id": "I4NfjJ-P1IBZ",
        "outputId": "2310f671-591e-43ec-cf43-9d01580c7663"
      },
      "outputs": [
        {
          "name": "stdout",
          "output_type": "stream",
          "text": [
            "['Homicidio' 'Lesiones' 'Feminicidio' 'Aborto'\n",
            " 'Otros delitos que atentan contra la vida y la integridad corporal'\n",
            " 'Secuestro' 'Tráfico de menores' 'Rapto'\n",
            " 'Otros delitos que atentan contra la libertad personal' 'Abuso sexual'\n",
            " 'Acoso sexual' 'Hostigamiento sexual' 'Violación simple'\n",
            " 'Violación equiparada' 'Incesto'\n",
            " 'Otros delitos que atentan contra la libertad y la seguridad sexual'\n",
            " 'Robo' 'Fraude' 'Abuso de confianza' 'Extorsión' 'Daño a la propiedad'\n",
            " 'Despojo' 'Otros delitos contra el patrimonio' 'Violencia familiar'\n",
            " 'Violencia de género en todas sus modalidades distinta a la violencia familiar'\n",
            " 'Incumplimiento de obligaciones de asistencia familiar'\n",
            " 'Otros delitos contra la familia' 'Corrupción de menores'\n",
            " 'Trata de personas' 'Otros delitos contra la sociedad' 'Narcomenudeo'\n",
            " 'Amenazas' 'Allanamiento de morada' 'Evasión de presos' 'Falsedad'\n",
            " 'Falsificación' 'Contra el medio ambiente'\n",
            " 'Delitos cometidos por servidores públicos' 'Electorales'\n",
            " 'Otros delitos del Fuero Común']\n"
          ]
        }
      ],
      "source": [
        "print(df_delitos[\"tipo_delito\"].unique())"
      ]
    },
    {
      "cell_type": "code",
      "execution_count": null,
      "metadata": {
        "id": "bvBB18fs1IBZ",
        "outputId": "fabf2e79-2d3a-42d8-d3b1-fbb76c92ca92"
      },
      "outputs": [
        {
          "name": "stdout",
          "output_type": "stream",
          "text": [
            "['Homicidio doloso' 'Homicidio culposo' 'Lesiones dolosas'\n",
            " 'Lesiones culposas' 'Feminicidio' 'Aborto'\n",
            " 'Otros delitos que atentan contra la vida y la integridad corporal'\n",
            " 'Secuestro' 'Tráfico de menores' 'Rapto'\n",
            " 'Otros delitos que atentan contra la libertad personal' 'Abuso sexual'\n",
            " 'Acoso sexual' 'Hostigamiento sexual' 'Violación simple'\n",
            " 'Violación equiparada' 'Incesto'\n",
            " 'Otros delitos que atentan contra la libertad y la seguridad sexual'\n",
            " 'Robo a casa habitación' 'Robo de vehículo automotor'\n",
            " 'Robo de autopartes' 'Robo a transportista'\n",
            " 'Robo a transeúnte en vía pública'\n",
            " 'Robo a transeúnte en espacio abierto al público'\n",
            " 'Robo en transporte público individual'\n",
            " 'Robo en transporte público colectivo' 'Robo en transporte individual'\n",
            " 'Robo a institución bancaria' 'Robo a negocio' 'Robo de ganado'\n",
            " 'Robo de maquinaria' 'Otros robos' 'Fraude' 'Abuso de confianza'\n",
            " 'Extorsión' 'Daño a la propiedad' 'Despojo'\n",
            " 'Otros delitos contra el patrimonio' 'Violencia familiar'\n",
            " 'Violencia de género en todas sus modalidades distinta a la violencia familiar'\n",
            " 'Incumplimiento de obligaciones de asistencia familiar'\n",
            " 'Otros delitos contra la familia' 'Corrupción de menores'\n",
            " 'Trata de personas' 'Otros delitos contra la sociedad' 'Narcomenudeo'\n",
            " 'Amenazas' 'Allanamiento de morada' 'Evasión de presos' 'Falsedad'\n",
            " 'Falsificación' 'Contra el medio ambiente'\n",
            " 'Delitos cometidos por servidores públicos' 'Electorales'\n",
            " 'Otros delitos del Fuero Común']\n"
          ]
        }
      ],
      "source": [
        "print(df_delitos[\"subtipo_delito\"].unique())"
      ]
    },
    {
      "cell_type": "markdown",
      "metadata": {
        "id": "brO1q5Ch1IBZ"
      },
      "source": [
        "## Filtrando los delitos del semáforo delictivo"
      ]
    },
    {
      "cell_type": "markdown",
      "metadata": {
        "id": "K70O0jDk1IBZ"
      },
      "source": [
        "El semáforo contiene 11 delitos. Sin embargo, dentro de los datos estos vienen distribuidos como delitos o subdelitos. Además es importante evitar aquellos delitos *culposos*, ya que actualmente estos no se consideran al calcular el semáforo."
      ]
    },
    {
      "cell_type": "code",
      "execution_count": null,
      "metadata": {
        "id": "8swU4dN81IBZ"
      },
      "outputs": [],
      "source": [
        "diccionario_delitos = {\n",
        "    \"Homicidio doloso\" : \"Homicidios\" ,\n",
        "    #\"Homicidio culposo\" : \"Homicidios\" ,\n",
        "    \"Lesiones dolosas\" : \"Lesiones\" ,\n",
        "    #\"Lesiones culposas\" : \"Lesiones\" ,\n",
        "    \"Feminicidio\" : \"Feminicidio\" ,\n",
        "    \"Secuestro\" : \"Secuestros\" ,\n",
        "    \"Violación simple\" : \"Violación\" ,\n",
        "    #\"Violación equiparada\" : \"Violación\" ,\n",
        "    \"Robo a casa habitación\" : \"Robo a casa\" ,\n",
        "    \"Robo de vehículo automotor\" : \"Robo a vehículo\" ,\n",
        "    \"Robo a negocio\" : \"Robo a negocio\" ,\n",
        "    \"Extorsión\" : \"Extorsión\" ,\n",
        "    \"Violencia familiar\" : \"Violencia familiar\" ,\n",
        "    \"Narcomenudeo\" : \"Narcomenudeo\" ,\n",
        "}\n",
        "\n",
        "delitos_semaforo = [\"Homicidios\", \"Secuestros\", \"Extorsión\", \"Narcomenudeo\", \"Robo a vehículo\", \"Robo a casa\", \"Robo a negocio\", \"Lesiones\", \"Violación\", \"Violencia familiar\", \"Feminicidio\"]"
      ]
    },
    {
      "cell_type": "code",
      "execution_count": null,
      "metadata": {
        "id": "imPgHk1b1IBZ",
        "outputId": "4d44539d-9312-4b10-9914-d600ea88424a"
      },
      "outputs": [
        {
          "data": {
            "text/plain": [
              "array(['Homicidios', 'Lesiones', 'Feminicidio', 'Secuestros', 'Violación',\n",
              "       'Robo a casa', 'Robo a vehículo', 'Robo a negocio', 'Extorsión',\n",
              "       'Violencia familiar', 'Narcomenudeo'], dtype=object)"
            ]
          },
          "execution_count": 168,
          "metadata": {},
          "output_type": "execute_result"
        }
      ],
      "source": [
        "# Substituyendo valores...\n",
        "for delito in diccionario_delitos.keys():\n",
        "      matching_subtipo = df_delitos[\"subtipo_delito\"] == delito\n",
        "      df_delitos.loc[matching_subtipo, \"delito_semaforo\"] = diccionario_delitos[delito]\n",
        "\n",
        "df_delitos = df_delitos[df_delitos[\"delito_semaforo\"].isin(delitos_semaforo)]\n",
        "\n",
        "df_delitos[\"delito_semaforo\"].unique()"
      ]
    },
    {
      "cell_type": "markdown",
      "metadata": {
        "id": "Dr29qM_k1IBa"
      },
      "source": [
        "Trabajemos con una versión que solo contenga los delitos contemplados en el semaforo"
      ]
    },
    {
      "cell_type": "code",
      "execution_count": null,
      "metadata": {
        "id": "8Bztkelo1IBa",
        "outputId": "02e5a391-99b7-4db9-deae-8db2c051ef1f"
      },
      "outputs": [
        {
          "data": {
            "text/plain": [
              "<Axes: >"
            ]
          },
          "execution_count": 169,
          "metadata": {},
          "output_type": "execute_result"
        },
        {
          "data": {
            "image/png": "[encoded data removed]",
            "text/plain": [
              "<Figure size 2500x1000 with 2 Axes>"
            ]
          },
          "metadata": {},
          "output_type": "display_data"
        }
      ],
      "source": [
        "\"\"\"\n",
        "%matplotlib inline\n",
        "import missingno as msno\n",
        "\"\"\"\n",
        "\n",
        "msno.matrix(df_delitos)\n",
        "\n",
        "# df_delitos[\"delito_semaforo\"]."
      ]
    },
    {
      "cell_type": "markdown",
      "metadata": {},
      "source": [
        "Se observan valores faltantes, estos se refieren a aquellos delitos que no estan contemplados en el semáforo"
      ]
    },
    {
      "cell_type": "code",
      "execution_count": null,
      "metadata": {
        "id": "QsOkFLtb1IBa"
      },
      "outputs": [],
      "source": [
        "df_semaforo = df_delitos.copy()\n",
        "df_semaforo = df_semaforo.dropna(axis=0)\n",
        "df_semaforo = df_semaforo.reset_index()"
      ]
    },
    {
      "cell_type": "code",
      "execution_count": null,
      "metadata": {
        "id": "Xh5y4R7Z1IBa",
        "outputId": "f7bb580a-6547-462d-90ef-ce0f0f2c0c62"
      },
      "outputs": [
        {
          "data": {
            "text/plain": [
              "<Axes: >"
            ]
          },
          "execution_count": 171,
          "metadata": {},
          "output_type": "execute_result"
        },
        {
          "data": {
            "image/png": "[encoded data removed]",
            "text/plain": [
              "<Figure size 2500x1000 with 2 Axes>"
            ]
          },
          "metadata": {},
          "output_type": "display_data"
        }
      ],
      "source": [
        "\"\"\"\n",
        "%matplotlib inline\n",
        "\"\"\"\n",
        "\n",
        "msno.matrix(df_semaforo)"
      ]
    },
    {
      "cell_type": "code",
      "execution_count": null,
      "metadata": {
        "id": "JgWm5lla1IBa"
      },
      "outputs": [],
      "source": [
        "# Cambiamos el orden de las columnas\n",
        "df_semaforo = df_semaforo[['anio', 'clave_ent', 'entidad', 'clave_municipio', 'municipio', 'bien_afectado', 'tipo_delito', 'subtipo_delito', 'delito_semaforo', 'modalidad', 'enero', 'abril', 'mayo', 'junio', 'julio', 'agosto', 'septiembre', 'octubre', 'noviembre', 'diciembre']]"
      ]
    },
    {
      "cell_type": "code",
      "execution_count": null,
      "metadata": {
        "id": "-1rfR2XC1IBa",
        "outputId": "c6602a6b-0c89-4a14-d408-3e76eaa5a724"
      },
      "outputs": [
        {
          "data": {
            "text/html": [
              "<div>\n",
              "<style scoped>\n",
              "    .dataframe tbody tr th:only-of-type {\n",
              "        vertical-align: middle;\n",
              "    }\n",
              "\n",
              "    .dataframe tbody tr th {\n",
              "        vertical-align: top;\n",
              "    }\n",
              "\n",
              "    .dataframe thead th {\n",
              "        text-align: right;\n",
              "    }\n",
              "</style>\n",
              "<table border=\"1\" class=\"dataframe\">\n",
              "  <thead>\n",
              "    <tr style=\"text-align: right;\">\n",
              "      <th></th>\n",
              "      <th>anio</th>\n",
              "      <th>clave_ent</th>\n",
              "      <th>entidad</th>\n",
              "      <th>clave_municipio</th>\n",
              "      <th>municipio</th>\n",
              "      <th>bien_afectado</th>\n",
              "      <th>tipo_delito</th>\n",
              "      <th>subtipo_delito</th>\n",
              "      <th>delito_semaforo</th>\n",
              "      <th>modalidad</th>\n",
              "      <th>enero</th>\n",
              "      <th>abril</th>\n",
              "      <th>mayo</th>\n",
              "      <th>junio</th>\n",
              "      <th>julio</th>\n",
              "      <th>agosto</th>\n",
              "      <th>septiembre</th>\n",
              "      <th>octubre</th>\n",
              "      <th>noviembre</th>\n",
              "      <th>diciembre</th>\n",
              "    </tr>\n",
              "  </thead>\n",
              "  <tbody>\n",
              "    <tr>\n",
              "      <th>0</th>\n",
              "      <td>2015</td>\n",
              "      <td>1</td>\n",
              "      <td>Aguascalientes</td>\n",
              "      <td>1001</td>\n",
              "      <td>Aguascalientes</td>\n",
              "      <td>La vida y la Integridad corporal</td>\n",
              "      <td>Homicidio</td>\n",
              "      <td>Homicidio doloso</td>\n",
              "      <td>Homicidios</td>\n",
              "      <td>Con arma de fuego</td>\n",
              "      <td>2</td>\n",
              "      <td>1</td>\n",
              "      <td>0</td>\n",
              "      <td>1</td>\n",
              "      <td>1</td>\n",
              "      <td>0</td>\n",
              "      <td>2</td>\n",
              "      <td>1</td>\n",
              "      <td>0</td>\n",
              "      <td>1</td>\n",
              "    </tr>\n",
              "    <tr>\n",
              "      <th>1</th>\n",
              "      <td>2015</td>\n",
              "      <td>1</td>\n",
              "      <td>Aguascalientes</td>\n",
              "      <td>1001</td>\n",
              "      <td>Aguascalientes</td>\n",
              "      <td>La vida y la Integridad corporal</td>\n",
              "      <td>Homicidio</td>\n",
              "      <td>Homicidio doloso</td>\n",
              "      <td>Homicidios</td>\n",
              "      <td>Con arma blanca</td>\n",
              "      <td>1</td>\n",
              "      <td>0</td>\n",
              "      <td>0</td>\n",
              "      <td>1</td>\n",
              "      <td>0</td>\n",
              "      <td>1</td>\n",
              "      <td>0</td>\n",
              "      <td>0</td>\n",
              "      <td>0</td>\n",
              "      <td>0</td>\n",
              "    </tr>\n",
              "    <tr>\n",
              "      <th>2</th>\n",
              "      <td>2015</td>\n",
              "      <td>1</td>\n",
              "      <td>Aguascalientes</td>\n",
              "      <td>1001</td>\n",
              "      <td>Aguascalientes</td>\n",
              "      <td>La vida y la Integridad corporal</td>\n",
              "      <td>Homicidio</td>\n",
              "      <td>Homicidio doloso</td>\n",
              "      <td>Homicidios</td>\n",
              "      <td>Con otro elemento</td>\n",
              "      <td>0</td>\n",
              "      <td>1</td>\n",
              "      <td>3</td>\n",
              "      <td>2</td>\n",
              "      <td>0</td>\n",
              "      <td>1</td>\n",
              "      <td>2</td>\n",
              "      <td>0</td>\n",
              "      <td>0</td>\n",
              "      <td>0</td>\n",
              "    </tr>\n",
              "    <tr>\n",
              "      <th>3</th>\n",
              "      <td>2015</td>\n",
              "      <td>1</td>\n",
              "      <td>Aguascalientes</td>\n",
              "      <td>1001</td>\n",
              "      <td>Aguascalientes</td>\n",
              "      <td>La vida y la Integridad corporal</td>\n",
              "      <td>Homicidio</td>\n",
              "      <td>Homicidio doloso</td>\n",
              "      <td>Homicidios</td>\n",
              "      <td>No especificado</td>\n",
              "      <td>1</td>\n",
              "      <td>1</td>\n",
              "      <td>0</td>\n",
              "      <td>0</td>\n",
              "      <td>0</td>\n",
              "      <td>0</td>\n",
              "      <td>0</td>\n",
              "      <td>0</td>\n",
              "      <td>0</td>\n",
              "      <td>0</td>\n",
              "    </tr>\n",
              "    <tr>\n",
              "      <th>4</th>\n",
              "      <td>2015</td>\n",
              "      <td>1</td>\n",
              "      <td>Aguascalientes</td>\n",
              "      <td>1001</td>\n",
              "      <td>Aguascalientes</td>\n",
              "      <td>La vida y la Integridad corporal</td>\n",
              "      <td>Lesiones</td>\n",
              "      <td>Lesiones dolosas</td>\n",
              "      <td>Lesiones</td>\n",
              "      <td>Con arma de fuego</td>\n",
              "      <td>1</td>\n",
              "      <td>1</td>\n",
              "      <td>1</td>\n",
              "      <td>1</td>\n",
              "      <td>3</td>\n",
              "      <td>2</td>\n",
              "      <td>1</td>\n",
              "      <td>3</td>\n",
              "      <td>2</td>\n",
              "      <td>2</td>\n",
              "    </tr>\n",
              "  </tbody>\n",
              "</table>\n",
              "</div>"
            ],
            "text/plain": [
              "   anio  clave_ent         entidad  clave_municipio       municipio  \\\n",
              "0  2015          1  Aguascalientes             1001  Aguascalientes   \n",
              "1  2015          1  Aguascalientes             1001  Aguascalientes   \n",
              "2  2015          1  Aguascalientes             1001  Aguascalientes   \n",
              "3  2015          1  Aguascalientes             1001  Aguascalientes   \n",
              "4  2015          1  Aguascalientes             1001  Aguascalientes   \n",
              "\n",
              "                      bien_afectado tipo_delito    subtipo_delito  \\\n",
              "0  La vida y la Integridad corporal   Homicidio  Homicidio doloso   \n",
              "1  La vida y la Integridad corporal   Homicidio  Homicidio doloso   \n",
              "2  La vida y la Integridad corporal   Homicidio  Homicidio doloso   \n",
              "3  La vida y la Integridad corporal   Homicidio  Homicidio doloso   \n",
              "4  La vida y la Integridad corporal    Lesiones  Lesiones dolosas   \n",
              "\n",
              "  delito_semaforo          modalidad  enero  abril  mayo  junio  julio  \\\n",
              "0      Homicidios  Con arma de fuego      2      1     0      1      1   \n",
              "1      Homicidios    Con arma blanca      1      0     0      1      0   \n",
              "2      Homicidios  Con otro elemento      0      1     3      2      0   \n",
              "3      Homicidios    No especificado      1      1     0      0      0   \n",
              "4        Lesiones  Con arma de fuego      1      1     1      1      3   \n",
              "\n",
              "   agosto  septiembre  octubre  noviembre  diciembre  \n",
              "0       0           2        1          0          1  \n",
              "1       1           0        0          0          0  \n",
              "2       1           2        0          0          0  \n",
              "3       0           0        0          0          0  \n",
              "4       2           1        3          2          2  "
            ]
          },
          "execution_count": 173,
          "metadata": {},
          "output_type": "execute_result"
        }
      ],
      "source": [
        "df_semaforo.head()"
      ]
    },
    {
      "cell_type": "code",
      "execution_count": null,
      "metadata": {
        "id": "PgFxCMtX1IBa",
        "outputId": "512fbd50-7e15-4b08-fde5-373dc7834dff"
      },
      "outputs": [
        {
          "data": {
            "text/html": [
              "<div>\n",
              "<style scoped>\n",
              "    .dataframe tbody tr th:only-of-type {\n",
              "        vertical-align: middle;\n",
              "    }\n",
              "\n",
              "    .dataframe tbody tr th {\n",
              "        vertical-align: top;\n",
              "    }\n",
              "\n",
              "    .dataframe thead th {\n",
              "        text-align: right;\n",
              "    }\n",
              "</style>\n",
              "<table border=\"1\" class=\"dataframe\">\n",
              "  <thead>\n",
              "    <tr style=\"text-align: right;\">\n",
              "      <th></th>\n",
              "      <th>enero</th>\n",
              "      <th>abril</th>\n",
              "      <th>mayo</th>\n",
              "      <th>junio</th>\n",
              "      <th>julio</th>\n",
              "      <th>agosto</th>\n",
              "      <th>septiembre</th>\n",
              "      <th>octubre</th>\n",
              "      <th>noviembre</th>\n",
              "      <th>diciembre</th>\n",
              "    </tr>\n",
              "  </thead>\n",
              "  <tbody>\n",
              "    <tr>\n",
              "      <th>0</th>\n",
              "      <td>2</td>\n",
              "      <td>1</td>\n",
              "      <td>0</td>\n",
              "      <td>1</td>\n",
              "      <td>1</td>\n",
              "      <td>0</td>\n",
              "      <td>2</td>\n",
              "      <td>1</td>\n",
              "      <td>0</td>\n",
              "      <td>1</td>\n",
              "    </tr>\n",
              "    <tr>\n",
              "      <th>1</th>\n",
              "      <td>1</td>\n",
              "      <td>0</td>\n",
              "      <td>0</td>\n",
              "      <td>1</td>\n",
              "      <td>0</td>\n",
              "      <td>1</td>\n",
              "      <td>0</td>\n",
              "      <td>0</td>\n",
              "      <td>0</td>\n",
              "      <td>0</td>\n",
              "    </tr>\n",
              "    <tr>\n",
              "      <th>2</th>\n",
              "      <td>0</td>\n",
              "      <td>1</td>\n",
              "      <td>3</td>\n",
              "      <td>2</td>\n",
              "      <td>0</td>\n",
              "      <td>1</td>\n",
              "      <td>2</td>\n",
              "      <td>0</td>\n",
              "      <td>0</td>\n",
              "      <td>0</td>\n",
              "    </tr>\n",
              "    <tr>\n",
              "      <th>3</th>\n",
              "      <td>1</td>\n",
              "      <td>1</td>\n",
              "      <td>0</td>\n",
              "      <td>0</td>\n",
              "      <td>0</td>\n",
              "      <td>0</td>\n",
              "      <td>0</td>\n",
              "      <td>0</td>\n",
              "      <td>0</td>\n",
              "      <td>0</td>\n",
              "    </tr>\n",
              "    <tr>\n",
              "      <th>4</th>\n",
              "      <td>1</td>\n",
              "      <td>1</td>\n",
              "      <td>1</td>\n",
              "      <td>1</td>\n",
              "      <td>3</td>\n",
              "      <td>2</td>\n",
              "      <td>1</td>\n",
              "      <td>3</td>\n",
              "      <td>2</td>\n",
              "      <td>2</td>\n",
              "    </tr>\n",
              "    <tr>\n",
              "      <th>...</th>\n",
              "      <td>...</td>\n",
              "      <td>...</td>\n",
              "      <td>...</td>\n",
              "      <td>...</td>\n",
              "      <td>...</td>\n",
              "      <td>...</td>\n",
              "      <td>...</td>\n",
              "      <td>...</td>\n",
              "      <td>...</td>\n",
              "      <td>...</td>\n",
              "    </tr>\n",
              "    <tr>\n",
              "      <th>656606</th>\n",
              "      <td>0</td>\n",
              "      <td>0</td>\n",
              "      <td>0</td>\n",
              "      <td>0</td>\n",
              "      <td>0</td>\n",
              "      <td>0</td>\n",
              "      <td>0</td>\n",
              "      <td>0</td>\n",
              "      <td>0</td>\n",
              "      <td>0</td>\n",
              "    </tr>\n",
              "    <tr>\n",
              "      <th>656607</th>\n",
              "      <td>0</td>\n",
              "      <td>0</td>\n",
              "      <td>0</td>\n",
              "      <td>0</td>\n",
              "      <td>0</td>\n",
              "      <td>0</td>\n",
              "      <td>0</td>\n",
              "      <td>0</td>\n",
              "      <td>0</td>\n",
              "      <td>0</td>\n",
              "    </tr>\n",
              "    <tr>\n",
              "      <th>656608</th>\n",
              "      <td>0</td>\n",
              "      <td>0</td>\n",
              "      <td>0</td>\n",
              "      <td>0</td>\n",
              "      <td>0</td>\n",
              "      <td>0</td>\n",
              "      <td>0</td>\n",
              "      <td>0</td>\n",
              "      <td>0</td>\n",
              "      <td>0</td>\n",
              "    </tr>\n",
              "    <tr>\n",
              "      <th>656609</th>\n",
              "      <td>0</td>\n",
              "      <td>1</td>\n",
              "      <td>0</td>\n",
              "      <td>0</td>\n",
              "      <td>0</td>\n",
              "      <td>0</td>\n",
              "      <td>0</td>\n",
              "      <td>0</td>\n",
              "      <td>0</td>\n",
              "      <td>0</td>\n",
              "    </tr>\n",
              "    <tr>\n",
              "      <th>656610</th>\n",
              "      <td>0</td>\n",
              "      <td>0</td>\n",
              "      <td>0</td>\n",
              "      <td>0</td>\n",
              "      <td>0</td>\n",
              "      <td>0</td>\n",
              "      <td>0</td>\n",
              "      <td>0</td>\n",
              "      <td>0</td>\n",
              "      <td>0</td>\n",
              "    </tr>\n",
              "  </tbody>\n",
              "</table>\n",
              "<p>656611 rows × 10 columns</p>\n",
              "</div>"
            ],
            "text/plain": [
              "        enero  abril  mayo  junio  julio  agosto  septiembre  octubre  \\\n",
              "0           2      1     0      1      1       0           2        1   \n",
              "1           1      0     0      1      0       1           0        0   \n",
              "2           0      1     3      2      0       1           2        0   \n",
              "3           1      1     0      0      0       0           0        0   \n",
              "4           1      1     1      1      3       2           1        3   \n",
              "...       ...    ...   ...    ...    ...     ...         ...      ...   \n",
              "656606      0      0     0      0      0       0           0        0   \n",
              "656607      0      0     0      0      0       0           0        0   \n",
              "656608      0      0     0      0      0       0           0        0   \n",
              "656609      0      1     0      0      0       0           0        0   \n",
              "656610      0      0     0      0      0       0           0        0   \n",
              "\n",
              "        noviembre  diciembre  \n",
              "0               0          1  \n",
              "1               0          0  \n",
              "2               0          0  \n",
              "3               0          0  \n",
              "4               2          2  \n",
              "...           ...        ...  \n",
              "656606          0          0  \n",
              "656607          0          0  \n",
              "656608          0          0  \n",
              "656609          0          0  \n",
              "656610          0          0  \n",
              "\n",
              "[656611 rows x 10 columns]"
            ]
          },
          "execution_count": 174,
          "metadata": {},
          "output_type": "execute_result"
        }
      ],
      "source": [
        "# Sumar delitos por meses...\n",
        "lista_meses = ['enero', 'febrero', 'marzo', 'abril', 'mayo', 'junio', 'julio', 'agosto', 'septiembre', 'octubre', 'noviembre', 'diciembre']\n",
        "df_semaforo[lista_meses]"
      ]
    },
    {
      "cell_type": "code",
      "execution_count": null,
      "metadata": {
        "id": "Yj6F--Mq1IBa"
      },
      "outputs": [],
      "source": [
        "df_semaforo[\"total\"] = df_semaforo[lista_meses].sum(axis = 1)"
      ]
    },
    {
      "cell_type": "code",
      "execution_count": null,
      "metadata": {
        "id": "aj1vTgV-1IBb",
        "outputId": "7b456617-5e4b-4484-9396-f87d3d9c1638"
      },
      "outputs": [
        {
          "data": {
            "text/html": [
              "<div>\n",
              "<style scoped>\n",
              "    .dataframe tbody tr th:only-of-type {\n",
              "        vertical-align: middle;\n",
              "    }\n",
              "\n",
              "    .dataframe tbody tr th {\n",
              "        vertical-align: top;\n",
              "    }\n",
              "\n",
              "    .dataframe thead th {\n",
              "        text-align: right;\n",
              "    }\n",
              "</style>\n",
              "<table border=\"1\" class=\"dataframe\">\n",
              "  <thead>\n",
              "    <tr style=\"text-align: right;\">\n",
              "      <th></th>\n",
              "      <th>anio</th>\n",
              "      <th>clave_ent</th>\n",
              "      <th>entidad</th>\n",
              "      <th>clave_municipio</th>\n",
              "      <th>municipio</th>\n",
              "      <th>bien_afectado</th>\n",
              "      <th>tipo_delito</th>\n",
              "      <th>subtipo_delito</th>\n",
              "      <th>delito_semaforo</th>\n",
              "      <th>modalidad</th>\n",
              "      <th>...</th>\n",
              "      <th>abril</th>\n",
              "      <th>mayo</th>\n",
              "      <th>junio</th>\n",
              "      <th>julio</th>\n",
              "      <th>agosto</th>\n",
              "      <th>septiembre</th>\n",
              "      <th>octubre</th>\n",
              "      <th>noviembre</th>\n",
              "      <th>diciembre</th>\n",
              "      <th>total</th>\n",
              "    </tr>\n",
              "  </thead>\n",
              "  <tbody>\n",
              "    <tr>\n",
              "      <th>0</th>\n",
              "      <td>2015</td>\n",
              "      <td>1</td>\n",
              "      <td>Aguascalientes</td>\n",
              "      <td>1001</td>\n",
              "      <td>Aguascalientes</td>\n",
              "      <td>La vida y la Integridad corporal</td>\n",
              "      <td>Homicidio</td>\n",
              "      <td>Homicidio doloso</td>\n",
              "      <td>Homicidios</td>\n",
              "      <td>Con arma de fuego</td>\n",
              "      <td>...</td>\n",
              "      <td>1</td>\n",
              "      <td>0</td>\n",
              "      <td>1</td>\n",
              "      <td>1</td>\n",
              "      <td>0</td>\n",
              "      <td>2</td>\n",
              "      <td>1</td>\n",
              "      <td>0</td>\n",
              "      <td>1</td>\n",
              "      <td>9</td>\n",
              "    </tr>\n",
              "    <tr>\n",
              "      <th>1</th>\n",
              "      <td>2015</td>\n",
              "      <td>1</td>\n",
              "      <td>Aguascalientes</td>\n",
              "      <td>1001</td>\n",
              "      <td>Aguascalientes</td>\n",
              "      <td>La vida y la Integridad corporal</td>\n",
              "      <td>Homicidio</td>\n",
              "      <td>Homicidio doloso</td>\n",
              "      <td>Homicidios</td>\n",
              "      <td>Con arma blanca</td>\n",
              "      <td>...</td>\n",
              "      <td>0</td>\n",
              "      <td>0</td>\n",
              "      <td>1</td>\n",
              "      <td>0</td>\n",
              "      <td>1</td>\n",
              "      <td>0</td>\n",
              "      <td>0</td>\n",
              "      <td>0</td>\n",
              "      <td>0</td>\n",
              "      <td>3</td>\n",
              "    </tr>\n",
              "    <tr>\n",
              "      <th>2</th>\n",
              "      <td>2015</td>\n",
              "      <td>1</td>\n",
              "      <td>Aguascalientes</td>\n",
              "      <td>1001</td>\n",
              "      <td>Aguascalientes</td>\n",
              "      <td>La vida y la Integridad corporal</td>\n",
              "      <td>Homicidio</td>\n",
              "      <td>Homicidio doloso</td>\n",
              "      <td>Homicidios</td>\n",
              "      <td>Con otro elemento</td>\n",
              "      <td>...</td>\n",
              "      <td>1</td>\n",
              "      <td>3</td>\n",
              "      <td>2</td>\n",
              "      <td>0</td>\n",
              "      <td>1</td>\n",
              "      <td>2</td>\n",
              "      <td>0</td>\n",
              "      <td>0</td>\n",
              "      <td>0</td>\n",
              "      <td>9</td>\n",
              "    </tr>\n",
              "    <tr>\n",
              "      <th>3</th>\n",
              "      <td>2015</td>\n",
              "      <td>1</td>\n",
              "      <td>Aguascalientes</td>\n",
              "      <td>1001</td>\n",
              "      <td>Aguascalientes</td>\n",
              "      <td>La vida y la Integridad corporal</td>\n",
              "      <td>Homicidio</td>\n",
              "      <td>Homicidio doloso</td>\n",
              "      <td>Homicidios</td>\n",
              "      <td>No especificado</td>\n",
              "      <td>...</td>\n",
              "      <td>1</td>\n",
              "      <td>0</td>\n",
              "      <td>0</td>\n",
              "      <td>0</td>\n",
              "      <td>0</td>\n",
              "      <td>0</td>\n",
              "      <td>0</td>\n",
              "      <td>0</td>\n",
              "      <td>0</td>\n",
              "      <td>2</td>\n",
              "    </tr>\n",
              "    <tr>\n",
              "      <th>4</th>\n",
              "      <td>2015</td>\n",
              "      <td>1</td>\n",
              "      <td>Aguascalientes</td>\n",
              "      <td>1001</td>\n",
              "      <td>Aguascalientes</td>\n",
              "      <td>La vida y la Integridad corporal</td>\n",
              "      <td>Lesiones</td>\n",
              "      <td>Lesiones dolosas</td>\n",
              "      <td>Lesiones</td>\n",
              "      <td>Con arma de fuego</td>\n",
              "      <td>...</td>\n",
              "      <td>1</td>\n",
              "      <td>1</td>\n",
              "      <td>1</td>\n",
              "      <td>3</td>\n",
              "      <td>2</td>\n",
              "      <td>1</td>\n",
              "      <td>3</td>\n",
              "      <td>2</td>\n",
              "      <td>2</td>\n",
              "      <td>17</td>\n",
              "    </tr>\n",
              "    <tr>\n",
              "      <th>...</th>\n",
              "      <td>...</td>\n",
              "      <td>...</td>\n",
              "      <td>...</td>\n",
              "      <td>...</td>\n",
              "      <td>...</td>\n",
              "      <td>...</td>\n",
              "      <td>...</td>\n",
              "      <td>...</td>\n",
              "      <td>...</td>\n",
              "      <td>...</td>\n",
              "      <td>...</td>\n",
              "      <td>...</td>\n",
              "      <td>...</td>\n",
              "      <td>...</td>\n",
              "      <td>...</td>\n",
              "      <td>...</td>\n",
              "      <td>...</td>\n",
              "      <td>...</td>\n",
              "      <td>...</td>\n",
              "      <td>...</td>\n",
              "      <td>...</td>\n",
              "    </tr>\n",
              "    <tr>\n",
              "      <th>656606</th>\n",
              "      <td>2023</td>\n",
              "      <td>32</td>\n",
              "      <td>Zacatecas</td>\n",
              "      <td>32058</td>\n",
              "      <td>Santa María de la Paz</td>\n",
              "      <td>El patrimonio</td>\n",
              "      <td>Robo</td>\n",
              "      <td>Robo a negocio</td>\n",
              "      <td>Robo a negocio</td>\n",
              "      <td>Con violencia</td>\n",
              "      <td>...</td>\n",
              "      <td>0</td>\n",
              "      <td>0</td>\n",
              "      <td>0</td>\n",
              "      <td>0</td>\n",
              "      <td>0</td>\n",
              "      <td>0</td>\n",
              "      <td>0</td>\n",
              "      <td>0</td>\n",
              "      <td>0</td>\n",
              "      <td>0</td>\n",
              "    </tr>\n",
              "    <tr>\n",
              "      <th>656607</th>\n",
              "      <td>2023</td>\n",
              "      <td>32</td>\n",
              "      <td>Zacatecas</td>\n",
              "      <td>32058</td>\n",
              "      <td>Santa María de la Paz</td>\n",
              "      <td>El patrimonio</td>\n",
              "      <td>Robo</td>\n",
              "      <td>Robo a negocio</td>\n",
              "      <td>Robo a negocio</td>\n",
              "      <td>Sin violencia</td>\n",
              "      <td>...</td>\n",
              "      <td>0</td>\n",
              "      <td>0</td>\n",
              "      <td>0</td>\n",
              "      <td>0</td>\n",
              "      <td>0</td>\n",
              "      <td>0</td>\n",
              "      <td>0</td>\n",
              "      <td>0</td>\n",
              "      <td>0</td>\n",
              "      <td>0</td>\n",
              "    </tr>\n",
              "    <tr>\n",
              "      <th>656608</th>\n",
              "      <td>2023</td>\n",
              "      <td>32</td>\n",
              "      <td>Zacatecas</td>\n",
              "      <td>32058</td>\n",
              "      <td>Santa María de la Paz</td>\n",
              "      <td>El patrimonio</td>\n",
              "      <td>Extorsión</td>\n",
              "      <td>Extorsión</td>\n",
              "      <td>Extorsión</td>\n",
              "      <td>Extorsión</td>\n",
              "      <td>...</td>\n",
              "      <td>0</td>\n",
              "      <td>0</td>\n",
              "      <td>0</td>\n",
              "      <td>0</td>\n",
              "      <td>0</td>\n",
              "      <td>0</td>\n",
              "      <td>0</td>\n",
              "      <td>0</td>\n",
              "      <td>0</td>\n",
              "      <td>0</td>\n",
              "    </tr>\n",
              "    <tr>\n",
              "      <th>656609</th>\n",
              "      <td>2023</td>\n",
              "      <td>32</td>\n",
              "      <td>Zacatecas</td>\n",
              "      <td>32058</td>\n",
              "      <td>Santa María de la Paz</td>\n",
              "      <td>La familia</td>\n",
              "      <td>Violencia familiar</td>\n",
              "      <td>Violencia familiar</td>\n",
              "      <td>Violencia familiar</td>\n",
              "      <td>Violencia familiar</td>\n",
              "      <td>...</td>\n",
              "      <td>1</td>\n",
              "      <td>0</td>\n",
              "      <td>0</td>\n",
              "      <td>0</td>\n",
              "      <td>0</td>\n",
              "      <td>0</td>\n",
              "      <td>0</td>\n",
              "      <td>0</td>\n",
              "      <td>0</td>\n",
              "      <td>1</td>\n",
              "    </tr>\n",
              "    <tr>\n",
              "      <th>656610</th>\n",
              "      <td>2023</td>\n",
              "      <td>32</td>\n",
              "      <td>Zacatecas</td>\n",
              "      <td>32058</td>\n",
              "      <td>Santa María de la Paz</td>\n",
              "      <td>Otros bienes jurídicos afectados (del fuero co...</td>\n",
              "      <td>Narcomenudeo</td>\n",
              "      <td>Narcomenudeo</td>\n",
              "      <td>Narcomenudeo</td>\n",
              "      <td>Narcomenudeo</td>\n",
              "      <td>...</td>\n",
              "      <td>0</td>\n",
              "      <td>0</td>\n",
              "      <td>0</td>\n",
              "      <td>0</td>\n",
              "      <td>0</td>\n",
              "      <td>0</td>\n",
              "      <td>0</td>\n",
              "      <td>0</td>\n",
              "      <td>0</td>\n",
              "      <td>0</td>\n",
              "    </tr>\n",
              "  </tbody>\n",
              "</table>\n",
              "<p>656611 rows × 21 columns</p>\n",
              "</div>"
            ],
            "text/plain": [
              "        anio  clave_ent         entidad  clave_municipio  \\\n",
              "0       2015          1  Aguascalientes             1001   \n",
              "1       2015          1  Aguascalientes             1001   \n",
              "2       2015          1  Aguascalientes             1001   \n",
              "3       2015          1  Aguascalientes             1001   \n",
              "4       2015          1  Aguascalientes             1001   \n",
              "...      ...        ...             ...              ...   \n",
              "656606  2023         32       Zacatecas            32058   \n",
              "656607  2023         32       Zacatecas            32058   \n",
              "656608  2023         32       Zacatecas            32058   \n",
              "656609  2023         32       Zacatecas            32058   \n",
              "656610  2023         32       Zacatecas            32058   \n",
              "\n",
              "                    municipio  \\\n",
              "0              Aguascalientes   \n",
              "1              Aguascalientes   \n",
              "2              Aguascalientes   \n",
              "3              Aguascalientes   \n",
              "4              Aguascalientes   \n",
              "...                       ...   \n",
              "656606  Santa María de la Paz   \n",
              "656607  Santa María de la Paz   \n",
              "656608  Santa María de la Paz   \n",
              "656609  Santa María de la Paz   \n",
              "656610  Santa María de la Paz   \n",
              "\n",
              "                                            bien_afectado         tipo_delito  \\\n",
              "0                        La vida y la Integridad corporal           Homicidio   \n",
              "1                        La vida y la Integridad corporal           Homicidio   \n",
              "2                        La vida y la Integridad corporal           Homicidio   \n",
              "3                        La vida y la Integridad corporal           Homicidio   \n",
              "4                        La vida y la Integridad corporal            Lesiones   \n",
              "...                                                   ...                 ...   \n",
              "656606                                      El patrimonio                Robo   \n",
              "656607                                      El patrimonio                Robo   \n",
              "656608                                      El patrimonio           Extorsión   \n",
              "656609                                         La familia  Violencia familiar   \n",
              "656610  Otros bienes jurídicos afectados (del fuero co...        Narcomenudeo   \n",
              "\n",
              "            subtipo_delito     delito_semaforo           modalidad  ...  \\\n",
              "0         Homicidio doloso          Homicidios   Con arma de fuego  ...   \n",
              "1         Homicidio doloso          Homicidios     Con arma blanca  ...   \n",
              "2         Homicidio doloso          Homicidios   Con otro elemento  ...   \n",
              "3         Homicidio doloso          Homicidios     No especificado  ...   \n",
              "4         Lesiones dolosas            Lesiones   Con arma de fuego  ...   \n",
              "...                    ...                 ...                 ...  ...   \n",
              "656606      Robo a negocio      Robo a negocio       Con violencia  ...   \n",
              "656607      Robo a negocio      Robo a negocio       Sin violencia  ...   \n",
              "656608           Extorsión           Extorsión           Extorsión  ...   \n",
              "656609  Violencia familiar  Violencia familiar  Violencia familiar  ...   \n",
              "656610        Narcomenudeo        Narcomenudeo        Narcomenudeo  ...   \n",
              "\n",
              "        abril  mayo  junio  julio  agosto  septiembre  octubre  noviembre  \\\n",
              "0           1     0      1      1       0           2        1          0   \n",
              "1           0     0      1      0       1           0        0          0   \n",
              "2           1     3      2      0       1           2        0          0   \n",
              "3           1     0      0      0       0           0        0          0   \n",
              "4           1     1      1      3       2           1        3          2   \n",
              "...       ...   ...    ...    ...     ...         ...      ...        ...   \n",
              "656606      0     0      0      0       0           0        0          0   \n",
              "656607      0     0      0      0       0           0        0          0   \n",
              "656608      0     0      0      0       0           0        0          0   \n",
              "656609      1     0      0      0       0           0        0          0   \n",
              "656610      0     0      0      0       0           0        0          0   \n",
              "\n",
              "        diciembre  total  \n",
              "0               1      9  \n",
              "1               0      3  \n",
              "2               0      9  \n",
              "3               0      2  \n",
              "4               2     17  \n",
              "...           ...    ...  \n",
              "656606          0      0  \n",
              "656607          0      0  \n",
              "656608          0      0  \n",
              "656609          0      1  \n",
              "656610          0      0  \n",
              "\n",
              "[656611 rows x 21 columns]"
            ]
          },
          "execution_count": 176,
          "metadata": {},
          "output_type": "execute_result"
        }
      ],
      "source": [
        "df_semaforo"
      ]
    },
    {
      "cell_type": "code",
      "execution_count": null,
      "metadata": {},
      "outputs": [],
      "source": [
        "semaforo_tidy_nombre_parquet = 'delitos_semaforo.parquet'"
      ]
    },
    {
      "cell_type": "code",
      "execution_count": null,
      "metadata": {
        "id": "VSvxbWmi1IBb"
      },
      "outputs": [],
      "source": [
        "df_semaforo.to_parquet(tidy_data_path / semaforo_tidy_nombre_parquet, index = False)"
      ]
    }
  ],
  "metadata": {
    "colab": {
      "provenance": []
    },
    "kernelspec": {
      "display_name": "mcd",
      "language": "python",
      "name": "python3"
    },
    "language_info": {
      "codemirror_mode": {
        "name": "ipython",
        "version": 3
      },
      "file_extension": ".py",
      "mimetype": "text/x-python",
      "name": "python",
      "nbconvert_exporter": "python",
      "pygments_lexer": "ipython3",
      "version": "3.9.17"
    },
    "orig_nbformat": 4
  },
  "nbformat": 4,
  "nbformat_minor": 0
}
