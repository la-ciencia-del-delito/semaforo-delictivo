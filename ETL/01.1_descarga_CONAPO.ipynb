{
 "cells": [
  {
   "cell_type": "markdown",
   "metadata": {},
   "source": [
    "## Estimación de población (CONAPO)\n",
    "\n",
    "Como se mencionó, se utilizaran las proyecciones de población realizadas por la CONAPO para estimar mejor el KPI año con año."
   ]
  },
  {
   "cell_type": "code",
   "execution_count": 1,
   "metadata": {},
   "outputs": [],
   "source": [
    "import os\n",
    "from pathlib import Path\n",
    "from datetime import datetime\n",
    "import urllib.request as ur\n",
    "import zipfile"
   ]
  },
  {
   "cell_type": "markdown",
   "metadata": {},
   "source": [
    "## 1. Establecer rutas base"
   ]
  },
  {
   "cell_type": "code",
   "execution_count": 4,
   "metadata": {},
   "outputs": [
    {
     "name": "stdout",
     "output_type": "stream",
     "text": [
      "Directorio actual:\n",
      "c:\\Users\\guill\\OneDrive - Universidad de Sonora\\Maestria\\Ingenieria de Caracteristicas\\Proyectos\\semaforo-delictivo\\ETL\n"
     ]
    }
   ],
   "source": [
    "# Definamos el path base donde almacenaremos nuestros datos\n",
    "print(f\"Directorio actual:\\n{os.getcwd()}\")\n",
    "datos_path = Path(r\"./data/\") # Carpeta data desde el dir actual\n",
    "\n",
    "# El nombre con el que se almacenarán los datos\n",
    "nombre_csv_proyecciones = \"datos_proyecciones.zip\"\n",
    "\n",
    "# La URL de donde descargamos los datos\n",
    "url_proyecciones = 'https://conapo.segob.gob.mx/work/models/CONAPO/pry23/DB/ConDem50a19_ProyPob20a70.zip'"
   ]
  },
  {
   "cell_type": "markdown",
   "metadata": {},
   "source": [
    "## 2. Descargar archivos"
   ]
  },
  {
   "cell_type": "code",
   "execution_count": 5,
   "metadata": {},
   "outputs": [],
   "source": [
    "# Una vez obtenido el enlace, descargar archivo .zip con urlretrieve\n",
    "datos_path.mkdir(parents=True, exist_ok=True)\n",
    "if os.path.exists(datos_path / nombre_csv_proyecciones):\n",
    "    print(f\"Ya existe el archivo {nombre_csv_proyecciones} en la ruta de datos {datos_path}\")\n",
    "else:\n",
    "    ur.urlretrieve(url_proyecciones, str(datos_path / nombre_csv_proyecciones))\n",
    "\n",
    "    # Descomprimir\n",
    "    with zipfile.ZipFile(datos_path / nombre_csv_proyecciones, 'r') as file:\n",
    "        file.extract(member = \"ConDem50a19_ProyPob20a70/0_Pob_Inicio_1950_2070.xlsx\", path = datos_path)\n",
    "\n",
    "        # Movemos a la raiz de carpeta de datos\n",
    "        if not os.path.exists(datos_path / '0_Pob_Inicio_1950_2070.xlsx'):\n",
    "            os.rename(datos_path / 'ConDem50a19_ProyPob20a70/0_Pob_Inicio_1950_2070.xlsx',\n",
    "                    datos_path / '0_Pob_Inicio_1950_2070.xlsx')\n",
    "            # Removemos el folder vacío\n",
    "            os.removedirs(datos_path / \"ConDem50a19_ProyPob20a70\")\n",
    "        else:\n",
    "            print(f\"Ya existe el archivo {datos_path / '0_Pob_Inicio_1950_2070.xlsx'} en la ruta de datos {datos_path}\")\n",
    "\n",
    "    # Creamos un pequeño archivo .txt para dar detalles de la descarga\n",
    "    with open(datos_path / \"info_proyecciones.txt\", 'w') as f:\n",
    "\n",
    "        lista_archivos = [\n",
    "            \"0_Pob_Inicio_1950_2070.xlsx\"\n",
    "        ]\n",
    "\n",
    "        fecha_hoy = datetime.now()\n",
    "        fecha_hoy_str = fecha_hoy.strftime(\"%Y-%m-%d %H:%M:%S\")\n",
    "\n",
    "        f.write(\"Datos de proyección de población\\n\")\n",
    "        info = \"\"\"\n",
    "Cifras de población desde el 1950 hasta 2070, realizada por CONAPO.\n",
    "    \"\"\"\n",
    "        f.write(info + '\\n')\n",
    "        f.write(f\"Descargado el {fecha_hoy_str} \\n\")\n",
    "        f.write(f\"Desde: {url_proyecciones}\\n\")\n",
    "        f.write(\"Archivos descargados:\\n\")\n",
    "        for i, a in enumerate(lista_archivos, start=1):\n",
    "            f.write(f\"\\t{i}. {a}\")"
   ]
  },
  {
   "cell_type": "markdown",
   "metadata": {},
   "source": [
    "## 3. Comprobar descarga\n",
    "Comprobar que se han almacenado los datos"
   ]
  },
  {
   "cell_type": "code",
   "execution_count": 9,
   "metadata": {},
   "outputs": [
    {
     "name": "stdout",
     "output_type": "stream",
     "text": [
      "Archivos en la ruta data:\n",
      "1. 0_Pob_Inicio_1950_2070.xlsx\n",
      "2. datos_proyecciones.zip\n",
      "3. info_proyecciones.txt\n"
     ]
    }
   ],
   "source": [
    "print(f\"Archivos en la ruta {datos_path}:\")\n",
    "for i, f in enumerate(os.listdir(datos_path), start=1):\n",
    "    print(f\"{i}. {f}\")"
   ]
  }
 ],
 "metadata": {
  "kernelspec": {
   "display_name": "mcd",
   "language": "python",
   "name": "python3"
  },
  "language_info": {
   "codemirror_mode": {
    "name": "ipython",
    "version": 3
   },
   "file_extension": ".py",
   "mimetype": "text/x-python",
   "name": "python",
   "nbconvert_exporter": "python",
   "pygments_lexer": "ipython3",
   "version": "3.9.18"
  }
 },
 "nbformat": 4,
 "nbformat_minor": 2
}
