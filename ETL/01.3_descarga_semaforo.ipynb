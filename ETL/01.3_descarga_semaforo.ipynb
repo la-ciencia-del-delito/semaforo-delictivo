{
 "cells": [
  {
   "cell_type": "markdown",
   "metadata": {},
   "source": [
    "## Incidencia delictiva\n",
    "\n",
    "Para descargar los datos utilizaremos un pequeño `script` de Python que utiliza la libería Beautiful Soup para obtener el enlace del excel de los datos. Esto para obtener los datos más actualizados cada vez que se quiera trabajar con ellos."
   ]
  },
  {
   "cell_type": "code",
   "execution_count": 2,
   "metadata": {},
   "outputs": [],
   "source": [
    "import os\n",
    "from datetime import datetime\n",
    "import requests\n",
    "from pathlib import Path\n",
    "\n",
    "from bs4 import BeautifulSoup as bs\n",
    "import gdown"
   ]
  },
  {
   "cell_type": "markdown",
   "metadata": {},
   "source": [
    "## 1. Establecer rutas base"
   ]
  },
  {
   "cell_type": "code",
   "execution_count": 3,
   "metadata": {},
   "outputs": [
    {
     "name": "stdout",
     "output_type": "stream",
     "text": [
      "Directorio actual:\n",
      "c:\\Users\\guill\\OneDrive - Universidad de Sonora\\Maestria\\Ingenieria de Caracteristicas\\Proyectos\\semaforo-delictivo\\ETL\n"
     ]
    }
   ],
   "source": [
    "# Definamos el path base donde almacenaremos nuestros datos\n",
    "print(f\"Directorio actual:\\n{os.getcwd()}\")\n",
    "datos_path = Path(r\"./data/\") # Carpeta data desde el dir actual\n",
    "\n",
    "# El nombre con el que se almacenarán los datos\n",
    "nombre_csv_delitos = \"data_delitos.csv\"\n",
    "\n",
    "url_incidencia = r\"https://www.gob.mx/sesnsp/acciones-y-programas/datos-abiertos-de-incidencia-delictiva\""
   ]
  },
  {
   "cell_type": "markdown",
   "metadata": {},
   "source": [
    "## 2. Descarga de los datos"
   ]
  },
  {
   "cell_type": "code",
   "execution_count": 4,
   "metadata": {},
   "outputs": [],
   "source": [
    "page = requests.get(url_incidencia)\n",
    "soup = bs(page.content, 'html.parser')\n",
    "div = soup.find_all('div', class_='article-body')\n",
    "links = div[0].find_all(\"a\")\n",
    "url_delitos = links[1][\"href\"]"
   ]
  },
  {
   "cell_type": "code",
   "execution_count": 5,
   "metadata": {},
   "outputs": [
    {
     "name": "stderr",
     "output_type": "stream",
     "text": [
      "Downloading...\n",
      "From (uriginal): https://drive.google.com/uc?id=1r_D3qmptB6uuUJoVKEHfsDDdkp6HRRPz\n",
      "From (redirected): https://drive.google.com/uc?id=1r_D3qmptB6uuUJoVKEHfsDDdkp6HRRPz&confirm=t&uuid=14015f62-8c8f-4c31-872f-cf0a20851fc1\n",
      "To: c:\\Users\\guill\\OneDrive - Universidad de Sonora\\Maestria\\Ingenieria de Caracteristicas\\Proyectos\\semaforo-delictivo\\ETL\\data\\data_delitos.csv\n",
      "100%|██████████| 306M/306M [02:16<00:00, 2.23MB/s] \n"
     ]
    }
   ],
   "source": [
    "#Una vez obtenido el enlace, descargar archivo con gdown\n",
    "if os.path.exists(datos_path / nombre_csv_delitos):\n",
    "    print(f\"Ya existe el archivo {nombre_csv_delitos} en la ruta de datos {datos_path}\")\n",
    "else:\n",
    "    gdown.download(url_delitos, str(datos_path / nombre_csv_delitos), fuzzy=True)\n",
    "\n",
    "    # Creamos un pequeño archivo .txt para dar detalles de la descarga\n",
    "    with open(datos_path / \"info_03_incidencia.txt\", 'w') as f:\n",
    "\n",
    "        lista_archivos = [\n",
    "            \"info_incidencia.txt\"\n",
    "        ]\n",
    "\n",
    "        fecha_hoy = datetime.now()\n",
    "        fecha_hoy_str = fecha_hoy.strftime(\"%Y-%m-%d %H:%M:%S\")\n",
    "\n",
    "        f.write(\"Datos Abiertos de Incidencia Delictiva\\n\")\n",
    "        info = \"\"\"\n",
    "Reportes de incidencia delictiva al mes de julio 2023 (Nueva metodología).\n",
    "En esta página podrás encontrar los archivos de datos abiertos referentes\n",
    "a incidencia delictiva, así como sus diccionarios de datos.\n",
    "    \"\"\"\n",
    "        f.write(info + '\\n')\n",
    "        f.write(f\"Descargado el {fecha_hoy_str} \\n\")\n",
    "        f.write(f\"Desde: {url_incidencia}\\n\")\n",
    "        f.write(f\"Url del csv: {url_delitos} \\n\")\n",
    "        f.write(\"Archivos descargados:\\n\")\n",
    "        for i, a in enumerate(lista_archivos, start=1):\n",
    "            f.write(f\"\\t{i}. {a}\")"
   ]
  },
  {
   "cell_type": "markdown",
   "metadata": {},
   "source": [
    "## 3. Comprobar descarga\n",
    "Comprobar que se han almacenado los datos"
   ]
  },
  {
   "cell_type": "code",
   "execution_count": 6,
   "metadata": {},
   "outputs": [
    {
     "name": "stdout",
     "output_type": "stream",
     "text": [
      "Archivos en la ruta data:\n",
      "1. 0_Pob_Inicio_1950_2070.xlsx\n",
      "2. conjunto_de_datos\n",
      "3. data_delitos.csv\n",
      "4. data_mapa_mexico.zip\n",
      "5. datos_proyecciones.zip\n",
      "6. info_incidencia.txt\n",
      "7. info_mapa.txt\n",
      "8. info_proyecciones.txt\n",
      "9. percepcion\n"
     ]
    }
   ],
   "source": [
    "print(f\"Archivos en la ruta {datos_path}:\")\n",
    "for i, f in enumerate(os.listdir(datos_path), start=1):\n",
    "    print(f\"{i}. {f}\")"
   ]
  }
 ],
 "metadata": {
  "kernelspec": {
   "display_name": "mcd",
   "language": "python",
   "name": "python3"
  },
  "language_info": {
   "codemirror_mode": {
    "name": "ipython",
    "version": 3
   },
   "file_extension": ".py",
   "mimetype": "text/x-python",
   "name": "python",
   "nbconvert_exporter": "python",
   "pygments_lexer": "ipython3",
   "version": "3.11.3"
  }
 },
 "nbformat": 4,
 "nbformat_minor": 2
}
