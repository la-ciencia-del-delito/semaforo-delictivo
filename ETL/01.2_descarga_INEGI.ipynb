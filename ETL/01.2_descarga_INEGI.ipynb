{
 "cells": [
  {
   "cell_type": "markdown",
   "metadata": {},
   "source": [
    "## Encuesta de percepción de inseguridad pública (INEGI)\n",
    "\n",
    "Los datos que necesitamos se encuentran en distintos documentos de excel, así que primero descargaremos todos y despues juntaremos los datos en un solo DataFrame."
   ]
  },
  {
   "cell_type": "code",
   "execution_count": 1,
   "metadata": {},
   "outputs": [],
   "source": [
    "import os\n",
    "from pathlib import Path\n",
    "from datetime import datetime\n",
    "import urllib.request as ur"
   ]
  },
  {
   "cell_type": "markdown",
   "metadata": {},
   "source": [
    "## 1. Establecer rutas base"
   ]
  },
  {
   "cell_type": "code",
   "execution_count": 2,
   "metadata": {},
   "outputs": [
    {
     "name": "stdout",
     "output_type": "stream",
     "text": [
      "Directorio actual:\n",
      "c:\\Users\\mcd\\Desktop\\Semáforo Delitctivo\\LocalWork\\ETL\n"
     ]
    }
   ],
   "source": [
    "# Definamos el path base donde almacenaremos nuestros datos\n",
    "print(f\"Directorio actual:\\n{os.getcwd()}\")\n",
    "datos_path = Path(r\"./data/\") # Carpeta data desde el dir actual\n",
    "percepcion_path = datos_path / 'percepcion'\n",
    "\n",
    "url_base = 'https://www.inegi.org.mx/contenidos/programas/envipe/'\n",
    "urls = {\n",
    "    url_base + '2011/tabulados/IV_percepcion_inseguridad_2011_est.xlsx':'2011',\n",
    "    url_base + '2012/tabulados/V_percepcion_seguridad_2012_est.xlsx':'2012',\n",
    "    url_base + '2013/tabulados/V_percepcion_seguridad_2013_est.xlsx':'2013',\n",
    "    url_base + '2014/tabulados/V_percepcion_seguridad_2014_est.xlsx':'2014',\n",
    "    url_base + '2015/tabulados/V_percepcion_seguridad_2015_est.xlsx':'2015',\n",
    "    url_base + '2016/tabulados/V_percepcion_seguridad_2016_est.xlsx':'2016',\n",
    "    url_base + '2017/tabulados/V_percepcion_seguridad_2017_est.xlsx':'2017',\n",
    "    url_base + '2018/tabulados/V_percepcion_seguridad_2018_est.xlsx':'2018',\n",
    "    url_base + '2019/Tabulados/V_percepcion_seguridad_2019_est.xlsx':'2019',\n",
    "    url_base + '2020/Tabulados/V_percepcion_seguridad_2020_est.xlsx':'2020',\n",
    "    url_base + '2021/tabulados/V_percepcion_seguridad_2021_est.xlsx':'2021',\n",
    "    url_base + '2022/tabulados/V_percepcion_seguridad_2022_est.xlsx':'2022',\n",
    "    url_base + '2023/tabulados/V_percepcion_seguridad_2023_est.xlsx':'2023',\n",
    "}"
   ]
  },
  {
   "cell_type": "markdown",
   "metadata": {},
   "source": [
    "## 2. Descarga de los datos\n",
    "Crea un folder llamado `percepcion` ya que se descargaran bastantes archivos y no queremos tener muchos archivos sin organizar. Si la carpeta ya existe se asume que ya se descargaron los datos."
   ]
  },
  {
   "cell_type": "code",
   "execution_count": 3,
   "metadata": {},
   "outputs": [],
   "source": [
    "if os.path.exists(percepcion_path):\n",
    "  print(f\"La ruta {percepcion_path} ya existe.\")\n",
    "else:\n",
    "  percepcion_path.mkdir()\n",
    "  # Descargamos los datos de cada enlace\n",
    "  for url, anio in urls.items():\n",
    "    if not os.path.exists(percepcion_path / f'percepcion_{anio}.xlsx'):\n",
    "      ur.urlretrieve(url, percepcion_path / f'percepcion_{anio}.xlsx')\n",
    "  \n",
    "  # Creamos  archivo .txt para dar detalles de la descarga\n",
    "  with open(percepcion_path / \"info_02_percepcion.txt\", 'w') as f:\n",
    "\n",
    "      lista_archivos = ['percepcion_' + str(anio) +'.xlsx' for anio in range(2011, 2024) ]\n",
    "\n",
    "      fecha_hoy = datetime.now()\n",
    "      fecha_hoy_str = fecha_hoy.strftime(\"%Y-%m-%d %H:%M:%S\")\n",
    "\n",
    "      f.write(\"Datos de percepcion de inseguridad de mexico\\n\")\n",
    "      info = \"\"\"\n",
    "  Datos de persion de seguridad a varios niveles de México, realizados por el INEGI\n",
    "  \"\"\"\n",
    "      f.write(info + '\\n')\n",
    "      f.write(f\"Descargado el {fecha_hoy_str} \\n\")\n",
    "      f.write(f\"Desde: https://www.inegi.org.mx/contenidos/programas/envipe\\n\")\n",
    "      f.write(\"Archivos descargados:\\n\")\n",
    "      for i, a in enumerate(lista_archivos, start=1):\n",
    "          f.write(f\"\\t{i}. {a}\")"
   ]
  },
  {
   "cell_type": "markdown",
   "metadata": {},
   "source": [
    "## 3. Comprobar descarga\n",
    "Comprobar que se han almacenado los datos"
   ]
  },
  {
   "cell_type": "code",
   "execution_count": 4,
   "metadata": {},
   "outputs": [
    {
     "name": "stdout",
     "output_type": "stream",
     "text": [
      "Archivos en la ruta data\\percepcion:\n",
      "1. info_02_percepcion.txt\n",
      "2. percepcion_2011.xlsx\n",
      "3. percepcion_2012.xlsx\n",
      "4. percepcion_2013.xlsx\n",
      "5. percepcion_2014.xlsx\n",
      "6. percepcion_2015.xlsx\n",
      "7. percepcion_2016.xlsx\n",
      "8. percepcion_2017.xlsx\n",
      "9. percepcion_2018.xlsx\n",
      "10. percepcion_2019.xlsx\n",
      "11. percepcion_2020.xlsx\n",
      "12. percepcion_2021.xlsx\n",
      "13. percepcion_2022.xlsx\n",
      "14. percepcion_2023.xlsx\n"
     ]
    }
   ],
   "source": [
    "print(f\"Archivos en la ruta {percepcion_path}:\")\n",
    "for i, f in enumerate(os.listdir(percepcion_path), start=1):\n",
    "    print(f\"{i}. {f}\")"
   ]
  }
 ],
 "metadata": {
  "kernelspec": {
   "display_name": "mcd",
   "language": "python",
   "name": "python3"
  },
  "language_info": {
   "codemirror_mode": {
    "name": "ipython",
    "version": 3
   },
   "file_extension": ".py",
   "mimetype": "text/x-python",
   "name": "python",
   "nbconvert_exporter": "python",
   "pygments_lexer": "ipython3",
   "version": "3.11.3"
  }
 },
 "nbformat": 4,
 "nbformat_minor": 2
}
