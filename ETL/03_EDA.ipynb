{
 "cells": [
  {
   "cell_type": "markdown",
   "metadata": {},
   "source": [
    "# Ideas\n",
    "- Tomar los mapas (criterios de vecindad)\n",
    "    - determinar estados colindantes\n",
    "    - Delitos en ciudades fronterizas\n",
    "    - Relacionar urbano/rural con delitos      \n",
    "- Top 3 delitos por estado\n",
    "- Utilizar el indice de marginalidad (falta descarga), ver la relación con KPI\n",
    "- Relacionar fecha con num delitos, con territorio, con tipo delito\n",
    "- Observar los estados/ciudades con más narcotrafico y sus delitos\n",
    "- Evolución de los delitos en el tiempo (por año)"
   ]
  },
  {
   "cell_type": "code",
   "execution_count": null,
   "metadata": {},
   "outputs": [],
   "source": []
  },
  {
   "cell_type": "code",
   "execution_count": null,
   "metadata": {},
   "outputs": [],
   "source": []
  },
  {
   "cell_type": "code",
   "execution_count": null,
   "metadata": {},
   "outputs": [],
   "source": []
  }
 ],
 "metadata": {
  "language_info": {
   "name": "python"
  }
 },
 "nbformat": 4,
 "nbformat_minor": 2
}
