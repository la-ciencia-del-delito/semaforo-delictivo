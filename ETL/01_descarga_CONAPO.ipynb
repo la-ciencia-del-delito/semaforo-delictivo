{
 "cells": [
  {
   "cell_type": "markdown",
   "metadata": {},
   "source": [
    "## Estimación de población (CONAPO)\n",
    "\n",
    "Como se mencionó, se utilizaran las proyecciones de población realizadas por la CONAPO para estimar mejor el KPI año con año."
   ]
  },
  {
   "cell_type": "code",
   "execution_count": null,
   "metadata": {},
   "outputs": [],
   "source": []
  }
 ],
 "metadata": {
  "language_info": {
   "name": "python"
  }
 },
 "nbformat": 4,
 "nbformat_minor": 2
}
