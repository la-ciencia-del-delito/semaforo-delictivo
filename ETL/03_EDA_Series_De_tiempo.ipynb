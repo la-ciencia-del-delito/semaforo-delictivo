{
 "cells": [
  {
   "cell_type": "markdown",
   "metadata": {},
   "source": [
    "# Series de tiempo delitos"
   ]
  },
  {
   "cell_type": "markdown",
   "metadata": {},
   "source": [
    "Esta sección es para analizar como ha evolucionado el número de incidencia de delitos desde el 2015 hasta la actualidad. Ya sea que tengan una tendencia positiva, negativa o si la incidencia se encuentra estacionaria con respecto a una media."
   ]
  },
  {
   "cell_type": "code",
   "execution_count": 1,
   "metadata": {},
   "outputs": [],
   "source": [
    "import ipywidgets as widgets\n",
    "from statsmodels.tsa.stattools import kpss\n",
    "from statsmodels.tsa.stattools import adfuller\n",
    "import warnings \n",
    "import pandas as pd\n",
    "import plotly.express as px"
   ]
  },
  {
   "cell_type": "code",
   "execution_count": 2,
   "metadata": {},
   "outputs": [],
   "source": [
    "data_path = './data'\n",
    "tidy_path = data_path + '/tidy'\n",
    "semaforo = pd.read_csv(tidy_path + '/delitos_semaforo.csv', encoding = 'iso-8859-1')"
   ]
  },
  {
   "cell_type": "markdown",
   "metadata": {},
   "source": [
    "## Reacomodo de datos para series de tiempo"
   ]
  },
  {
   "cell_type": "code",
   "execution_count": 9,
   "metadata": {},
   "outputs": [],
   "source": [
    "#Creamos data frame series_delitos_filtrables con colunmas  entidad, delito_semaforo, numero de incidencias e indice fecha en datetimee\n",
    "\n",
    "meses = list(semaforo.columns[10:22])\n",
    "variables_interes =[\"anio\", 'entidad', 'delito_semaforo'] + meses\n",
    "\n",
    "series_delitos_filtrables = semaforo.groupby(['anio', 'entidad', 'delito_semaforo'])[meses].sum()\\\n",
    "    .stack()\\\n",
    "    .reset_index(drop = False)\\\n",
    "    .rename({'level_3':'mes', 0:'incidentes'}, axis = 1)\n",
    "\n",
    "#creamos indice datetime\n",
    "#funcion mes en string a mes numerico\n",
    "def mapf(mes):\n",
    "    map = dict(zip(list(semaforo.columns[10:22]), [\"01\", \"02\", \"03\", \"04\", \"05\", \"06\", \"07\", \"08\", \"09\", \"10\", \"11\", \"12\"]))\n",
    "    return map[mes]\n",
    "\n",
    "#mapeamos los meses\n",
    "series_delitos_filtrables['mes'] = series_delitos_filtrables['mes'].map(mapf)\n",
    "\n",
    "#hacemos columna fecha y quitamos columnas mes y anio\n",
    "series_delitos_filtrables['fecha'] = series_delitos_filtrables['anio'].astype('str') + \" \" + series_delitos_filtrables['mes']\n",
    "series_delitos_filtrables['fecha'] = pd.to_datetime(series_delitos_filtrables['fecha'], format = '%Y %m')\n",
    "series_delitos_filtrables.drop(columns = ['anio', 'mes'], inplace = True)\n",
    "series_delitos_filtrables.set_index('fecha', drop = True, inplace = True)\n",
    "\n",
    "#quitamos meses de octubre noviembre y diciembre 2023 por falta de datos\n",
    "meses_sin_datos = [\"2023-10-01\", \"2023-11-01\", \"2023-12-01\"]\n",
    "series_delitos_filtrables.drop(meses_sin_datos, axis = 0, inplace = True)"
   ]
  },
  {
   "cell_type": "code",
   "execution_count": null,
   "metadata": {},
   "outputs": [],
   "source": [
    "grafice interactiva con seleccion de estado y delito para ver evolución en el tiempo"
   ]
  },
  {
   "cell_type": "code",
   "execution_count": 10,
   "metadata": {},
   "outputs": [
    {
     "data": {
      "application/vnd.jupyter.widget-view+json": {
       "model_id": "431edf5e523343dda86035a83598be58",
       "version_major": 2,
       "version_minor": 0
      },
      "text/plain": [
       "interactive(children=(Dropdown(description='delito', options=('Homicidios', 'Lesiones', 'Feminicidio', 'Secues…"
      ]
     },
     "metadata": {},
     "output_type": "display_data"
    },
    {
     "data": {
      "text/plain": [
       "<function __main__.graficar(delito)>"
      ]
     },
     "execution_count": 10,
     "metadata": {},
     "output_type": "execute_result"
    }
   ],
   "source": [
    "def graficar(delito):\n",
    "    vista = series_delitos_filtrables[series_delitos_filtrables['delito_semaforo'] == delito]\n",
    "    fig = px.line(vista, x=vista.index, y='incidentes', color = 'entidad')\n",
    "    fig.update_traces(visible='legendonly')\n",
    "    fig.show()\n",
    "    \n",
    "widgets.interact(graficar, delito = semaforo.delito_semaforo.unique())"
   ]
  },
  {
   "cell_type": "code",
   "execution_count": 13,
   "metadata": {},
   "outputs": [],
   "source": [
    "def es_estacionaria(data, alpha = 0.05, regression = 'c'):\n",
    "    '''\n",
    "        dada una serie de tiempo te regresa true si es estacionaria (debil en media sin tendencia) o false si no lo es en base a los test ADF y KPSS\n",
    "    '''\n",
    "    es_estacionaria_ADF = True\n",
    "    \n",
    "    es_estacionaria_KPSS = False\n",
    "    \n",
    "    if adfuller(data, regression = regression)[1] > alpha:\n",
    "        es_estacionaria_ADF = False\n",
    "        \n",
    "    if kpss(data, regression = regression)[1] > alpha:\n",
    "        es_estacionaria_KPSS = True\n",
    "        \n",
    "    return es_estacionaria_ADF and es_estacionaria_KPSS"
   ]
  },
  {
   "cell_type": "markdown",
   "metadata": {},
   "source": [
    "Ahora vemos cuales series tienen un comportamiento estacionario.\n",
    "Recordemos que una serie estacionaria indica que conforme pasa el tiempo los valores de la serie saltan al rededor de una media con varianza finita (La varianza puede ser grande (en escala a la media)). \n",
    "En resumen, la estacionalidad indica que el delito no esta aumentando ni disminuyendo, sino estable con respecto a una media."
   ]
  },
  {
   "cell_type": "code",
   "execution_count": 6,
   "metadata": {},
   "outputs": [
    {
     "data": {
      "text/plain": [
       "[('Aguascalientes', 'Secuestros'),\n",
       " ('Baja California', 'Secuestros'),\n",
       " ('Baja California', 'Violación'),\n",
       " ('Baja California Sur', 'Lesiones'),\n",
       " ('Baja California Sur', 'Extorsión'),\n",
       " ('Baja California Sur', 'Narcomenudeo'),\n",
       " ('Campeche', 'Robo a vehículo'),\n",
       " ('Coahuila de Zaragoza', 'Violación'),\n",
       " ('Coahuila de Zaragoza', 'Extorsión'),\n",
       " ('Colima', 'Feminicidio'),\n",
       " ('Colima', 'Secuestros'),\n",
       " ('Colima', 'Robo a vehículo'),\n",
       " ('Chiapas', 'Feminicidio'),\n",
       " ('Chiapas', 'Secuestros'),\n",
       " ('Chiapas', 'Narcomenudeo'),\n",
       " ('Chihuahua', 'Extorsión'),\n",
       " ('Chihuahua', 'Narcomenudeo'),\n",
       " ('Ciudad de México', 'Extorsión'),\n",
       " ('Durango', 'Violencia familiar'),\n",
       " ('Guanajuato', 'Robo a casa'),\n",
       " ('Guerrero', 'Feminicidio'),\n",
       " ('Guerrero', 'Violación'),\n",
       " ('Hidalgo', 'Feminicidio'),\n",
       " ('Hidalgo', 'Secuestros'),\n",
       " ('Jalisco', 'Secuestros'),\n",
       " ('Jalisco', 'Extorsión'),\n",
       " ('México', 'Robo a casa'),\n",
       " ('Michoacán de Ocampo', 'Feminicidio'),\n",
       " ('Michoacán de Ocampo', 'Secuestros'),\n",
       " ('Morelos', 'Feminicidio'),\n",
       " ('Morelos', 'Robo a negocio'),\n",
       " ('Morelos', 'Narcomenudeo'),\n",
       " ('Nayarit', 'Secuestros'),\n",
       " ('Nayarit', 'Robo a vehículo'),\n",
       " ('Nuevo León', 'Robo a casa'),\n",
       " ('Oaxaca', 'Feminicidio'),\n",
       " ('Oaxaca', 'Secuestros'),\n",
       " ('Oaxaca', 'Robo a vehículo'),\n",
       " ('Puebla', 'Violación'),\n",
       " ('Puebla', 'Robo a casa'),\n",
       " ('Puebla', 'Robo a vehículo'),\n",
       " ('Puebla', 'Narcomenudeo'),\n",
       " ('Querétaro', 'Secuestros'),\n",
       " ('Querétaro', 'Robo a negocio'),\n",
       " ('San Luis Potosí', 'Extorsión'),\n",
       " ('Sonora', 'Lesiones'),\n",
       " ('Sonora', 'Feminicidio'),\n",
       " ('Sonora', 'Robo a casa'),\n",
       " ('Sonora', 'Extorsión'),\n",
       " ('Tabasco', 'Violación'),\n",
       " ('Tabasco', 'Narcomenudeo'),\n",
       " ('Tamaulipas', 'Violación'),\n",
       " ('Tamaulipas', 'Robo a negocio'),\n",
       " ('Tlaxcala', 'Violación'),\n",
       " ('Tlaxcala', 'Extorsión'),\n",
       " ('Tlaxcala', 'Violencia familiar'),\n",
       " ('Yucatán', 'Homicidios'),\n",
       " ('Yucatán', 'Feminicidio'),\n",
       " ('Yucatán', 'Secuestros'),\n",
       " ('Yucatán', 'Narcomenudeo'),\n",
       " ('Zacatecas', 'Feminicidio'),\n",
       " ('Zacatecas', 'Robo a negocio')]"
      ]
     },
     "execution_count": 6,
     "metadata": {},
     "output_type": "execute_result"
    }
   ],
   "source": [
    "#vamos a ver si hay alguna serie delito-estado estacionaria\n",
    "\n",
    "delitos = semaforo.delito_semaforo.unique()\n",
    "entidades = semaforo.entidad.unique()\n",
    "dic_estacionalidad = {}\n",
    "for entidad in entidades:\n",
    "    for delito in delitos:\n",
    "        serie_estado_delito = series_delitos_filtrables[(series_delitos_filtrables['entidad'] == entidad) & (series_delitos_filtrables['delito_semaforo'] == delito)]\n",
    "        serie_estado_delito = serie_estado_delito['incidentes']\n",
    "\n",
    "        #para no mostrar warnings\n",
    "        with warnings.catch_warnings():\n",
    "            warnings.simplefilter(\"ignore\")\n",
    "            dic_estacionalidad[(entidad, delito)] = es_estacionaria(serie_estado_delito, alpha = .07)\n",
    "      \n",
    "#Delito-entidad estacionarios\n",
    "estacionarios = [x for x in dic_estacionalidad.keys() if dic_estacionalidad[x] == True ]\n",
    "estacionarios"
   ]
  },
  {
   "cell_type": "markdown",
   "metadata": {},
   "source": [
    "## Datos a revizar en la grafica con la información de arriba\n",
    "Delitos con tendencia:\n",
    "1. Zacatecas robo a casa va a la baja,con un máximo de 102 en 2015 y alcanza una media de 42 en 2023.\n",
    "2. En cdmx robo a casa estuvieron a la alza hasta finales de 2019 (700), despues se fue a la baja manteniendose por debajo de los 361 incidentes a partir del 2020.\n",
    "   \n",
    "En contrastre, en base a las pruebas de hipotesis vemos que Puebala en robo a casa se mantiene con una media de 200 incidentes y por su parte el estado de México un con una media de 650, las cuales son evidentes viendo sus graficas.\n",
    "\n",
    "De igual manero resaltamos la tendencia a la alta de Querétaro en narcomenudeo (empezando con menos de 50 incidentes y terminando con 150 incidente) y la estacionalidad de Yucatán con una media cercana a los 23 incidentes.\n"
   ]
  }
 ],
 "metadata": {
  "kernelspec": {
   "display_name": "Python 3 (ipykernel)",
   "language": "python",
   "name": "python3"
  },
  "language_info": {
   "codemirror_mode": {
    "name": "ipython",
    "version": 3
   },
   "file_extension": ".py",
   "mimetype": "text/x-python",
   "name": "python",
   "nbconvert_exporter": "python",
   "pygments_lexer": "ipython3",
   "version": "3.10.12"
  }
 },
 "nbformat": 4,
 "nbformat_minor": 4
}
