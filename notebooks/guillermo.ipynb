{
 "cells": [
  {
   "cell_type": "markdown",
   "metadata": {},
   "source": [
    "# Libreta de Guillermo\n",
    "Se hacen pruebas sobre las distintas etapas del proyecto individualmente para después juntar lo mejor de todas\n",
    "\n",
    "Para almacenar llaves de git: `git config credential.helper store`"
   ]
  },
  {
   "cell_type": "markdown",
   "metadata": {},
   "source": [
    "# 1. Descarga de datos"
   ]
  },
  {
   "cell_type": "markdown",
   "metadata": {},
   "source": [
    "# 1.1 Utilizar la librería gdown\n",
    "\n",
    "El usuario `wkentaro` ha desarrollado una librería para descargar archivos desde un enlace de **Google Drive** utilizando Python. Puedes encontrar la librería [aquí](https://github.com/wkentaro/gdown)."
   ]
  },
  {
   "cell_type": "code",
   "execution_count": null,
   "metadata": {},
   "outputs": [],
   "source": [
    "import gdown\n",
    "\n",
    "# Muy probablemente este link cambiará cada mes, debemos obtenerlo usando alguna técnica de web scrapping\n",
    "url = r\"https://drive.google.com/file/d/1Z2DduhVJB2_JRurPW6iVhR4tsnDjNREs/view?usp=sharing\"\n",
    "output = \"../data/datos-semaforo.zip\"\n",
    "gdown.download(url, output, quiet=False, fuzzy=True)"
   ]
  },
  {
   "cell_type": "markdown",
   "metadata": {},
   "source": [
    "# 1.2 Hacer unzip al archivo"
   ]
  },
  {
   "cell_type": "code",
   "execution_count": 6,
   "metadata": {},
   "outputs": [
    {
     "name": "stdout",
     "output_type": "stream",
     "text": [
      "Archivos en el directorio actual \n",
      " (c:\\Users\\Guillermo\\OneDrive - Universidad de Sonora (1)\\Maestria\\Ingenieria de Caracteristicas\\Proyectos\\proyecto1_semaforo-delictivo\\semaforo-delictivo\\notebooks): \n",
      "['guillermo.ipynb']\n"
     ]
    }
   ],
   "source": [
    "import os\n",
    "from pathlib import Path\n",
    "import zipfile\n",
    "\n",
    "ruta_data = Path(r\"../data/\")\n",
    "\n",
    "print(f\"Archivos en el directorio actual \\n ({os.getcwd()}): \\n{os.listdir()}\")\n",
    "\n",
    "with zipfile.ZipFile(ruta_data / \"datos-semaforo.zip\", 'r') as zip_ref:\n",
    "    zip_ref.extractall(ruta_data)"
   ]
  },
  {
   "cell_type": "markdown",
   "metadata": {},
   "source": [
    "# 2. Transformación de los datos"
   ]
  },
  {
   "cell_type": "markdown",
   "metadata": {},
   "source": [
    "# 3. Propuesta de nuevo semáforo delictivo"
   ]
  }
 ],
 "metadata": {
  "kernelspec": {
   "display_name": "mcd",
   "language": "python",
   "name": "python3"
  },
  "language_info": {
   "codemirror_mode": {
    "name": "ipython",
    "version": 3
   },
   "file_extension": ".py",
   "mimetype": "text/x-python",
   "name": "python",
   "nbconvert_exporter": "python",
   "pygments_lexer": "ipython3",
   "version": "3.9.17"
  },
  "orig_nbformat": 4
 },
 "nbformat": 4,
 "nbformat_minor": 2
}
