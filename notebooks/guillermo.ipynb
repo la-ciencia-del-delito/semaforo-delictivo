{
 "cells": [
  {
   "cell_type": "markdown",
   "metadata": {},
   "source": [
    "# Libreta de Guillermo\n",
    "Se hacen pruebas sobre las distintas etapas del proyecto individualmente para después juntar lo mejor de todas\n",
    "\n",
    "Para almacenar llaves de git: `git config credential.helper store`"
   ]
  },
  {
   "cell_type": "markdown",
   "metadata": {},
   "source": [
    "# 1. Descarga de datos"
   ]
  },
  {
   "cell_type": "markdown",
   "metadata": {},
   "source": [
    "## 1.x Obtener el enlace usando BeautifulSoup"
   ]
  },
  {
   "cell_type": "code",
   "execution_count": 1,
   "metadata": {},
   "outputs": [],
   "source": [
    "from bs4 import BeautifulSoup as bs\n",
    "import requests"
   ]
  },
  {
   "cell_type": "code",
   "execution_count": 2,
   "metadata": {},
   "outputs": [],
   "source": [
    "# Muy probablemente este link cambiará cada mes, debemos obtenerlo usando alguna técnica de web scrapping\n",
    "url_general = r\"https://www.gob.mx/sesnsp/acciones-y-programas/datos-abiertos-de-incidencia-delictiva\"\n",
    "page = requests.get(url_general)\n",
    "soup = bs(page.content, 'html.parser')"
   ]
  },
  {
   "cell_type": "code",
   "execution_count": 4,
   "metadata": {},
   "outputs": [
    {
     "name": "stdout",
     "output_type": "stream",
     "text": [
      "[<div class=\"article-body\"><h3>Reportes de incidencia delictiva al mes de julio 2023 (Nueva metodología).</h3>\n",
      "<p><em>fecha de actualización: 20 de agosto de 2023</em></p>\n",
      "<ul>\n",
      "<li><a href=\"https://drive.google.com/file/d/1C59VnSVQ9l8BIGAwcYkx1a1srhnIEKf1/view?usp=sharing\">Cifras de Incidencia Delictiva Estatal, 2015 - julio  2023</a></li>\n",
      "<li><a href=\"https://drive.google.com/file/d/1JQI38_raLzmIRT0lvf01BkQayz-xubm-/view?usp=sharing\">Cifras de Incidencia Delictiva Municipal, 2015 - julio 2023. </a><strong>Importante: </strong>Debido al tamaño del archivo este no puede ser cargado en una hoja de cálculo (Excel o Calc), para descargar los archivos compatibles con estos programas utilice el siguiente enlace:   <a href=\"https://drive.google.com/file/d/1Z2DduhVJB2_JRurPW6iVhR4tsnDjNREs/view?usp=sharing\">https://drive.google.com/file/d/1Z2DduhVJB2_JRurPW6iVhR4tsnDjNREs/view?usp=sharing</a></li>\n",
      "<li><a href=\"https://drive.google.com/file/d/1rXHjOxSXeTJhOwoDb6fdar_YApa7Pe43/view?usp=sharing\">Cifras de Víctimas del Fuero Común, 2015 - julio 2023</a></li>\n",
      "<li><a href=\"https://drive.google.com/file/d/17tCln7WfBE4O3Ullv1q3AJYmvxehotC-/view?usp=sharing\">Cifras de Incidencia Delictiva Federal, 2012 - julio 2023</a></li>\n",
      "</ul>\n",
      "<h3>Reportes de incidencia delictiva al mes de diciembre 2017 (Metodología anterior).</h3>\n",
      "<p><em>fecha de actualización: 20 de julio de 2022</em></p>\n",
      "<ul>\n",
      "<li><a href=\"https://drive.google.com/file/d/1Y_hJxiS0cbCh9j0q6ufiTfzBmzzAdXw7/view?usp=sharing\">Cifras de Incidencia Delictiva Estatal, 1997 - diciembre 2017</a></li>\n",
      "<li><a href=\"https://drive.google.com/file/d/1zZrm3iRmsQ84kcoD-4hIs3J_TZoicMR6/view?usp=sharing\">Cifras de Incidencia Delictiva Municipal, 2011 - diciembre 2017</a></li>\n",
      "<li><a href=\"https://drive.google.com/file/d/1ttsCR05yvRHlU6VKCSnuMWXNMOVEvb_e/view?usp=sharing\">Cifras de Víctimas del Fuero Común, 2014 - diciembre 2017</a></li>\n",
      "</ul>\n",
      "<h3>Diccionarios de datos de reportes de incidencia delictiva</h3>\n",
      "<ul>\n",
      "<li><a href=\"https://drive.google.com/open?id=1rfvgcAcEzLR1Q44wwjZhjBvBFjtGSmX3\">Diccionarios de datos de reportes de incidencia delictiva</a></li>\n",
      "</ul>\n",
      "<p><a href=\"https://www.gob.mx/sesnsp/acciones-y-programas/incidencia-delictiva-299891?state=published\"><strong>Regresar al menú principal de Incidencia Delictiva</strong></a></p>\n",
      "</div>]\n"
     ]
    }
   ],
   "source": [
    "div = soup.find_all('div', class_='article-body')\n",
    "print(div)"
   ]
  },
  {
   "cell_type": "code",
   "execution_count": 5,
   "metadata": {},
   "outputs": [
    {
     "name": "stdout",
     "output_type": "stream",
     "text": [
      "https://drive.google.com/file/d/1JQI38_raLzmIRT0lvf01BkQayz-xubm-/view?usp=sharing\n"
     ]
    }
   ],
   "source": [
    "links = div[0].find_all(\"a\")\n",
    "print(links[1][\"href\"])\n",
    "url = links[1][\"href\"]"
   ]
  },
  {
   "cell_type": "markdown",
   "metadata": {},
   "source": [
    "## 1.1 Utilizar la librería gdown\n",
    "\n",
    "El usuario `wkentaro` ha desarrollado una librería para descargar archivos desde un enlace de **Google Drive** utilizando Python. Puedes encontrar la librería [aquí](https://github.com/wkentaro/gdown)."
   ]
  },
  {
   "cell_type": "code",
   "execution_count": 6,
   "metadata": {},
   "outputs": [
    {
     "name": "stderr",
     "output_type": "stream",
     "text": [
      "Downloading...\n",
      "From (uriginal): https://drive.google.com/uc?id=1JQI38_raLzmIRT0lvf01BkQayz-xubm-\n",
      "From (redirected): https://drive.google.com/uc?id=1JQI38_raLzmIRT0lvf01BkQayz-xubm-&confirm=t&uuid=c9cb20de-c3bd-480d-988d-740ce0915d0f\n",
      "To: c:\\Users\\Guillermo\\OneDrive - Universidad de Sonora (1)\\Maestria\\Ingenieria de Caracteristicas\\Proyectos\\proyecto1_semaforo-delictivo\\semaforo-delictivo\\data\\datos.csv\n",
      "100%|██████████| 305M/305M [00:08<00:00, 37.0MB/s] \n"
     ]
    },
    {
     "data": {
      "text/plain": [
       "'..\\\\data\\\\datos.csv'"
      ]
     },
     "execution_count": 6,
     "metadata": {},
     "output_type": "execute_result"
    }
   ],
   "source": [
    "import gdown\n",
    "import os\n",
    "from pathlib import Path\n",
    "from datetime import datetime\n",
    "\n",
    "# agregar ?usp=sharing\n",
    "# url = r\"https://drive.google.com/file/d/1Z2DduhVJB2_JRurPW6iVhR4tsnDjNREs/view?usp=sharing\"\n",
    "# url = r\"https://drive.google.com/file/d/1JQI38_raLzmIRT0lvf01BkQayz-xubm-/view?usp=sharing\"\n",
    "ruta_data=  Path(\"../data/\")\n",
    "nombre_csv = Path(\"datos.csv\")\n",
    "output = ruta_data / nombre_csv\n",
    "gdown.download(url, str(output), quiet=False, fuzzy=True)"
   ]
  },
  {
   "cell_type": "code",
   "execution_count": 7,
   "metadata": {},
   "outputs": [
    {
     "data": {
      "text/plain": [
       "(2075738, 21)"
      ]
     },
     "execution_count": 7,
     "metadata": {},
     "output_type": "execute_result"
    }
   ],
   "source": [
    "import pandas as pd\n",
    "df = pd.read_csv(output, encoding='latin-1')\n",
    "df.shape"
   ]
  },
  {
   "cell_type": "markdown",
   "metadata": {},
   "source": [
    "# 1.2 Hacer unzip al archivo"
   ]
  },
  {
   "cell_type": "code",
   "execution_count": 12,
   "metadata": {},
   "outputs": [],
   "source": [
    "# ruta_data = Path(r\"../data/\")\n",
    "\n",
    "# print(f\"Archivos en el directorio actual: \\n{os.listdir()}\")\n",
    "\n",
    "# with zipfile.ZipFile(ruta_data / nombre_zip, 'r') as zip_ref:\n",
    "#     zip_ref.extractall(ruta_data)"
   ]
  },
  {
   "cell_type": "code",
   "execution_count": 8,
   "metadata": {},
   "outputs": [
    {
     "name": "stdout",
     "output_type": "stream",
     "text": [
      "Files: ['datos.csv']\n"
     ]
    }
   ],
   "source": [
    "files = os.listdir(ruta_data)\n",
    "print(f\"Files: {files}\")"
   ]
  },
  {
   "cell_type": "markdown",
   "metadata": {},
   "source": [
    "## 1.x Crear archivo `info.txt`"
   ]
  },
  {
   "cell_type": "code",
   "execution_count": 9,
   "metadata": {},
   "outputs": [],
   "source": [
    "with open(ruta_data / \"info.txt\", 'w') as f:\n",
    "\n",
    "    fecha_hoy = datetime.now()\n",
    "    fecha_hoy_str = fecha_hoy.strftime(\"%Y-%m-%d %H:%M:%S\")\n",
    "\n",
    "    f.write(\"Datos Abiertos de Incidencia Delictiva\\n\")\n",
    "    info = \"\"\"\n",
    "Reportes de incidencia delictiva al mes de julio 2023 (Nueva metodología).\n",
    "En esta página podrás encontrar los archivos de datos abiertos referentes \n",
    "a incidencia delictiva, así como sus diccionarios de datos.\n",
    "\"\"\"\n",
    "    f.write(info + '\\n')\n",
    "    f.write(f\"Descargado el {fecha_hoy_str} \\n\")\n",
    "    f.write(f\"Desde: {url_general}\\n\")\n",
    "    f.write(f\"Url del csv: {url} \\n\")\n",
    "    f.write(\"Nombre de los arcivos: \\n\")\n",
    "    for i, file in enumerate(files, start=1):\n",
    "        f.write(f\"{i}. {file} \\n\")"
   ]
  },
  {
   "cell_type": "markdown",
   "metadata": {},
   "source": [
    "# 2. Transformación de los datos"
   ]
  },
  {
   "cell_type": "markdown",
   "metadata": {},
   "source": [
    "# 3. Propuesta de nuevo semáforo delictivo"
   ]
  }
 ],
 "metadata": {
  "kernelspec": {
   "display_name": "mcd",
   "language": "python",
   "name": "python3"
  },
  "language_info": {
   "codemirror_mode": {
    "name": "ipython",
    "version": 3
   },
   "file_extension": ".py",
   "mimetype": "text/x-python",
   "name": "python",
   "nbconvert_exporter": "python",
   "pygments_lexer": "ipython3",
   "version": "3.9.17"
  },
  "orig_nbformat": 4
 },
 "nbformat": 4,
 "nbformat_minor": 2
}
